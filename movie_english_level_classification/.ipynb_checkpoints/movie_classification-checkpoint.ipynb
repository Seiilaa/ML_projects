{
 "cells": [
  {
   "cell_type": "markdown",
   "id": "7aa78949-5654-4ee5-a0df-6629a8020238",
   "metadata": {},
   "source": [
    "# Movie English level classification problem"
   ]
  },
  {
   "cell_type": "markdown",
   "id": "127e4d72-ba24-4dc7-97f6-303cecf97341",
   "metadata": {},
   "source": [
    "# Get the packages and data"
   ]
  },
  {
   "cell_type": "code",
   "execution_count": 1,
   "id": "bce88f9d-87c4-444d-9e52-777d33a9aaa1",
   "metadata": {},
   "outputs": [
    {
     "name": "stderr",
     "output_type": "stream",
     "text": [
      "[nltk_data] Downloading package stopwords to\n",
      "[nltk_data]     C:\\Users\\Admin\\AppData\\Roaming\\nltk_data...\n",
      "[nltk_data]   Package stopwords is already up-to-date!\n",
      "[nltk_data] Downloading package wordnet to\n",
      "[nltk_data]     C:\\Users\\Admin\\AppData\\Roaming\\nltk_data...\n",
      "[nltk_data]   Package wordnet is already up-to-date!\n",
      "[nltk_data] Downloading package omw-1.4 to\n",
      "[nltk_data]     C:\\Users\\Admin\\AppData\\Roaming\\nltk_data...\n",
      "[nltk_data]   Package omw-1.4 is already up-to-date!\n"
     ]
    }
   ],
   "source": [
    "import pandas as pd\n",
    "import numpy as np\n",
    "import pysubs2\n",
    "import re\n",
    "\n",
    "from pathlib import Path\n",
    "import pickle\n",
    "\n",
    "from sklearn.feature_extraction.text import TfidfVectorizer, CountVectorizer\n",
    "from sklearn.model_selection import train_test_split, GridSearchCV\n",
    "from sklearn.linear_model import LogisticRegression\n",
    "from sklearn.preprocessing import LabelEncoder\n",
    "from sklearn.metrics import plot_confusion_matrix, f1_score, make_scorer\n",
    "from sklearn.ensemble import RandomForestClassifier\n",
    "from sklearn.utils import shuffle\n",
    "\n",
    "import xgboost as xgb\n",
    "from nltk.corpus import stopwords \n",
    "\n",
    "import nltk\n",
    "from nltk.stem import WordNetLemmatizer\n",
    "nltk.download('stopwords')\n",
    "nltk.download('wordnet')\n",
    "nltk.download('omw-1.4')\n",
    "\n",
    "import warnings\n",
    "warnings.filterwarnings('ignore')"
   ]
  },
  {
   "cell_type": "code",
   "execution_count": 2,
   "id": "75e643c1-76b6-4a43-9776-39ab591909ad",
   "metadata": {},
   "outputs": [],
   "source": [
    "random_state = 4224"
   ]
  },
  {
   "cell_type": "code",
   "execution_count": 3,
   "id": "ecff824c-9747-444b-b131-dbb13627788f",
   "metadata": {},
   "outputs": [],
   "source": [
    "path = 'C:/Users/Admin/Documents/GitHub/ML_projects/movie_english_level_classification/data/labels.csv'\n",
    "labels = pd.read_csv(path)"
   ]
  },
  {
   "cell_type": "code",
   "execution_count": 4,
   "id": "84d200f8-416e-4714-a0f1-4620d0a254e3",
   "metadata": {
    "tags": []
   },
   "outputs": [
    {
     "data": {
      "text/html": [
       "<div>\n",
       "<style scoped>\n",
       "    .dataframe tbody tr th:only-of-type {\n",
       "        vertical-align: middle;\n",
       "    }\n",
       "\n",
       "    .dataframe tbody tr th {\n",
       "        vertical-align: top;\n",
       "    }\n",
       "\n",
       "    .dataframe thead th {\n",
       "        text-align: right;\n",
       "    }\n",
       "</style>\n",
       "<table border=\"1\" class=\"dataframe\">\n",
       "  <thead>\n",
       "    <tr style=\"text-align: right;\">\n",
       "      <th></th>\n",
       "      <th>Movie</th>\n",
       "      <th>Kinopoisk</th>\n",
       "      <th>Level</th>\n",
       "      <th>Subtitles</th>\n",
       "    </tr>\n",
       "  </thead>\n",
       "  <tbody>\n",
       "    <tr>\n",
       "      <th>0</th>\n",
       "      <td>Forrest Gump</td>\n",
       "      <td>Rus sub</td>\n",
       "      <td>A2/A2+, B1</td>\n",
       "      <td>Yes</td>\n",
       "    </tr>\n",
       "    <tr>\n",
       "      <th>1</th>\n",
       "      <td>Finding Nemo\\n</td>\n",
       "      <td>Everything</td>\n",
       "      <td>A2/A2+</td>\n",
       "      <td>Yes</td>\n",
       "    </tr>\n",
       "    <tr>\n",
       "      <th>2</th>\n",
       "      <td>Cast away\\n</td>\n",
       "      <td>Paid, Rus sub</td>\n",
       "      <td>A2/A2+</td>\n",
       "      <td>Yes</td>\n",
       "    </tr>\n",
       "    <tr>\n",
       "      <th>3</th>\n",
       "      <td>The invisible man (2020)\\n</td>\n",
       "      <td>Paid, Rus lan</td>\n",
       "      <td>A2/A2+</td>\n",
       "      <td>Yes</td>\n",
       "    </tr>\n",
       "    <tr>\n",
       "      <th>4</th>\n",
       "      <td>Back to the future\\n</td>\n",
       "      <td>Rus sub</td>\n",
       "      <td>A2/A2+</td>\n",
       "      <td>Yes</td>\n",
       "    </tr>\n",
       "    <tr>\n",
       "      <th>...</th>\n",
       "      <td>...</td>\n",
       "      <td>...</td>\n",
       "      <td>...</td>\n",
       "      <td>...</td>\n",
       "    </tr>\n",
       "    <tr>\n",
       "      <th>83</th>\n",
       "      <td>The Walking Dead  (series)🧟</td>\n",
       "      <td>NaN</td>\n",
       "      <td>A2/A2+</td>\n",
       "      <td>No</td>\n",
       "    </tr>\n",
       "    <tr>\n",
       "      <th>84</th>\n",
       "      <td>The fault in our stars 😭</td>\n",
       "      <td>NaN</td>\n",
       "      <td>A2/A2+, B1</td>\n",
       "      <td>Yes</td>\n",
       "    </tr>\n",
       "    <tr>\n",
       "      <th>85</th>\n",
       "      <td>10 Cloverfield Lane</td>\n",
       "      <td>NaN</td>\n",
       "      <td>B1</td>\n",
       "      <td>Yes</td>\n",
       "    </tr>\n",
       "    <tr>\n",
       "      <th>86</th>\n",
       "      <td>Lion</td>\n",
       "      <td>NaN</td>\n",
       "      <td>B1, B2</td>\n",
       "      <td>Yes</td>\n",
       "    </tr>\n",
       "    <tr>\n",
       "      <th>87</th>\n",
       "      <td>House of Gucci</td>\n",
       "      <td>NaN</td>\n",
       "      <td>B2</td>\n",
       "      <td>Yes</td>\n",
       "    </tr>\n",
       "  </tbody>\n",
       "</table>\n",
       "<p>88 rows × 4 columns</p>\n",
       "</div>"
      ],
      "text/plain": [
       "                          Movie     Kinopoisk        Level Subtitles\n",
       "0                  Forrest Gump        Rus sub  A2/A2+, B1       Yes\n",
       "1                Finding Nemo\\n     Everything      A2/A2+       Yes\n",
       "2                   Cast away\\n  Paid, Rus sub      A2/A2+       Yes\n",
       "3    The invisible man (2020)\\n  Paid, Rus lan      A2/A2+       Yes\n",
       "4          Back to the future\\n        Rus sub      A2/A2+       Yes\n",
       "..                          ...            ...         ...       ...\n",
       "83  The Walking Dead  (series)🧟            NaN      A2/A2+        No\n",
       "84     The fault in our stars 😭            NaN  A2/A2+, B1       Yes\n",
       "85          10 Cloverfield Lane            NaN          B1       Yes\n",
       "86                         Lion            NaN      B1, B2       Yes\n",
       "87               House of Gucci            NaN          B2       Yes\n",
       "\n",
       "[88 rows x 4 columns]"
      ]
     },
     "execution_count": 4,
     "metadata": {},
     "output_type": "execute_result"
    }
   ],
   "source": [
    "labels"
   ]
  },
  {
   "cell_type": "markdown",
   "id": "2ea5fdbf-94e7-448b-ac65-4efdd99b532c",
   "metadata": {},
   "source": [
    "## Get the text data from the movies"
   ]
  },
  {
   "cell_type": "code",
   "execution_count": 5,
   "id": "b35fb56a-9d59-4553-9a01-e51e3838e75a",
   "metadata": {},
   "outputs": [],
   "source": [
    "p = Path(\"C:/Users/Admin/Documents/GitHub/ML_projects/movie_english_level_classification/data/Subtitles/\")\n",
    "\n",
    "subs_paths = []\n",
    "\n",
    "for i in p.rglob(\"*\"):\n",
    "    subs_paths.append(i)"
   ]
  },
  {
   "cell_type": "code",
   "execution_count": 6,
   "id": "4bd2f300-b660-4f9f-a567-6472e51cc922",
   "metadata": {},
   "outputs": [],
   "source": [
    "def get_movie_title(sub_path):\n",
    "    path = str(sub_path)\n",
    "    # index of first letter of the movie title\n",
    "    start_index = str(path).rindex('\\\\') + 1\n",
    "    # index of the year of the movie\n",
    "    end_index = str(path).rindex('(')\n",
    "    \n",
    "    movie_name = path[start_index:end_index]\n",
    "    movie_name = movie_name.replace('_', ' ')\n",
    "    \n",
    "    return movie_name"
   ]
  },
  {
   "cell_type": "code",
   "execution_count": 7,
   "id": "1706be6f-6733-40b7-975b-a88d66b075b4",
   "metadata": {},
   "outputs": [],
   "source": [
    "stemmer = WordNetLemmatizer()\n",
    "\n",
    "movies = []\n",
    "movie_titles = []\n",
    "\n",
    "for i in subs_paths:\n",
    "    try: \n",
    "        subs = pysubs2.load(i)\n",
    "        subs = pysubs2.load(i)\n",
    "\n",
    "        movie_subs = []\n",
    "\n",
    "        for line in subs:\n",
    "            line = line.plaintext\n",
    "            # remove sound transcriptions. Looks like \"(TEXT)\"\"\n",
    "            if len(line) == 0:\n",
    "                continue\n",
    "            if line[0] == '(' and line[-1] == ')':\n",
    "                continue\n",
    "            if line[0] == '-':\n",
    "                continue\n",
    "            if line.isnumeric():\n",
    "                continue\n",
    "            # Remove special characters\n",
    "            line = re.sub(r'\\W', ' ', line)\n",
    "            # remove all single characters\n",
    "            line = re.sub(r'\\s+[a-zA-Z]\\s+', ' ', line)\n",
    "            # Substituting multiple spaces with single space\n",
    "            line = re.sub(r'\\s+', ' ', line, flags=re.I)\n",
    "\n",
    "            line = line.split()\n",
    "            # Remove upper case words\n",
    "            line = [word for word in line if word!=word.upper() and len(word)>1]\n",
    "            line = [stemmer.lemmatize(word) for word in line]\n",
    "            line = ' '.join(line)\n",
    "\n",
    "            movie_subs.append(line)\n",
    "\n",
    "        movie_subs = ','.join(movie_subs)\n",
    "    \n",
    "        movies.append(movie_subs)\n",
    "        movie_titles.append(get_movie_title(i))\n",
    "    except:\n",
    "        continue"
   ]
  },
  {
   "cell_type": "code",
   "execution_count": 8,
   "id": "df6dbec8-265d-4fb8-944c-1d8d3ca265c9",
   "metadata": {},
   "outputs": [
    {
     "data": {
      "text/plain": [
       "'Fixed Synced by bozxphd Enjoy The Flick,Michelle please don hang up,Just talk to me okay can believe'"
      ]
     },
     "execution_count": 8,
     "metadata": {},
     "output_type": "execute_result"
    }
   ],
   "source": [
    "movies[0][:100]"
   ]
  },
  {
   "cell_type": "code",
   "execution_count": 9,
   "id": "abee63b4-173c-478b-8eed-3a6607afab85",
   "metadata": {},
   "outputs": [],
   "source": [
    "movies_df = pd.DataFrame(list(zip(movie_titles, movies)),\n",
    "                         columns=[ 'name', 'subtitles'])"
   ]
  },
  {
   "cell_type": "code",
   "execution_count": 10,
   "id": "be764048-711e-48d0-9619-fd147d32de89",
   "metadata": {},
   "outputs": [
    {
     "data": {
      "text/html": [
       "<div>\n",
       "<style scoped>\n",
       "    .dataframe tbody tr th:only-of-type {\n",
       "        vertical-align: middle;\n",
       "    }\n",
       "\n",
       "    .dataframe tbody tr th {\n",
       "        vertical-align: top;\n",
       "    }\n",
       "\n",
       "    .dataframe thead th {\n",
       "        text-align: right;\n",
       "    }\n",
       "</style>\n",
       "<table border=\"1\" class=\"dataframe\">\n",
       "  <thead>\n",
       "    <tr style=\"text-align: right;\">\n",
       "      <th></th>\n",
       "      <th>name</th>\n",
       "      <th>subtitles</th>\n",
       "    </tr>\n",
       "  </thead>\n",
       "  <tbody>\n",
       "    <tr>\n",
       "      <th>0</th>\n",
       "      <td>10 Cloverfield lane</td>\n",
       "      <td>Fixed Synced by bozxphd Enjoy The Flick,Michel...</td>\n",
       "    </tr>\n",
       "    <tr>\n",
       "      <th>1</th>\n",
       "      <td>10 things I hate about you</td>\n",
       "      <td>Hey,ll be right with you,So Cameron Here you g...</td>\n",
       "    </tr>\n",
       "    <tr>\n",
       "      <th>2</th>\n",
       "      <td>Aladdin</td>\n",
       "      <td>Oh come from land From faraway place,Where the...</td>\n",
       "    </tr>\n",
       "    <tr>\n",
       "      <th>3</th>\n",
       "      <td>All dogs go to heaven</td>\n",
       "      <td>,,Itchy,few more degree to the left,Now,Tap,No...</td>\n",
       "    </tr>\n",
       "    <tr>\n",
       "      <th>4</th>\n",
       "      <td>An American tail</td>\n",
       "      <td>Tanya Fievel,Will you stop that twirling twirl...</td>\n",
       "    </tr>\n",
       "    <tr>\n",
       "      <th>...</th>\n",
       "      <td>...</td>\n",
       "      <td>...</td>\n",
       "    </tr>\n",
       "    <tr>\n",
       "      <th>81</th>\n",
       "      <td>Twilight</td>\n",
       "      <td>never given much thought to how would die,But ...</td>\n",
       "    </tr>\n",
       "    <tr>\n",
       "      <th>82</th>\n",
       "      <td>Up</td>\n",
       "      <td>Movietown News present Spotlight on Adventure,...</td>\n",
       "    </tr>\n",
       "    <tr>\n",
       "      <th>83</th>\n",
       "      <td>Venom</td>\n",
       "      <td>Life Foundation Control this is,The specimen a...</td>\n",
       "    </tr>\n",
       "    <tr>\n",
       "      <th>84</th>\n",
       "      <td>Warm bodies</td>\n",
       "      <td>What am doing with my life,so pale should get ...</td>\n",
       "    </tr>\n",
       "    <tr>\n",
       "      <th>85</th>\n",
       "      <td>We are the Millers</td>\n",
       "      <td>Oh my God,it full on double rainbow all the wa...</td>\n",
       "    </tr>\n",
       "  </tbody>\n",
       "</table>\n",
       "<p>86 rows × 2 columns</p>\n",
       "</div>"
      ],
      "text/plain": [
       "                          name  \\\n",
       "0          10 Cloverfield lane   \n",
       "1   10 things I hate about you   \n",
       "2                      Aladdin   \n",
       "3        All dogs go to heaven   \n",
       "4             An American tail   \n",
       "..                         ...   \n",
       "81                    Twilight   \n",
       "82                          Up   \n",
       "83                       Venom   \n",
       "84                 Warm bodies   \n",
       "85          We are the Millers   \n",
       "\n",
       "                                            subtitles  \n",
       "0   Fixed Synced by bozxphd Enjoy The Flick,Michel...  \n",
       "1   Hey,ll be right with you,So Cameron Here you g...  \n",
       "2   Oh come from land From faraway place,Where the...  \n",
       "3   ,,Itchy,few more degree to the left,Now,Tap,No...  \n",
       "4   Tanya Fievel,Will you stop that twirling twirl...  \n",
       "..                                                ...  \n",
       "81  never given much thought to how would die,But ...  \n",
       "82  Movietown News present Spotlight on Adventure,...  \n",
       "83  Life Foundation Control this is,The specimen a...  \n",
       "84  What am doing with my life,so pale should get ...  \n",
       "85  Oh my God,it full on double rainbow all the wa...  \n",
       "\n",
       "[86 rows x 2 columns]"
      ]
     },
     "execution_count": 10,
     "metadata": {},
     "output_type": "execute_result"
    }
   ],
   "source": [
    "movies_df"
   ]
  },
  {
   "cell_type": "code",
   "execution_count": 11,
   "id": "2b254463-e05f-422a-a50a-7420ca412b75",
   "metadata": {},
   "outputs": [
    {
     "data": {
      "text/html": [
       "<div>\n",
       "<style scoped>\n",
       "    .dataframe tbody tr th:only-of-type {\n",
       "        vertical-align: middle;\n",
       "    }\n",
       "\n",
       "    .dataframe tbody tr th {\n",
       "        vertical-align: top;\n",
       "    }\n",
       "\n",
       "    .dataframe thead th {\n",
       "        text-align: right;\n",
       "    }\n",
       "</style>\n",
       "<table border=\"1\" class=\"dataframe\">\n",
       "  <thead>\n",
       "    <tr style=\"text-align: right;\">\n",
       "      <th></th>\n",
       "      <th>Movie</th>\n",
       "      <th>Kinopoisk</th>\n",
       "      <th>Level</th>\n",
       "      <th>Subtitles</th>\n",
       "    </tr>\n",
       "  </thead>\n",
       "  <tbody>\n",
       "    <tr>\n",
       "      <th>0</th>\n",
       "      <td>Forrest Gump</td>\n",
       "      <td>Rus sub</td>\n",
       "      <td>A2/A2+, B1</td>\n",
       "      <td>Yes</td>\n",
       "    </tr>\n",
       "    <tr>\n",
       "      <th>1</th>\n",
       "      <td>Finding Nemo\\n</td>\n",
       "      <td>Everything</td>\n",
       "      <td>A2/A2+</td>\n",
       "      <td>Yes</td>\n",
       "    </tr>\n",
       "    <tr>\n",
       "      <th>2</th>\n",
       "      <td>Cast away\\n</td>\n",
       "      <td>Paid, Rus sub</td>\n",
       "      <td>A2/A2+</td>\n",
       "      <td>Yes</td>\n",
       "    </tr>\n",
       "    <tr>\n",
       "      <th>3</th>\n",
       "      <td>The invisible man (2020)\\n</td>\n",
       "      <td>Paid, Rus lan</td>\n",
       "      <td>A2/A2+</td>\n",
       "      <td>Yes</td>\n",
       "    </tr>\n",
       "    <tr>\n",
       "      <th>4</th>\n",
       "      <td>Back to the future\\n</td>\n",
       "      <td>Rus sub</td>\n",
       "      <td>A2/A2+</td>\n",
       "      <td>Yes</td>\n",
       "    </tr>\n",
       "    <tr>\n",
       "      <th>...</th>\n",
       "      <td>...</td>\n",
       "      <td>...</td>\n",
       "      <td>...</td>\n",
       "      <td>...</td>\n",
       "    </tr>\n",
       "    <tr>\n",
       "      <th>83</th>\n",
       "      <td>The Walking Dead  (series)🧟</td>\n",
       "      <td>NaN</td>\n",
       "      <td>A2/A2+</td>\n",
       "      <td>No</td>\n",
       "    </tr>\n",
       "    <tr>\n",
       "      <th>84</th>\n",
       "      <td>The fault in our stars 😭</td>\n",
       "      <td>NaN</td>\n",
       "      <td>A2/A2+, B1</td>\n",
       "      <td>Yes</td>\n",
       "    </tr>\n",
       "    <tr>\n",
       "      <th>85</th>\n",
       "      <td>10 Cloverfield Lane</td>\n",
       "      <td>NaN</td>\n",
       "      <td>B1</td>\n",
       "      <td>Yes</td>\n",
       "    </tr>\n",
       "    <tr>\n",
       "      <th>86</th>\n",
       "      <td>Lion</td>\n",
       "      <td>NaN</td>\n",
       "      <td>B1, B2</td>\n",
       "      <td>Yes</td>\n",
       "    </tr>\n",
       "    <tr>\n",
       "      <th>87</th>\n",
       "      <td>House of Gucci</td>\n",
       "      <td>NaN</td>\n",
       "      <td>B2</td>\n",
       "      <td>Yes</td>\n",
       "    </tr>\n",
       "  </tbody>\n",
       "</table>\n",
       "<p>88 rows × 4 columns</p>\n",
       "</div>"
      ],
      "text/plain": [
       "                          Movie     Kinopoisk        Level Subtitles\n",
       "0                  Forrest Gump        Rus sub  A2/A2+, B1       Yes\n",
       "1                Finding Nemo\\n     Everything      A2/A2+       Yes\n",
       "2                   Cast away\\n  Paid, Rus sub      A2/A2+       Yes\n",
       "3    The invisible man (2020)\\n  Paid, Rus lan      A2/A2+       Yes\n",
       "4          Back to the future\\n        Rus sub      A2/A2+       Yes\n",
       "..                          ...            ...         ...       ...\n",
       "83  The Walking Dead  (series)🧟            NaN      A2/A2+        No\n",
       "84     The fault in our stars 😭            NaN  A2/A2+, B1       Yes\n",
       "85          10 Cloverfield Lane            NaN          B1       Yes\n",
       "86                         Lion            NaN      B1, B2       Yes\n",
       "87               House of Gucci            NaN          B2       Yes\n",
       "\n",
       "[88 rows x 4 columns]"
      ]
     },
     "execution_count": 11,
     "metadata": {},
     "output_type": "execute_result"
    }
   ],
   "source": [
    "labels"
   ]
  },
  {
   "cell_type": "code",
   "execution_count": 12,
   "id": "080eb3da-56bb-4db8-832d-92c1bd2df9bb",
   "metadata": {},
   "outputs": [],
   "source": [
    "movies_df['name'] = movies_df['name'].str.lower()\n",
    "labels['Movie'] = labels['Movie'].str.lower()"
   ]
  },
  {
   "cell_type": "code",
   "execution_count": 13,
   "id": "194324a6-b0c2-4fa4-ab17-c830dcc35331",
   "metadata": {},
   "outputs": [
    {
     "data": {
      "text/plain": [
       "0            10 cloverfield lane\n",
       "1     10 things i hate about you\n",
       "2                        aladdin\n",
       "3          all dogs go to heaven\n",
       "4               an american tail\n",
       "                 ...            \n",
       "81                      twilight\n",
       "82                            up\n",
       "83                         venom\n",
       "84                   warm bodies\n",
       "85            we are the millers\n",
       "Name: name, Length: 86, dtype: object"
      ]
     },
     "execution_count": 13,
     "metadata": {},
     "output_type": "execute_result"
    }
   ],
   "source": [
    "movies_df['name']"
   ]
  },
  {
   "cell_type": "code",
   "execution_count": 14,
   "id": "e190f511-2060-4017-b565-e85e2b395e70",
   "metadata": {},
   "outputs": [
    {
     "data": {
      "text/plain": [
       "0                    forrest gump\n",
       "1                  finding nemo\\n\n",
       "2                     cast away\\n\n",
       "3      the invisible man (2020)\\n\n",
       "4            back to the future\\n\n",
       "                 ...             \n",
       "83    the walking dead  (series)🧟\n",
       "84       the fault in our stars 😭\n",
       "85            10 cloverfield lane\n",
       "86                           lion\n",
       "87                 house of gucci\n",
       "Name: Movie, Length: 88, dtype: object"
      ]
     },
     "execution_count": 14,
     "metadata": {},
     "output_type": "execute_result"
    }
   ],
   "source": [
    "labels['Movie']"
   ]
  },
  {
   "cell_type": "code",
   "execution_count": 15,
   "id": "035e2daf-5427-45d1-8cc2-c5f38c93fe65",
   "metadata": {},
   "outputs": [],
   "source": [
    "def format_movie_name(name):\n",
    "    name = name.replace('\\n', '')\n",
    "    name = re.sub('\\(.*?\\)', '', name)\n",
    "    #remove smiles\n",
    "    name = ''.join(x for x in name if (x.isalpha() or x==' ' or x.isnumeric()))\n",
    "    \n",
    "    name = name.strip()\n",
    "    return name"
   ]
  },
  {
   "cell_type": "code",
   "execution_count": 16,
   "id": "38ce1d65-f751-4786-8fa7-7be7f67fc19f",
   "metadata": {},
   "outputs": [],
   "source": [
    "labels['Movie'] = labels['Movie'].apply(format_movie_name)"
   ]
  },
  {
   "cell_type": "code",
   "execution_count": 17,
   "id": "a9fdb3b4-78c5-445f-a821-b8a1ffd23ce7",
   "metadata": {},
   "outputs": [],
   "source": [
    "movies_df['name'] = movies_df['name'].apply(format_movie_name)"
   ]
  },
  {
   "cell_type": "markdown",
   "id": "32b412e3-9834-409e-8420-94452d375e07",
   "metadata": {},
   "source": [
    "I only need English level tag from the labels table"
   ]
  },
  {
   "cell_type": "code",
   "execution_count": 18,
   "id": "660f7611-11af-4135-b0f6-59de885b4d32",
   "metadata": {},
   "outputs": [
    {
     "data": {
      "text/plain": [
       "Index(['Movie', 'Kinopoisk ', 'Level', 'Subtitles'], dtype='object')"
      ]
     },
     "execution_count": 18,
     "metadata": {},
     "output_type": "execute_result"
    }
   ],
   "source": [
    "labels.columns"
   ]
  },
  {
   "cell_type": "code",
   "execution_count": 19,
   "id": "ea58dc1e-4450-40ee-bea6-278150628ed5",
   "metadata": {},
   "outputs": [
    {
     "data": {
      "text/html": [
       "<div>\n",
       "<style scoped>\n",
       "    .dataframe tbody tr th:only-of-type {\n",
       "        vertical-align: middle;\n",
       "    }\n",
       "\n",
       "    .dataframe tbody tr th {\n",
       "        vertical-align: top;\n",
       "    }\n",
       "\n",
       "    .dataframe thead th {\n",
       "        text-align: right;\n",
       "    }\n",
       "</style>\n",
       "<table border=\"1\" class=\"dataframe\">\n",
       "  <thead>\n",
       "    <tr style=\"text-align: right;\">\n",
       "      <th></th>\n",
       "      <th>Movie</th>\n",
       "      <th>Level</th>\n",
       "    </tr>\n",
       "  </thead>\n",
       "  <tbody>\n",
       "    <tr>\n",
       "      <th>0</th>\n",
       "      <td>forrest gump</td>\n",
       "      <td>A2/A2+, B1</td>\n",
       "    </tr>\n",
       "    <tr>\n",
       "      <th>1</th>\n",
       "      <td>finding nemo</td>\n",
       "      <td>A2/A2+</td>\n",
       "    </tr>\n",
       "    <tr>\n",
       "      <th>2</th>\n",
       "      <td>cast away</td>\n",
       "      <td>A2/A2+</td>\n",
       "    </tr>\n",
       "    <tr>\n",
       "      <th>3</th>\n",
       "      <td>the invisible man</td>\n",
       "      <td>A2/A2+</td>\n",
       "    </tr>\n",
       "    <tr>\n",
       "      <th>4</th>\n",
       "      <td>back to the future</td>\n",
       "      <td>A2/A2+</td>\n",
       "    </tr>\n",
       "    <tr>\n",
       "      <th>...</th>\n",
       "      <td>...</td>\n",
       "      <td>...</td>\n",
       "    </tr>\n",
       "    <tr>\n",
       "      <th>83</th>\n",
       "      <td>the walking dead</td>\n",
       "      <td>A2/A2+</td>\n",
       "    </tr>\n",
       "    <tr>\n",
       "      <th>84</th>\n",
       "      <td>the fault in our stars</td>\n",
       "      <td>A2/A2+, B1</td>\n",
       "    </tr>\n",
       "    <tr>\n",
       "      <th>85</th>\n",
       "      <td>10 cloverfield lane</td>\n",
       "      <td>B1</td>\n",
       "    </tr>\n",
       "    <tr>\n",
       "      <th>86</th>\n",
       "      <td>lion</td>\n",
       "      <td>B1, B2</td>\n",
       "    </tr>\n",
       "    <tr>\n",
       "      <th>87</th>\n",
       "      <td>house of gucci</td>\n",
       "      <td>B2</td>\n",
       "    </tr>\n",
       "  </tbody>\n",
       "</table>\n",
       "<p>88 rows × 2 columns</p>\n",
       "</div>"
      ],
      "text/plain": [
       "                     Movie       Level\n",
       "0             forrest gump  A2/A2+, B1\n",
       "1             finding nemo      A2/A2+\n",
       "2                cast away      A2/A2+\n",
       "3        the invisible man      A2/A2+\n",
       "4       back to the future      A2/A2+\n",
       "..                     ...         ...\n",
       "83        the walking dead      A2/A2+\n",
       "84  the fault in our stars  A2/A2+, B1\n",
       "85     10 cloverfield lane          B1\n",
       "86                    lion      B1, B2\n",
       "87          house of gucci          B2\n",
       "\n",
       "[88 rows x 2 columns]"
      ]
     },
     "execution_count": 19,
     "metadata": {},
     "output_type": "execute_result"
    }
   ],
   "source": [
    "labels.drop(['Kinopoisk ', 'Subtitles'], axis=1, inplace=True)\n",
    "labels"
   ]
  },
  {
   "cell_type": "code",
   "execution_count": 20,
   "id": "0ab92744-a112-4418-89ec-672858737222",
   "metadata": {},
   "outputs": [
    {
     "data": {
      "text/html": [
       "<div>\n",
       "<style scoped>\n",
       "    .dataframe tbody tr th:only-of-type {\n",
       "        vertical-align: middle;\n",
       "    }\n",
       "\n",
       "    .dataframe tbody tr th {\n",
       "        vertical-align: top;\n",
       "    }\n",
       "\n",
       "    .dataframe thead th {\n",
       "        text-align: right;\n",
       "    }\n",
       "</style>\n",
       "<table border=\"1\" class=\"dataframe\">\n",
       "  <thead>\n",
       "    <tr style=\"text-align: right;\">\n",
       "      <th></th>\n",
       "      <th>Movie</th>\n",
       "      <th>Level</th>\n",
       "    </tr>\n",
       "  </thead>\n",
       "  <tbody>\n",
       "    <tr>\n",
       "      <th>0</th>\n",
       "      <td>forrest gump</td>\n",
       "      <td>A2/A2+, B1</td>\n",
       "    </tr>\n",
       "    <tr>\n",
       "      <th>1</th>\n",
       "      <td>finding nemo</td>\n",
       "      <td>A2/A2+</td>\n",
       "    </tr>\n",
       "    <tr>\n",
       "      <th>2</th>\n",
       "      <td>cast away</td>\n",
       "      <td>A2/A2+</td>\n",
       "    </tr>\n",
       "    <tr>\n",
       "      <th>3</th>\n",
       "      <td>the invisible man</td>\n",
       "      <td>A2/A2+</td>\n",
       "    </tr>\n",
       "    <tr>\n",
       "      <th>4</th>\n",
       "      <td>back to the future</td>\n",
       "      <td>A2/A2+</td>\n",
       "    </tr>\n",
       "    <tr>\n",
       "      <th>...</th>\n",
       "      <td>...</td>\n",
       "      <td>...</td>\n",
       "    </tr>\n",
       "    <tr>\n",
       "      <th>83</th>\n",
       "      <td>the walking dead</td>\n",
       "      <td>A2/A2+</td>\n",
       "    </tr>\n",
       "    <tr>\n",
       "      <th>84</th>\n",
       "      <td>the fault in our stars</td>\n",
       "      <td>A2/A2+, B1</td>\n",
       "    </tr>\n",
       "    <tr>\n",
       "      <th>85</th>\n",
       "      <td>10 cloverfield lane</td>\n",
       "      <td>B1</td>\n",
       "    </tr>\n",
       "    <tr>\n",
       "      <th>86</th>\n",
       "      <td>lion</td>\n",
       "      <td>B1, B2</td>\n",
       "    </tr>\n",
       "    <tr>\n",
       "      <th>87</th>\n",
       "      <td>house of gucci</td>\n",
       "      <td>B2</td>\n",
       "    </tr>\n",
       "  </tbody>\n",
       "</table>\n",
       "<p>88 rows × 2 columns</p>\n",
       "</div>"
      ],
      "text/plain": [
       "                     Movie       Level\n",
       "0             forrest gump  A2/A2+, B1\n",
       "1             finding nemo      A2/A2+\n",
       "2                cast away      A2/A2+\n",
       "3        the invisible man      A2/A2+\n",
       "4       back to the future      A2/A2+\n",
       "..                     ...         ...\n",
       "83        the walking dead      A2/A2+\n",
       "84  the fault in our stars  A2/A2+, B1\n",
       "85     10 cloverfield lane          B1\n",
       "86                    lion      B1, B2\n",
       "87          house of gucci          B2\n",
       "\n",
       "[88 rows x 2 columns]"
      ]
     },
     "execution_count": 20,
     "metadata": {},
     "output_type": "execute_result"
    }
   ],
   "source": [
    "labels"
   ]
  },
  {
   "cell_type": "code",
   "execution_count": 21,
   "id": "d9550142-bff0-4499-9391-60ff8ffa3a28",
   "metadata": {},
   "outputs": [
    {
     "data": {
      "text/plain": [
       "(80, 3)"
      ]
     },
     "execution_count": 21,
     "metadata": {},
     "output_type": "execute_result"
    }
   ],
   "source": [
    "df = pd.merge(movies_df, labels, left_on='name', right_on='Movie', how='inner').drop('Movie', axis=1)\n",
    "df.shape"
   ]
  },
  {
   "cell_type": "markdown",
   "id": "1a2f6cec-177e-4003-8c00-b42cf32cba9a",
   "metadata": {},
   "source": [
    "Несколько фильмов потерялось. Быстрее всего было просто проверить глазами, в чем дело"
   ]
  },
  {
   "cell_type": "code",
   "execution_count": 22,
   "id": "40c151b6-38a0-4308-93e7-599b48471fdb",
   "metadata": {},
   "outputs": [
    {
     "data": {
      "text/plain": [
       "['an american tail',\n",
       " 'eurovision song contest',\n",
       " 'harry potter and the philosophers stone',\n",
       " 'it s a wonderful life',\n",
       " 'the man called flintstone',\n",
       " 'we are the millers']"
      ]
     },
     "execution_count": 22,
     "metadata": {},
     "output_type": "execute_result"
    }
   ],
   "source": [
    "missing_movies = []\n",
    "for item in [x for x in movies_df.name.values if x not in labels.Movie.values]:\n",
    "    missing_movies.append(item)\n",
    "missing_movies"
   ]
  },
  {
   "cell_type": "markdown",
   "id": "c1de3afb-d806-4d56-b5cc-069a08bb0592",
   "metadata": {},
   "source": [
    "Добавлю их руками"
   ]
  },
  {
   "cell_type": "code",
   "execution_count": 23,
   "id": "e6e309f0-8387-404d-876b-5ab1443c4d60",
   "metadata": {},
   "outputs": [],
   "source": [
    "missing_movies_df = movies_df.copy()\n",
    "missing_movies_df = missing_movies_df.loc[missing_movies_df['name'].isin(missing_movies)]"
   ]
  },
  {
   "cell_type": "code",
   "execution_count": 24,
   "id": "67b1020b-a376-4163-8681-25dc54e7bc29",
   "metadata": {},
   "outputs": [],
   "source": [
    "levels = ['A2/A2+', 'A2/A2+', 'B1', 'A2/A2+', 'A2/A2+', 'B1']"
   ]
  },
  {
   "cell_type": "code",
   "execution_count": 25,
   "id": "056506a1-7ced-4bec-b2b1-799b2de13dc3",
   "metadata": {},
   "outputs": [
    {
     "data": {
      "text/html": [
       "<div>\n",
       "<style scoped>\n",
       "    .dataframe tbody tr th:only-of-type {\n",
       "        vertical-align: middle;\n",
       "    }\n",
       "\n",
       "    .dataframe tbody tr th {\n",
       "        vertical-align: top;\n",
       "    }\n",
       "\n",
       "    .dataframe thead th {\n",
       "        text-align: right;\n",
       "    }\n",
       "</style>\n",
       "<table border=\"1\" class=\"dataframe\">\n",
       "  <thead>\n",
       "    <tr style=\"text-align: right;\">\n",
       "      <th></th>\n",
       "      <th>name</th>\n",
       "      <th>subtitles</th>\n",
       "      <th>Level</th>\n",
       "    </tr>\n",
       "  </thead>\n",
       "  <tbody>\n",
       "    <tr>\n",
       "      <th>4</th>\n",
       "      <td>an american tail</td>\n",
       "      <td>Tanya Fievel,Will you stop that twirling twirl...</td>\n",
       "      <td>A2/A2+</td>\n",
       "    </tr>\n",
       "    <tr>\n",
       "      <th>23</th>\n",
       "      <td>eurovision song contest</td>\n",
       "      <td>Icelandic folk song playing,indistinct chatter...</td>\n",
       "      <td>A2/A2+</td>\n",
       "    </tr>\n",
       "    <tr>\n",
       "      <th>29</th>\n",
       "      <td>harry potter and the philosophers stone</td>\n",
       "      <td>should ve known that you would be here Profess...</td>\n",
       "      <td>B1</td>\n",
       "    </tr>\n",
       "    <tr>\n",
       "      <th>35</th>\n",
       "      <td>it s a wonderful life</td>\n",
       "      <td>owe everything to George Bailey,Help him dear ...</td>\n",
       "      <td>A2/A2+</td>\n",
       "    </tr>\n",
       "    <tr>\n",
       "      <th>71</th>\n",
       "      <td>the man called flintstone</td>\n",
       "      <td>Who do they call,When the chip are startin to ...</td>\n",
       "      <td>A2/A2+</td>\n",
       "    </tr>\n",
       "    <tr>\n",
       "      <th>85</th>\n",
       "      <td>we are the millers</td>\n",
       "      <td>Oh my God,it full on double rainbow all the wa...</td>\n",
       "      <td>B1</td>\n",
       "    </tr>\n",
       "  </tbody>\n",
       "</table>\n",
       "</div>"
      ],
      "text/plain": [
       "                                       name  \\\n",
       "4                          an american tail   \n",
       "23                  eurovision song contest   \n",
       "29  harry potter and the philosophers stone   \n",
       "35                    it s a wonderful life   \n",
       "71                the man called flintstone   \n",
       "85                       we are the millers   \n",
       "\n",
       "                                            subtitles   Level  \n",
       "4   Tanya Fievel,Will you stop that twirling twirl...  A2/A2+  \n",
       "23  Icelandic folk song playing,indistinct chatter...  A2/A2+  \n",
       "29  should ve known that you would be here Profess...      B1  \n",
       "35  owe everything to George Bailey,Help him dear ...  A2/A2+  \n",
       "71  Who do they call,When the chip are startin to ...  A2/A2+  \n",
       "85  Oh my God,it full on double rainbow all the wa...      B1  "
      ]
     },
     "execution_count": 25,
     "metadata": {},
     "output_type": "execute_result"
    }
   ],
   "source": [
    "missing_movies_df['Level'] = levels\n",
    "missing_movies_df"
   ]
  },
  {
   "cell_type": "code",
   "execution_count": 26,
   "id": "b2d507e2-1462-4f9f-885f-681baba6258d",
   "metadata": {},
   "outputs": [
    {
     "name": "stdout",
     "output_type": "stream",
     "text": [
      "(86, 3)\n"
     ]
    }
   ],
   "source": [
    "df = pd.concat([df, missing_movies_df])\n",
    "print(df.shape)"
   ]
  },
  {
   "cell_type": "markdown",
   "id": "49da3047-62a9-4732-85cd-2ad7c04e51a7",
   "metadata": {},
   "source": [
    "# Обработать данные"
   ]
  },
  {
   "cell_type": "code",
   "execution_count": 27,
   "id": "87270429-4498-4bfb-970f-5d45c6a915c6",
   "metadata": {},
   "outputs": [
    {
     "data": {
      "text/html": [
       "<div>\n",
       "<style scoped>\n",
       "    .dataframe tbody tr th:only-of-type {\n",
       "        vertical-align: middle;\n",
       "    }\n",
       "\n",
       "    .dataframe tbody tr th {\n",
       "        vertical-align: top;\n",
       "    }\n",
       "\n",
       "    .dataframe thead th {\n",
       "        text-align: right;\n",
       "    }\n",
       "</style>\n",
       "<table border=\"1\" class=\"dataframe\">\n",
       "  <thead>\n",
       "    <tr style=\"text-align: right;\">\n",
       "      <th></th>\n",
       "      <th>name</th>\n",
       "      <th>subtitles</th>\n",
       "      <th>Level</th>\n",
       "    </tr>\n",
       "  </thead>\n",
       "  <tbody>\n",
       "    <tr>\n",
       "      <th>0</th>\n",
       "      <td>10 cloverfield lane</td>\n",
       "      <td>Fixed Synced by bozxphd Enjoy The Flick,Michel...</td>\n",
       "      <td>B1</td>\n",
       "    </tr>\n",
       "    <tr>\n",
       "      <th>1</th>\n",
       "      <td>10 things i hate about you</td>\n",
       "      <td>Hey,ll be right with you,So Cameron Here you g...</td>\n",
       "      <td>B1</td>\n",
       "    </tr>\n",
       "    <tr>\n",
       "      <th>2</th>\n",
       "      <td>aladdin</td>\n",
       "      <td>Oh come from land From faraway place,Where the...</td>\n",
       "      <td>A2/A2+</td>\n",
       "    </tr>\n",
       "    <tr>\n",
       "      <th>3</th>\n",
       "      <td>all dogs go to heaven</td>\n",
       "      <td>,,Itchy,few more degree to the left,Now,Tap,No...</td>\n",
       "      <td>A2/A2+</td>\n",
       "    </tr>\n",
       "    <tr>\n",
       "      <th>4</th>\n",
       "      <td>a knights tale</td>\n",
       "      <td>Resync Xenzai,Should we help him,He due in the...</td>\n",
       "      <td>B2</td>\n",
       "    </tr>\n",
       "    <tr>\n",
       "      <th>...</th>\n",
       "      <td>...</td>\n",
       "      <td>...</td>\n",
       "      <td>...</td>\n",
       "    </tr>\n",
       "    <tr>\n",
       "      <th>23</th>\n",
       "      <td>eurovision song contest</td>\n",
       "      <td>Icelandic folk song playing,indistinct chatter...</td>\n",
       "      <td>A2/A2+</td>\n",
       "    </tr>\n",
       "    <tr>\n",
       "      <th>29</th>\n",
       "      <td>harry potter and the philosophers stone</td>\n",
       "      <td>should ve known that you would be here Profess...</td>\n",
       "      <td>B1</td>\n",
       "    </tr>\n",
       "    <tr>\n",
       "      <th>35</th>\n",
       "      <td>it s a wonderful life</td>\n",
       "      <td>owe everything to George Bailey,Help him dear ...</td>\n",
       "      <td>A2/A2+</td>\n",
       "    </tr>\n",
       "    <tr>\n",
       "      <th>71</th>\n",
       "      <td>the man called flintstone</td>\n",
       "      <td>Who do they call,When the chip are startin to ...</td>\n",
       "      <td>A2/A2+</td>\n",
       "    </tr>\n",
       "    <tr>\n",
       "      <th>85</th>\n",
       "      <td>we are the millers</td>\n",
       "      <td>Oh my God,it full on double rainbow all the wa...</td>\n",
       "      <td>B1</td>\n",
       "    </tr>\n",
       "  </tbody>\n",
       "</table>\n",
       "<p>86 rows × 3 columns</p>\n",
       "</div>"
      ],
      "text/plain": [
       "                                       name  \\\n",
       "0                       10 cloverfield lane   \n",
       "1                10 things i hate about you   \n",
       "2                                   aladdin   \n",
       "3                     all dogs go to heaven   \n",
       "4                            a knights tale   \n",
       "..                                      ...   \n",
       "23                  eurovision song contest   \n",
       "29  harry potter and the philosophers stone   \n",
       "35                    it s a wonderful life   \n",
       "71                the man called flintstone   \n",
       "85                       we are the millers   \n",
       "\n",
       "                                            subtitles   Level  \n",
       "0   Fixed Synced by bozxphd Enjoy The Flick,Michel...      B1  \n",
       "1   Hey,ll be right with you,So Cameron Here you g...      B1  \n",
       "2   Oh come from land From faraway place,Where the...  A2/A2+  \n",
       "3   ,,Itchy,few more degree to the left,Now,Tap,No...  A2/A2+  \n",
       "4   Resync Xenzai,Should we help him,He due in the...      B2  \n",
       "..                                                ...     ...  \n",
       "23  Icelandic folk song playing,indistinct chatter...  A2/A2+  \n",
       "29  should ve known that you would be here Profess...      B1  \n",
       "35  owe everything to George Bailey,Help him dear ...  A2/A2+  \n",
       "71  Who do they call,When the chip are startin to ...  A2/A2+  \n",
       "85  Oh my God,it full on double rainbow all the wa...      B1  \n",
       "\n",
       "[86 rows x 3 columns]"
      ]
     },
     "execution_count": 27,
     "metadata": {},
     "output_type": "execute_result"
    }
   ],
   "source": [
    "df"
   ]
  },
  {
   "cell_type": "markdown",
   "id": "3dec95fd-5baf-4f3b-b67e-5786240b85b9",
   "metadata": {},
   "source": [
    "## Обработка сокращений"
   ]
  },
  {
   "cell_type": "code",
   "execution_count": 28,
   "id": "1c65760f-7a92-4bcf-a34a-a19b5433e318",
   "metadata": {},
   "outputs": [],
   "source": [
    "# code taken from https://www.kaggle.com/code/shashaalam/text-classification-with-catboost/notebook"
   ]
  },
  {
   "cell_type": "code",
   "execution_count": 29,
   "id": "a23ba234-b6b3-4048-8fbc-46bff941285d",
   "metadata": {},
   "outputs": [],
   "source": [
    "contractions = { \n",
    "\"ain't\": \"am not\",\n",
    "\"aren't\": \"are not\",\n",
    "\"can't\": \"cannot\",\n",
    "\"can't've\": \"cannot have\",\n",
    "\"'cause\": \"because\",\n",
    "\"could've\": \"could have\",\n",
    "\"couldn't\": \"could not\",\n",
    "\"couldn't've\": \"could not have\",\n",
    "\"didn't\": \"did not\",\n",
    "\"doesn't\": \"does not\",\n",
    "\"don't\": \"do not\",\n",
    "\"hadn't\": \"had not\",\n",
    "\"hadn't've\": \"had not have\",\n",
    "\"hasn't\": \"has not\",\n",
    "\"haven't\": \"have not\",\n",
    "\"he'd\": \"he would\",\n",
    "\"he'd've\": \"he would have\",\n",
    "\"he'll\": \"he will\",\n",
    "\"he'll've\": \"he will have\",\n",
    "\"he's\": \"he is\",\n",
    "\"how'd\": \"how did\",\n",
    "\"how'd'y\": \"how do you\",\n",
    "\"how'll\": \"how will\",\n",
    "\"how's\": \"how does\",\n",
    "\"i'd\": \"i would\",\n",
    "\"i'd've\": \"i would have\",\n",
    "\"i'll\": \"i will\",\n",
    "\"i'll've\": \"i will have\",\n",
    "\"i'm\": \"i am\",\n",
    "\"i've\": \"i have\",\n",
    "\"isn't\": \"is not\",\n",
    "\"it'd\": \"it would\",\n",
    "\"it'd've\": \"it would have\",\n",
    "\"it'll\": \"it will\",\n",
    "\"it'll've\": \"it will have\",\n",
    "\"it's\": \"it is\",\n",
    "\"let's\": \"let us\",\n",
    "\"ma'am\": \"madam\",\n",
    "\"mayn't\": \"may not\",\n",
    "\"might've\": \"might have\",\n",
    "\"mightn't\": \"might not\",\n",
    "\"mightn't've\": \"might not have\",\n",
    "\"must've\": \"must have\",\n",
    "\"mustn't\": \"must not\",\n",
    "\"mustn't've\": \"must not have\",\n",
    "\"needn't\": \"need not\",\n",
    "\"needn't've\": \"need not have\",\n",
    "\"o'clock\": \"of the clock\",\n",
    "\"oughtn't\": \"ought not\",\n",
    "\"oughtn't've\": \"ought not have\",\n",
    "\"shan't\": \"shall not\",\n",
    "\"sha'n't\": \"shall not\",\n",
    "\"shan't've\": \"shall not have\",\n",
    "\"she'd\": \"she would\",\n",
    "\"she'd've\": \"she would have\",\n",
    "\"she'll\": \"she will\",\n",
    "\"she'll've\": \"she will have\",\n",
    "\"she's\": \"she is\",\n",
    "\"should've\": \"should have\",\n",
    "\"shouldn't\": \"should not\",\n",
    "\"shouldn't've\": \"should not have\",\n",
    "\"so've\": \"so have\",\n",
    "\"so's\": \"so is\",\n",
    "\"that'd\": \"that would\",\n",
    "\"that'd've\": \"that would have\",\n",
    "\"that's\": \"that is\",\n",
    "\"there'd\": \"there would\",\n",
    "\"there'd've\": \"there would have\",\n",
    "\"there's\": \"there is\",\n",
    "\"they'd\": \"they would\",\n",
    "\"they'd've\": \"they would have\",\n",
    "\"they'll\": \"they will\",\n",
    "\"they'll've\": \"they will have\",\n",
    "\"they're\": \"they are\",\n",
    "\"they've\": \"they have\",\n",
    "\"to've\": \"to have\",\n",
    "\"wasn't\": \"was not\",\n",
    "\" u \": \" you \",\n",
    "\" ur \": \" your \",\n",
    "\" n \": \" and \",\n",
    "\"won't\": \"would not\",\n",
    "'dis': 'this',\n",
    "'bak': 'back',\n",
    "'brng': 'bring'}"
   ]
  },
  {
   "cell_type": "code",
   "execution_count": 30,
   "id": "fd7207a7-b1b3-40d5-bd04-dccfda0763d4",
   "metadata": {},
   "outputs": [],
   "source": [
    "def cont_to_exp(x):\n",
    "    if type(x) is str:\n",
    "        for key in contractions:\n",
    "            value = contractions[key]\n",
    "            x = x.replace(key, value)\n",
    "        return x\n",
    "    else:\n",
    "        return x"
   ]
  },
  {
   "cell_type": "code",
   "execution_count": 31,
   "id": "03c5cdc2-7642-4c1d-869b-e54b5067b4c9",
   "metadata": {},
   "outputs": [],
   "source": [
    "df['subtitles'] = df['subtitles'].apply(lambda x: cont_to_exp(x))"
   ]
  },
  {
   "cell_type": "code",
   "execution_count": 32,
   "id": "79afd2d4-42e8-40c2-acf8-14b6e0a42d16",
   "metadata": {},
   "outputs": [],
   "source": [
    "def remove_special_chars(x):\n",
    "    x = re.sub(r'[^\\w ]+', \"\", x)\n",
    "    x = ' '.join(x.split())\n",
    "    return x"
   ]
  },
  {
   "cell_type": "code",
   "execution_count": 33,
   "id": "b9d8857f-9ec8-4b42-ab14-89aa6121e116",
   "metadata": {},
   "outputs": [],
   "source": [
    "df['subtitles'] = df['subtitles'].apply(lambda x: remove_special_chars(x))"
   ]
  },
  {
   "cell_type": "markdown",
   "id": "b7922cad-e20c-4040-ab96-d03ff7003f5c",
   "metadata": {},
   "source": [
    "## Изучаю таргет"
   ]
  },
  {
   "cell_type": "code",
   "execution_count": 34,
   "id": "791b09d1-cfeb-44f0-92bf-26a950afbc9b",
   "metadata": {},
   "outputs": [
    {
     "data": {
      "text/plain": [
       "Level\n",
       "B1            28\n",
       "A2/A2+        26\n",
       "B2            19\n",
       "B1, B2         8\n",
       "A2/A2+, B1     5\n",
       "dtype: int64"
      ]
     },
     "execution_count": 34,
     "metadata": {},
     "output_type": "execute_result"
    }
   ],
   "source": [
    "df.value_counts('Level')"
   ]
  },
  {
   "cell_type": "code",
   "execution_count": 35,
   "id": "fb66b6e7-ab8d-4660-8567-415df5abe0c1",
   "metadata": {},
   "outputs": [
    {
     "data": {
      "text/plain": [
       "B1            0.325581\n",
       "A2/A2+        0.302326\n",
       "B2            0.220930\n",
       "B1, B2        0.093023\n",
       "A2/A2+, B1    0.058140\n",
       "Name: Level, dtype: float64"
      ]
     },
     "execution_count": 35,
     "metadata": {},
     "output_type": "execute_result"
    }
   ],
   "source": [
    "df.Level.value_counts(normalize=True)"
   ]
  },
  {
   "cell_type": "markdown",
   "id": "e4bc0fbe-6354-4ff8-9b04-86d68e3fb6ad",
   "metadata": {},
   "source": [
    "Для бэйслайн решения отнесу последнюю категорию A2/A2+, B1 значения в A2/A2+ группу.\n",
    "\n",
    "Вообще стоито уточнить уровни этих фильмов и узнать, насколько вообще важно точно угадать категорию в слаке"
   ]
  },
  {
   "cell_type": "code",
   "execution_count": 36,
   "id": "9874afd3-30cf-40fc-996d-00f6b91452f7",
   "metadata": {},
   "outputs": [],
   "source": [
    "df.loc[df['Level']=='A2/A2+, B1', 'Level'] = 'A2/A2+'"
   ]
  },
  {
   "cell_type": "code",
   "execution_count": 37,
   "id": "f6daff11-ff12-406f-9209-10f5d54420b4",
   "metadata": {},
   "outputs": [
    {
     "data": {
      "text/plain": [
       "Level\n",
       "A2/A2+    31\n",
       "B1        28\n",
       "B2        19\n",
       "B1, B2     8\n",
       "dtype: int64"
      ]
     },
     "execution_count": 37,
     "metadata": {},
     "output_type": "execute_result"
    }
   ],
   "source": [
    "df.value_counts('Level')"
   ]
  },
  {
   "cell_type": "code",
   "execution_count": 38,
   "id": "cd540570-241a-42a2-b377-a7b3cee2bd30",
   "metadata": {},
   "outputs": [],
   "source": [
    "df.drop(['name'], axis=1, inplace=True) "
   ]
  },
  {
   "cell_type": "code",
   "execution_count": 39,
   "id": "8023507a-7fb1-4698-b08f-6fe5906bebc1",
   "metadata": {},
   "outputs": [
    {
     "data": {
      "text/html": [
       "<div>\n",
       "<style scoped>\n",
       "    .dataframe tbody tr th:only-of-type {\n",
       "        vertical-align: middle;\n",
       "    }\n",
       "\n",
       "    .dataframe tbody tr th {\n",
       "        vertical-align: top;\n",
       "    }\n",
       "\n",
       "    .dataframe thead th {\n",
       "        text-align: right;\n",
       "    }\n",
       "</style>\n",
       "<table border=\"1\" class=\"dataframe\">\n",
       "  <thead>\n",
       "    <tr style=\"text-align: right;\">\n",
       "      <th></th>\n",
       "      <th>subtitles</th>\n",
       "      <th>Level</th>\n",
       "    </tr>\n",
       "  </thead>\n",
       "  <tbody>\n",
       "    <tr>\n",
       "      <th>0</th>\n",
       "      <td>Fixed Synced by bozxphd Enjoy The FlickMichell...</td>\n",
       "      <td>B1</td>\n",
       "    </tr>\n",
       "    <tr>\n",
       "      <th>1</th>\n",
       "      <td>Heyll be right with youSo Cameron Here you goN...</td>\n",
       "      <td>B1</td>\n",
       "    </tr>\n",
       "    <tr>\n",
       "      <th>2</th>\n",
       "      <td>Oh come from land From faraway placeWhere the ...</td>\n",
       "      <td>A2/A2+</td>\n",
       "    </tr>\n",
       "    <tr>\n",
       "      <th>3</th>\n",
       "      <td>Itchyfew more degree to the leftNowTapNo no Yo...</td>\n",
       "      <td>A2/A2+</td>\n",
       "    </tr>\n",
       "    <tr>\n",
       "      <th>4</th>\n",
       "      <td>Resync XenzaiShould we help himHe due in the l...</td>\n",
       "      <td>B2</td>\n",
       "    </tr>\n",
       "  </tbody>\n",
       "</table>\n",
       "</div>"
      ],
      "text/plain": [
       "                                           subtitles   Level\n",
       "0  Fixed Synced by bozxphd Enjoy The FlickMichell...      B1\n",
       "1  Heyll be right with youSo Cameron Here you goN...      B1\n",
       "2  Oh come from land From faraway placeWhere the ...  A2/A2+\n",
       "3  Itchyfew more degree to the leftNowTapNo no Yo...  A2/A2+\n",
       "4  Resync XenzaiShould we help himHe due in the l...      B2"
      ]
     },
     "execution_count": 39,
     "metadata": {},
     "output_type": "execute_result"
    }
   ],
   "source": [
    "df.head()"
   ]
  },
  {
   "cell_type": "markdown",
   "id": "1dbf480a-0088-45cf-a955-fc45a9a4f0fe",
   "metadata": {},
   "source": [
    "## Закодировать таргет с Label encoder"
   ]
  },
  {
   "cell_type": "code",
   "execution_count": 40,
   "id": "578dfee3-6920-409a-9dca-17065eeb2824",
   "metadata": {},
   "outputs": [],
   "source": [
    "lbl_enc = LabelEncoder()\n",
    "target = lbl_enc.fit_transform(df.Level)"
   ]
  },
  {
   "cell_type": "code",
   "execution_count": 41,
   "id": "a4094cb9-a719-49e0-880f-94eea91526ca",
   "metadata": {},
   "outputs": [
    {
     "data": {
      "text/plain": [
       "array([1, 1, 0, 0, 3])"
      ]
     },
     "execution_count": 41,
     "metadata": {},
     "output_type": "execute_result"
    }
   ],
   "source": [
    "target[0:5]"
   ]
  },
  {
   "cell_type": "markdown",
   "id": "8c8135fc-f83c-46b5-b711-8cf214069708",
   "metadata": {},
   "source": [
    "# Train Test split"
   ]
  },
  {
   "cell_type": "markdown",
   "id": "d9314b71-9d44-4a12-97b1-b25a0ba143e4",
   "metadata": {},
   "source": [
    "Пайплайн модели предполагает, что на вход модели подаются субтитры нового фильма, которые проходят процесс токенизации. таким образом токенизацию нужно провести разделльно для трейн и тест сетов"
   ]
  },
  {
   "cell_type": "code",
   "execution_count": 42,
   "id": "26db11e1-af25-43b4-befb-3637822ddfaf",
   "metadata": {},
   "outputs": [],
   "source": [
    "X_train, X_test, y_train, y_test = train_test_split(df['subtitles'],\n",
    "                                                    target,\n",
    "                                                    test_size=0.3, \n",
    "                                                    random_state=random_state,\n",
    "                                                    stratify=target,\n",
    "                                                    shuffle=True)"
   ]
  },
  {
   "cell_type": "code",
   "execution_count": 43,
   "id": "bccf3df7-2275-4caf-a76d-016163600d01",
   "metadata": {},
   "outputs": [
    {
     "name": "stdout",
     "output_type": "stream",
     "text": [
      "60\n",
      "26\n"
     ]
    }
   ],
   "source": [
    "print(len(X_train))\n",
    "print(len(y_test))"
   ]
  },
  {
   "cell_type": "markdown",
   "id": "46804025-8541-424e-a972-3d1137f6852f",
   "metadata": {},
   "source": [
    "# TF IDF approach"
   ]
  },
  {
   "cell_type": "code",
   "execution_count": 44,
   "id": "fe2cf60a-136f-400f-8350-f8efa58a862d",
   "metadata": {},
   "outputs": [],
   "source": [
    "tfv = TfidfVectorizer(min_df=5,  norm='l2', \n",
    "                      analyzer='word', ngram_range=(1, 3), \n",
    "                      use_idf=1, smooth_idf=1, sublinear_tf=True,\n",
    "                      stop_words='english')"
   ]
  },
  {
   "cell_type": "code",
   "execution_count": 45,
   "id": "b019ebe3-4c92-4a9b-a919-37a5d6289aaf",
   "metadata": {},
   "outputs": [
    {
     "data": {
      "text/plain": [
       "TfidfVectorizer(min_df=5, ngram_range=(1, 3), smooth_idf=1,\n",
       "                stop_words='english', sublinear_tf=True, use_idf=1)"
      ]
     },
     "execution_count": 45,
     "metadata": {},
     "output_type": "execute_result"
    }
   ],
   "source": [
    "tfv.fit(X_train)"
   ]
  },
  {
   "cell_type": "code",
   "execution_count": 46,
   "id": "4076566f-d5c6-43b1-ac44-6a8bfd4bf4e7",
   "metadata": {},
   "outputs": [],
   "source": [
    "X_train_tfidf = tfv.transform(X_train)\n",
    "X_test_tfidf = tfv.transform(X_test)"
   ]
  },
  {
   "cell_type": "code",
   "execution_count": 47,
   "id": "a9b7d49c-aacd-4558-aa4b-d8d6bcf50c03",
   "metadata": {},
   "outputs": [
    {
     "name": "stdout",
     "output_type": "stream",
     "text": [
      "Размер трейн сета (60, 4323)\n",
      "Размер тест сета (26, 4323)\n"
     ]
    }
   ],
   "source": [
    "print('Размер трейн сета', X_train_tfidf.shape)\n",
    "print('Размер тест сета', X_test_tfidf.shape)"
   ]
  },
  {
   "cell_type": "markdown",
   "id": "4df22bee-4d18-42cf-939c-dbefb424a9fb",
   "metadata": {},
   "source": [
    "## Model training"
   ]
  },
  {
   "cell_type": "code",
   "execution_count": 48,
   "id": "883cdaba-df41-4b65-a2df-d8ca6ae2f6d0",
   "metadata": {},
   "outputs": [],
   "source": [
    "table = pd.DataFrame(columns=['model name', 'F1 score'])\n",
    "def update_table(model_name, F1_score, table):\n",
    "    table = pd.concat([table, \n",
    "                       pd.DataFrame({'model name':model_name,\n",
    "                                     'F1 score':[F1_score]})])\n",
    "    return table"
   ]
  },
  {
   "cell_type": "markdown",
   "id": "2dea7e8e-6a8b-45f3-be6f-7f5cafa2d02d",
   "metadata": {},
   "source": [
    "### One vs All logistic regression"
   ]
  },
  {
   "cell_type": "code",
   "execution_count": 49,
   "id": "85cdf403-0f35-478e-8e74-307567f0c4f0",
   "metadata": {},
   "outputs": [
    {
     "name": "stdout",
     "output_type": "stream",
     "text": [
      "F1 score: 0.178021978021978\n"
     ]
    },
    {
     "data": {
      "image/png": "[encoded data removed]",
      "text/plain": [
       "<Figure size 432x288 with 2 Axes>"
      ]
     },
     "metadata": {
      "needs_background": "light"
     },
     "output_type": "display_data"
    }
   ],
   "source": [
    "lr = LogisticRegression(multi_class=\"ovr\", random_state=random_state)\n",
    "\n",
    "lr.fit(X_train_tfidf, y_train)\n",
    "predictions = lr.predict(X_test_tfidf)\n",
    "\n",
    "print('F1 score:', f1_score(y_test, predictions, average='weighted'))\n",
    "\n",
    "plot_confusion_matrix(lr, X_test_tfidf, y_test);"
   ]
  },
  {
   "cell_type": "markdown",
   "id": "b9d18b4b-81d7-488c-ade6-93a947e920b8",
   "metadata": {},
   "source": [
    "Что же, модель просто предсказала 0 для всех объектов.\n",
    "\n",
    "Попробую другие подходы"
   ]
  },
  {
   "cell_type": "markdown",
   "id": "fe9edb27-c9c6-42f8-8eea-1b02cfe35a4a",
   "metadata": {},
   "source": [
    "### Multinomial logistic regression approach"
   ]
  },
  {
   "cell_type": "code",
   "execution_count": 50,
   "id": "4cfac05d-b26d-4456-ad5d-f34cdabc7468",
   "metadata": {},
   "outputs": [
    {
     "name": "stdout",
     "output_type": "stream",
     "text": [
      "F1 score: 0.31468531468531463\n"
     ]
    },
    {
     "data": {
      "image/png": "[encoded data removed]",
      "text/plain": [
       "<Figure size 432x288 with 2 Axes>"
      ]
     },
     "metadata": {
      "needs_background": "light"
     },
     "output_type": "display_data"
    }
   ],
   "source": [
    "mlr = LogisticRegression(multi_class=\"multinomial\", random_state=random_state)\n",
    "\n",
    "mlr.fit(X_train_tfidf, y_train)\n",
    "predictions = mlr.predict(X_test_tfidf)\n",
    "\n",
    "print('F1 score:', f1_score(y_test, predictions, average='weighted'))\n",
    "\n",
    "plot_confusion_matrix(mlr, X_test_tfidf, y_test);"
   ]
  },
  {
   "cell_type": "markdown",
   "id": "e0a7e991-430b-472d-8df3-debd9bb0a5ec",
   "metadata": {},
   "source": [
    "### Random forest"
   ]
  },
  {
   "cell_type": "code",
   "execution_count": 51,
   "id": "4c471ea2-7963-4184-8d7d-f757f6e029df",
   "metadata": {},
   "outputs": [
    {
     "name": "stdout",
     "output_type": "stream",
     "text": [
      "F1 score: 0.254246993701088\n",
      "\n"
     ]
    },
    {
     "data": {
      "image/png": "[encoded data removed]",
      "text/plain": [
       "<Figure size 432x288 with 2 Axes>"
      ]
     },
     "metadata": {
      "needs_background": "light"
     },
     "output_type": "display_data"
    }
   ],
   "source": [
    "rf = RandomForestClassifier(random_state=random_state)\n",
    "\n",
    "rf.fit(X_train_tfidf, y_train)\n",
    "predictions = rf.predict(X_test_tfidf)\n",
    "\n",
    "print('F1 score:', f1_score(y_test, predictions, average='weighted'))\n",
    "print()\n",
    "plot_confusion_matrix(rf, X_test_tfidf, y_test);"
   ]
  },
  {
   "cell_type": "markdown",
   "id": "d0fb6e8c-b5a8-426f-a5fb-a959188988e7",
   "metadata": {},
   "source": [
    "### Parameter tuned Random forest"
   ]
  },
  {
   "cell_type": "code",
   "execution_count": 52,
   "id": "4047b313-aa44-4d32-95e7-2ac230871884",
   "metadata": {},
   "outputs": [],
   "source": [
    "rf = RandomForestClassifier(random_state=random_state)\n",
    "\n",
    "params = {'n_estimators': range(100, 501, 100),\n",
    "          'max_depth': range(1,5, 1),\n",
    "          'min_samples_leaf': range(3,6)}"
   ]
  },
  {
   "cell_type": "code",
   "execution_count": 53,
   "id": "3fb58aee-d227-481d-a1b2-0ccf30c9986e",
   "metadata": {},
   "outputs": [
    {
     "name": "stdout",
     "output_type": "stream",
     "text": [
      "Fitting 4 folds for each of 60 candidates, totalling 240 fits\n",
      "{'max_depth': 3, 'min_samples_leaf': 3, 'n_estimators': 200}\n"
     ]
    }
   ],
   "source": [
    "f1 = make_scorer(f1_score , average='weighted')\n",
    "\n",
    "grid = GridSearchCV(estimator=rf,\n",
    "                    cv=4,\n",
    "                    param_grid=params,\n",
    "                    verbose=1,\n",
    "                    scoring=f1)\n",
    "\n",
    "grid.fit(X_train_tfidf, y_train)\n",
    "best_params = grid.best_params_\n",
    "print(best_params)"
   ]
  },
  {
   "cell_type": "code",
   "execution_count": 54,
   "id": "0f22fefe-25fa-4e1a-9e00-07f7be098998",
   "metadata": {},
   "outputs": [
    {
     "name": "stdout",
     "output_type": "stream",
     "text": [
      "F1 score: 0.2851689253674365\n",
      "\n"
     ]
    },
    {
     "data": {
      "image/png": "[encoded data removed]",
      "text/plain": [
       "<Figure size 432x288 with 2 Axes>"
      ]
     },
     "metadata": {
      "needs_background": "light"
     },
     "output_type": "display_data"
    }
   ],
   "source": [
    "rf = RandomForestClassifier(max_depth=best_params['max_depth'],\n",
    "                            n_estimators=best_params['n_estimators'],\n",
    "                            random_state=random_state)\n",
    "\n",
    "rf.fit(X_train_tfidf, y_train)\n",
    "predictions = rf.predict(X_test_tfidf)\n",
    "\n",
    "print('F1 score:', f1_score(y_test, predictions, average='weighted'))\n",
    "print()\n",
    "plot_confusion_matrix(rf, X_test_tfidf, y_test);"
   ]
  },
  {
   "cell_type": "markdown",
   "id": "84504867-9cdd-4d91-8418-fc565393e66f",
   "metadata": {},
   "source": [
    "После тюнинга параметров результаты модели не сильно изменились"
   ]
  },
  {
   "cell_type": "markdown",
   "id": "df70de8f-ab7a-4e33-b77e-d8d6942e2843",
   "metadata": {},
   "source": [
    "## Upsample the data"
   ]
  },
  {
   "cell_type": "markdown",
   "id": "1b5a1273-f471-4804-8fdc-30d4f38d5829",
   "metadata": {},
   "source": [
    "Попробую размножить редко встречаемые элементы  в трейне для борьбы с дисбалансом"
   ]
  },
  {
   "cell_type": "code",
   "execution_count": 55,
   "id": "805860da-765c-451e-8ba9-d503b8bd4a35",
   "metadata": {},
   "outputs": [
    {
     "data": {
      "text/plain": [
       "0    22\n",
       "1    19\n",
       "3    13\n",
       "2     6\n",
       "dtype: int64"
      ]
     },
     "execution_count": 55,
     "metadata": {},
     "output_type": "execute_result"
    }
   ],
   "source": [
    "pd.Series(y_train).value_counts()"
   ]
  },
  {
   "cell_type": "markdown",
   "id": "3ac246bb-6cfa-48ed-9603-2839726f586d",
   "metadata": {},
   "source": [
    "Для этого размножу класс 2.0 а также выделю 8 случайных фильмов из категории 3 и замешаю их все обратно."
   ]
  },
  {
   "cell_type": "code",
   "execution_count": 56,
   "id": "df8f9f60-67ed-4ee4-958d-4af3cba63860",
   "metadata": {},
   "outputs": [],
   "source": [
    "X_train_2 = X_train[y_train==2]\n",
    "y_train_2 = pd.Series(y_train[y_train==2])\n",
    "\n",
    "X_train_remaining =X_train[y_train!=2]\n",
    "y_train_remaining = pd.Series(y_train[y_train!=2])"
   ]
  },
  {
   "cell_type": "code",
   "execution_count": 57,
   "id": "1949e20f-67cf-4007-aace-ada56079829c",
   "metadata": {},
   "outputs": [],
   "source": [
    "# added target=2 upscaled x3\n",
    "X_train_upsample = pd.concat([X_train_remaining]+[X_train_2]*3)\n",
    "y_train_upsample = pd.concat([y_train_remaining]+[y_train_2]*3)"
   ]
  },
  {
   "cell_type": "code",
   "execution_count": 58,
   "id": "751f01b5-b8d2-4220-a5a5-f5a3f5e84212",
   "metadata": {},
   "outputs": [],
   "source": [
    "for i in range(8):\n",
    "    x = np.random.randint(12)\n",
    "    random_X = pd.Series(X_train[y_train==3].reset_index(drop=True).iloc[x])\n",
    "    random_y = pd.Series(y_train[y_train==3]).iloc[x]\n",
    "    \n",
    "    X_train_upsample = pd.concat([X_train_upsample]+[random_X])\n",
    "    y_train_upsample = pd.concat([y_train_upsample, pd.Series(random_y)])"
   ]
  },
  {
   "cell_type": "code",
   "execution_count": 59,
   "id": "81185a52-fddd-47cc-9fbd-c8a6f60cd565",
   "metadata": {},
   "outputs": [],
   "source": [
    "X_train_upsample, y_train_upsample = shuffle(\n",
    "        X_train_upsample, y_train_upsample, random_state=random_state)"
   ]
  },
  {
   "cell_type": "code",
   "execution_count": 60,
   "id": "49ed410b-0d14-4c0c-9811-e76d85d32bb6",
   "metadata": {},
   "outputs": [
    {
     "name": "stdout",
     "output_type": "stream",
     "text": [
      "Размер трейнсета до апсемплинга: (60,)\n",
      "Размер трейнсета после апсемплинга: (80,)\n"
     ]
    }
   ],
   "source": [
    "print('Размер трейнсета до апсемплинга:', X_train.shape)\n",
    "print('Размер трейнсета после апсемплинга:', X_train_upsample.shape)"
   ]
  },
  {
   "cell_type": "markdown",
   "id": "3d1de5fe-db06-43b6-9574-6245e500eae8",
   "metadata": {},
   "source": [
    "Создам новый TfidfVectorizer и обучу его на новом трейн сете"
   ]
  },
  {
   "cell_type": "code",
   "execution_count": 61,
   "id": "e3fe1f83-2209-4a61-8da5-5262a1016828",
   "metadata": {},
   "outputs": [],
   "source": [
    "tfv = TfidfVectorizer(min_df=5,  norm='l2', \n",
    "                      analyzer='word', ngram_range=(1, 3), \n",
    "                      use_idf=1, smooth_idf=1, sublinear_tf=True,\n",
    "                      stop_words='english')"
   ]
  },
  {
   "cell_type": "code",
   "execution_count": 62,
   "id": "ce4f42fa-5f50-418e-9800-58f3357c38db",
   "metadata": {},
   "outputs": [
    {
     "data": {
      "text/plain": [
       "TfidfVectorizer(min_df=5, ngram_range=(1, 3), smooth_idf=1,\n",
       "                stop_words='english', sublinear_tf=True, use_idf=1)"
      ]
     },
     "execution_count": 62,
     "metadata": {},
     "output_type": "execute_result"
    }
   ],
   "source": [
    "tfv.fit(X_train_upsample)"
   ]
  },
  {
   "cell_type": "code",
   "execution_count": 63,
   "id": "05fbdee2-c41c-439b-b384-5f6e00ccf9a7",
   "metadata": {},
   "outputs": [
    {
     "name": "stdout",
     "output_type": "stream",
     "text": [
      "Размер трейн сета (80, 7390)\n",
      "Размер тест сета (26, 7390)\n"
     ]
    }
   ],
   "source": [
    "X_train_upsample_tfidf = tfv.transform(X_train_upsample)\n",
    "X_test_upsample_tfidf = tfv.transform(X_test)\n",
    "\n",
    "print('Размер трейн сета', X_train_upsample_tfidf.shape)\n",
    "print('Размер тест сета', X_test_upsample_tfidf.shape)"
   ]
  },
  {
   "cell_type": "markdown",
   "id": "6154ff54-8a56-4d96-8413-9a108a9c2109",
   "metadata": {},
   "source": [
    "## Обучение моделей"
   ]
  },
  {
   "cell_type": "markdown",
   "id": "c896d6fb-1d22-4239-afe6-b9589c7cb998",
   "metadata": {},
   "source": [
    "### One vs All LR"
   ]
  },
  {
   "cell_type": "code",
   "execution_count": 64,
   "id": "23d6d138-970a-45fb-93d7-d628518e13e8",
   "metadata": {},
   "outputs": [
    {
     "name": "stdout",
     "output_type": "stream",
     "text": [
      "F1 score: 0.178021978021978\n"
     ]
    },
    {
     "data": {
      "image/png": "[encoded data removed]",
      "text/plain": [
       "<Figure size 432x288 with 2 Axes>"
      ]
     },
     "metadata": {
      "needs_background": "light"
     },
     "output_type": "display_data"
    }
   ],
   "source": [
    "lr = LogisticRegression(multi_class=\"ovr\", random_state=random_state)\n",
    "\n",
    "lr.fit(X_train_upsample_tfidf, y_train_upsample)\n",
    "predictions = lr.predict(X_test_upsample_tfidf)\n",
    "\n",
    "print('F1 score:', f1_score(y_test, predictions, average='weighted'))\n",
    "\n",
    "plot_confusion_matrix(lr, X_test_upsample_tfidf, y_test);"
   ]
  },
  {
   "cell_type": "markdown",
   "id": "c8ce4bf8-7d3f-40fa-ac48-b939b0cc8c04",
   "metadata": {},
   "source": [
    "### Multinomial LR"
   ]
  },
  {
   "cell_type": "code",
   "execution_count": 65,
   "id": "fa525e3a-2fac-4a8d-9047-2d186a437d5f",
   "metadata": {},
   "outputs": [
    {
     "name": "stdout",
     "output_type": "stream",
     "text": [
      "F1 score: 0.31468531468531463\n"
     ]
    },
    {
     "data": {
      "image/png": "[encoded data removed]",
      "text/plain": [
       "<Figure size 432x288 with 2 Axes>"
      ]
     },
     "metadata": {
      "needs_background": "light"
     },
     "output_type": "display_data"
    }
   ],
   "source": [
    "mlr = LogisticRegression(multi_class=\"multinomial\",\n",
    "                         random_state=random_state)\n",
    "\n",
    "mlr.fit(X_train_upsample_tfidf, y_train_upsample)\n",
    "predictions = mlr.predict(X_test_upsample_tfidf)\n",
    "\n",
    "print('F1 score:', f1_score(y_test, predictions, average='weighted'))\n",
    "\n",
    "plot_confusion_matrix(mlr, X_test_upsample_tfidf, y_test);"
   ]
  },
  {
   "cell_type": "markdown",
   "id": "38b6a685-971e-451c-92d2-8179db12317d",
   "metadata": {},
   "source": [
    "### Random Forest"
   ]
  },
  {
   "cell_type": "code",
   "execution_count": 66,
   "id": "e22b06fa-6a15-4b0f-a3be-a754ab563856",
   "metadata": {},
   "outputs": [
    {
     "name": "stdout",
     "output_type": "stream",
     "text": [
      "F1 score: 0.29070929070929075\n",
      "\n"
     ]
    },
    {
     "data": {
      "image/png": "[encoded data removed]",
      "text/plain": [
       "<Figure size 432x288 with 2 Axes>"
      ]
     },
     "metadata": {
      "needs_background": "light"
     },
     "output_type": "display_data"
    }
   ],
   "source": [
    "rf = RandomForestClassifier(random_state=random_state)\n",
    "\n",
    "rf.fit(X_train_upsample_tfidf, y_train_upsample)\n",
    "predictions = rf.predict(X_test_upsample_tfidf)\n",
    "\n",
    "print('F1 score:', f1_score(y_test, predictions, average='weighted'))\n",
    "print()\n",
    "plot_confusion_matrix(rf, X_test_upsample_tfidf, y_test);"
   ]
  },
  {
   "cell_type": "markdown",
   "id": "a5b7235e-04c5-4327-9166-127b5b7bb1a8",
   "metadata": {},
   "source": [
    "Модель по крайней мере пытается предсказывать класс 1, но все еще игнорирует классы 2 и 3"
   ]
  },
  {
   "cell_type": "markdown",
   "id": "8826d7a7-c0d0-473d-90fe-5f53b903515c",
   "metadata": {},
   "source": [
    "### Parameter tuned Random forest"
   ]
  },
  {
   "cell_type": "code",
   "execution_count": 67,
   "id": "08758a65-c0da-481f-8b7f-ea1b3fc0f11a",
   "metadata": {},
   "outputs": [],
   "source": [
    "rf = RandomForestClassifier(random_state=random_state)\n",
    "\n",
    "params = {'n_estimators': range(100, 501, 100),\n",
    "          'max_depth': range(1,5, 1),\n",
    "          'min_samples_leaf': range(3,6)}"
   ]
  },
  {
   "cell_type": "code",
   "execution_count": 68,
   "id": "ee895807-acdc-40ce-9de3-ab743c9ffe78",
   "metadata": {},
   "outputs": [
    {
     "name": "stdout",
     "output_type": "stream",
     "text": [
      "Fitting 4 folds for each of 60 candidates, totalling 240 fits\n",
      "{'max_depth': 4, 'min_samples_leaf': 5, 'n_estimators': 200}\n"
     ]
    }
   ],
   "source": [
    "f1 = make_scorer(f1_score , average='weighted')\n",
    "\n",
    "grid = GridSearchCV(estimator=rf,\n",
    "                    cv=4,\n",
    "                    param_grid=params,\n",
    "                    verbose=1,\n",
    "                    scoring=f1)\n",
    "\n",
    "grid.fit(X_train_upsample_tfidf, y_train_upsample)\n",
    "best_params = grid.best_params_\n",
    "print(best_params)"
   ]
  },
  {
   "cell_type": "code",
   "execution_count": 69,
   "id": "09243ee9-6471-4676-857a-caee9f078047",
   "metadata": {},
   "outputs": [
    {
     "name": "stdout",
     "output_type": "stream",
     "text": [
      "F1 score: 0.21005917159763315\n",
      "\n"
     ]
    },
    {
     "data": {
      "image/png": "[encoded data removed]",
      "text/plain": [
       "<Figure size 432x288 with 2 Axes>"
      ]
     },
     "metadata": {
      "needs_background": "light"
     },
     "output_type": "display_data"
    }
   ],
   "source": [
    "rf = RandomForestClassifier(max_depth=best_params['max_depth'],\n",
    "                            n_estimators=best_params['n_estimators'],\n",
    "                            random_state=random_state)\n",
    "\n",
    "rf.fit(X_train_upsample_tfidf, y_train_upsample)\n",
    "predictions = rf.predict(X_test_upsample_tfidf)\n",
    "\n",
    "print('F1 score:', f1_score(y_test, predictions, average='weighted'))\n",
    "print()\n",
    "plot_confusion_matrix(rf, X_test_upsample_tfidf, y_test);"
   ]
  },
  {
   "cell_type": "markdown",
   "id": "e3b6e019-ef8a-4247-a17b-967e85d97050",
   "metadata": {},
   "source": [
    "Результат стал хуже, плюс модель все также не обнаруживает классы 2 и 3.\n",
    "\n",
    "Могу предположить, что TF-IDF просто плохо подходит для обнаружения классов 2 и 3 — фильмов с более высоким уровнем сложности.\n",
    "\n",
    "Попробую подход с подсчетом слов в качестве фичей — количество слов определенного уровня является очень понятным способом классификации фильма по уровням языка.\n",
    "\n",
    "Применю CountVectorizer для этой задачи."
   ]
  },
  {
   "cell_type": "markdown",
   "id": "9ce2e91f-e7e0-4a44-89f4-415cffd5fc7f",
   "metadata": {},
   "source": [
    "# CountVectorizer"
   ]
  },
  {
   "cell_type": "code",
   "execution_count": 70,
   "id": "65270738-1159-4525-bb5b-7f22ef620951",
   "metadata": {},
   "outputs": [],
   "source": [
    "ctv = CountVectorizer(analyzer='word',\n",
    "            ngram_range=(1, 3), stop_words = 'english')\n",
    "\n",
    "# Fitting Count Vectorizer to both training and test sets (semi-supervised learning)\n",
    "ctv.fit(X_train)\n",
    "\n",
    "X_train_ctv =  ctv.transform(X_train) \n",
    "X_test_ctv = ctv.transform(X_test)"
   ]
  },
  {
   "cell_type": "code",
   "execution_count": 71,
   "id": "c81b06b0-6d38-4d5e-a241-21e4cb0b5e01",
   "metadata": {},
   "outputs": [
    {
     "name": "stdout",
     "output_type": "stream",
     "text": [
      "(60, 462235)\n",
      "(26, 462235)\n"
     ]
    }
   ],
   "source": [
    "print(X_train_ctv.shape)\n",
    "print(X_test_ctv.shape)"
   ]
  },
  {
   "cell_type": "markdown",
   "id": "24cdf872-8e41-45e8-8bcd-b3c99cda7e9a",
   "metadata": {},
   "source": [
    "На выходе получилось гораздо больше признаков в сравнении с TF-IDF"
   ]
  },
  {
   "cell_type": "markdown",
   "id": "d2a3ab6f-f62f-463d-bd09-f405cace005a",
   "metadata": {},
   "source": [
    "## Logistic regression"
   ]
  },
  {
   "cell_type": "code",
   "execution_count": 72,
   "id": "c20b3151-967e-4010-b283-7fc6231d2a4e",
   "metadata": {},
   "outputs": [
    {
     "name": "stdout",
     "output_type": "stream",
     "text": [
      "F1 score: 0.40532544378698215\n"
     ]
    },
    {
     "data": {
      "image/png": "[encoded data removed]",
      "text/plain": [
       "<Figure size 432x288 with 2 Axes>"
      ]
     },
     "metadata": {
      "needs_background": "light"
     },
     "output_type": "display_data"
    }
   ],
   "source": [
    "lr = LogisticRegression(multi_class=\"ovr\", random_state=random_state)\n",
    "\n",
    "lr.fit(X_train_ctv, y_train)\n",
    "predictions = lr.predict(X_test_ctv)\n",
    "\n",
    "print('F1 score:', f1_score(y_test, predictions, average='weighted'))\n",
    "\n",
    "plot_confusion_matrix(lr, X_test_ctv, y_test);"
   ]
  },
  {
   "cell_type": "code",
   "execution_count": 73,
   "id": "f4bd3546-e18c-450f-a36a-a969c16bd980",
   "metadata": {},
   "outputs": [
    {
     "name": "stdout",
     "output_type": "stream",
     "text": [
      "F1 score: 0.43438914027149317\n"
     ]
    },
    {
     "data": {
      "image/png": "[encoded data removed]",
      "text/plain": [
       "<Figure size 432x288 with 2 Axes>"
      ]
     },
     "metadata": {
      "needs_background": "light"
     },
     "output_type": "display_data"
    }
   ],
   "source": [
    "mlr = LogisticRegression(multi_class=\"multinomial\", random_state=random_state)\n",
    "\n",
    "mlr.fit(X_train_ctv, y_train)\n",
    "predictions = mlr.predict(X_test_ctv)\n",
    "\n",
    "print('F1 score:', f1_score(y_test, predictions, average='weighted'))\n",
    "\n",
    "plot_confusion_matrix(mlr, X_test_ctv, y_test);"
   ]
  },
  {
   "cell_type": "markdown",
   "id": "ec3e933f-15de-4ae6-813f-2db6f68bea66",
   "metadata": {},
   "source": [
    "Модель чуть лучше выделила класс 1, однако в остальном перформанс все еще слабый"
   ]
  },
  {
   "cell_type": "markdown",
   "id": "0f6c4f63-52f6-4717-81ab-0a54c2b35530",
   "metadata": {},
   "source": [
    "## Random Forest"
   ]
  },
  {
   "cell_type": "code",
   "execution_count": 74,
   "id": "9e7fbef0-c464-4ecb-9f85-88363eb7a377",
   "metadata": {},
   "outputs": [
    {
     "name": "stdout",
     "output_type": "stream",
     "text": [
      "F1 score: 0.28846153846153844\n",
      "\n"
     ]
    },
    {
     "data": {
      "image/png": "[encoded data removed]",
      "text/plain": [
       "<Figure size 432x288 with 2 Axes>"
      ]
     },
     "metadata": {
      "needs_background": "light"
     },
     "output_type": "display_data"
    }
   ],
   "source": [
    "rf = RandomForestClassifier(random_state=random_state)\n",
    "\n",
    "rf.fit(X_train_ctv, y_train)\n",
    "predictions = rf.predict(X_test_ctv)\n",
    "\n",
    "print('F1 score:', f1_score(y_test, predictions, average='weighted'))\n",
    "print()\n",
    "plot_confusion_matrix(rf, X_test_ctv, y_test);"
   ]
  },
  {
   "cell_type": "code",
   "execution_count": 75,
   "id": "ef285fdb-07d8-4cd2-949e-925baa8b6459",
   "metadata": {},
   "outputs": [],
   "source": [
    "rf = RandomForestClassifier(random_state=random_state)\n",
    "\n",
    "params = {'n_estimators': range(100, 501, 100),\n",
    "          'max_depth': range(1,5, 1),\n",
    "          'min_samples_leaf': range(3,6)}"
   ]
  },
  {
   "cell_type": "code",
   "execution_count": 76,
   "id": "8b573681-00a1-4a1d-93db-e1098b10313a",
   "metadata": {},
   "outputs": [
    {
     "name": "stdout",
     "output_type": "stream",
     "text": [
      "Fitting 4 folds for each of 60 candidates, totalling 240 fits\n",
      "{'max_depth': 3, 'min_samples_leaf': 5, 'n_estimators': 400}\n"
     ]
    }
   ],
   "source": [
    "f1 = make_scorer(f1_score , average='weighted')\n",
    "\n",
    "grid = GridSearchCV(estimator=rf,\n",
    "                    cv=4,\n",
    "                    param_grid=params,\n",
    "                    verbose=1,\n",
    "                    scoring=f1)\n",
    "\n",
    "grid.fit(X_train_ctv, y_train)\n",
    "best_params = grid.best_params_\n",
    "print(best_params)"
   ]
  },
  {
   "cell_type": "code",
   "execution_count": 77,
   "id": "e02c0f4a-be92-4bd7-9bce-da76cb1de652",
   "metadata": {},
   "outputs": [
    {
     "name": "stdout",
     "output_type": "stream",
     "text": [
      "F1 score: 0.178021978021978\n",
      "\n"
     ]
    },
    {
     "data": {
      "image/png": "[encoded data removed]",
      "text/plain": [
       "<Figure size 432x288 with 2 Axes>"
      ]
     },
     "metadata": {
      "needs_background": "light"
     },
     "output_type": "display_data"
    }
   ],
   "source": [
    "rf = RandomForestClassifier(max_depth=best_params['max_depth'],\n",
    "                            n_estimators=best_params['n_estimators'],\n",
    "                            random_state=random_state)\n",
    "\n",
    "rf.fit(X_train_ctv, y_train)\n",
    "predictions = rf.predict(X_test_ctv)\n",
    "\n",
    "print('F1 score:', f1_score(y_test, predictions, average='weighted'))\n",
    "print()\n",
    "plot_confusion_matrix(rf, X_test_ctv, y_test);"
   ]
  },
  {
   "cell_type": "markdown",
   "id": "0c1eb61a-80c8-462c-8769-666f5ce7d8ba",
   "metadata": {},
   "source": [
    "## Try xgboost?"
   ]
  },
  {
   "cell_type": "code",
   "execution_count": 78,
   "id": "24a391cc-95e7-48fb-857a-b42617e8f323",
   "metadata": {},
   "outputs": [
    {
     "name": "stdout",
     "output_type": "stream",
     "text": [
      "F1 score: 0.3285425101214575\n",
      "\n"
     ]
    },
    {
     "data": {
      "image/png": "[encoded data removed]",
      "text/plain": [
       "<Figure size 432x288 with 2 Axes>"
      ]
     },
     "metadata": {
      "needs_background": "light"
     },
     "output_type": "display_data"
    }
   ],
   "source": [
    "# Fitting a simple xgboost on count_vectors\n",
    "clf = xgb.XGBClassifier(max_depth=3, n_estimators=200, learning_rate=0.1)\n",
    "clf.fit(X_train_ctv, y_train)\n",
    "predictions = clf.predict(X_test_ctv)\n",
    "\n",
    "print('F1 score:', f1_score(y_test, predictions, average='weighted'))\n",
    "print()\n",
    "plot_confusion_matrix(clf, X_test_ctv, y_test);"
   ]
  },
  {
   "cell_type": "code",
   "execution_count": 79,
   "id": "c6df1a2b-b5b6-4ffb-8c26-31cc2c65de68",
   "metadata": {},
   "outputs": [
    {
     "name": "stdout",
     "output_type": "stream",
     "text": [
      "F1 score: 0.4164835164835165\n",
      "\n"
     ]
    },
    {
     "data": {
      "image/png": "[encoded data removed]",
      "text/plain": [
       "<Figure size 432x288 with 2 Axes>"
      ]
     },
     "metadata": {
      "needs_background": "light"
     },
     "output_type": "display_data"
    }
   ],
   "source": [
    "# Fitting a simple xgboost on count_vectors\n",
    "clf = xgb.XGBClassifier(max_depth=3, n_estimators=200, learning_rate=0.01)\n",
    "clf.fit(X_train_ctv, y_train)\n",
    "predictions = clf.predict(X_test_ctv)\n",
    "\n",
    "print('F1 score:', f1_score(y_test, predictions, average='weighted'))\n",
    "print()\n",
    "plot_confusion_matrix(clf, X_test_ctv, y_test);"
   ]
  },
  {
   "cell_type": "markdown",
   "id": "9c9711b5-d3fd-44d7-ad3f-e7922858d024",
   "metadata": {},
   "source": [
    "Модель смогла выделить два объекта класс 3, это уже улучшение"
   ]
  },
  {
   "cell_type": "code",
   "execution_count": 80,
   "id": "7c6328e7-661f-43b1-83e9-df0035bce3ec",
   "metadata": {},
   "outputs": [
    {
     "name": "stdout",
     "output_type": "stream",
     "text": [
      "F1 score: 0.40786634180299336\n",
      "\n"
     ]
    },
    {
     "data": {
      "image/png": "[encoded data removed]",
      "text/plain": [
       "<Figure size 432x288 with 2 Axes>"
      ]
     },
     "metadata": {
      "needs_background": "light"
     },
     "output_type": "display_data"
    }
   ],
   "source": [
    "# Fitting a simple xgboost on tf-idfs\n",
    "clf = xgb.XGBClassifier(max_depth=3, n_estimators=200, learning_rate=0.01)\n",
    "clf.fit(X_train_tfidf, y_train)\n",
    "predictions = clf.predict(X_test_tfidf)\n",
    "\n",
    "print('F1 score:', f1_score(y_test, predictions, average='weighted'))\n",
    "print()\n",
    "plot_confusion_matrix(clf, X_test_tfidf, y_test);"
   ]
  },
  {
   "cell_type": "code",
   "execution_count": 81,
   "id": "4ecdcb42-4a51-44e8-a71e-222e197fc1e0",
   "metadata": {},
   "outputs": [
    {
     "name": "stdout",
     "output_type": "stream",
     "text": [
      "F1 score: 0.41295546558704455\n",
      "\n"
     ]
    },
    {
     "data": {
      "image/png": "[encoded data removed]",
      "text/plain": [
       "<Figure size 432x288 with 2 Axes>"
      ]
     },
     "metadata": {
      "needs_background": "light"
     },
     "output_type": "display_data"
    }
   ],
   "source": [
    "# Fitting a simple xgboost on upsample tf-idfs\n",
    "clf = xgb.XGBClassifier(max_depth=3, n_estimators=200, learning_rate=0.01)\n",
    "clf.fit(X_train_upsample_tfidf, y_train_upsample)\n",
    "predictions = clf.predict(X_test_upsample_tfidf)\n",
    "\n",
    "print('F1 score:', f1_score(y_test, predictions, average='weighted'))\n",
    "print()\n",
    "plot_confusion_matrix(clf, X_test_upsample_tfidf, y_test);"
   ]
  },
  {
   "cell_type": "markdown",
   "id": "8db5d0f8-40a8-482f-a64a-7d317ecf58ef",
   "metadata": {},
   "source": [
    "### Подбор параметров с grid search"
   ]
  },
  {
   "cell_type": "code",
   "execution_count": 82,
   "id": "6f123dbc-1e53-456e-b588-fbbcaa2a6cf3",
   "metadata": {},
   "outputs": [],
   "source": [
    "xgb_model = xgb.XGBClassifier()\n",
    "\n",
    "params = {'n_estimators': range(100, 401, 100),\n",
    "          'max_depth': range(1,4, 1),\n",
    "          'learning_rate': [0.05, 0.01, 0.001]}"
   ]
  },
  {
   "cell_type": "code",
   "execution_count": 83,
   "id": "28de3f8e-5dd6-47ee-b24a-74e97a332469",
   "metadata": {},
   "outputs": [
    {
     "name": "stdout",
     "output_type": "stream",
     "text": [
      "Fitting 4 folds for each of 36 candidates, totalling 144 fits\n",
      "{'learning_rate': 0.05, 'max_depth': 3, 'n_estimators': 100}\n",
      "CPU times: total: 38min 23s\n",
      "Wall time: 5min 22s\n"
     ]
    }
   ],
   "source": [
    "%%time\n",
    "grid = GridSearchCV(estimator=xgb_model,\n",
    "                    cv=4,\n",
    "                    param_grid=params,\n",
    "                    verbose=1,\n",
    "                    scoring=f1)\n",
    "\n",
    "grid.fit(X_train_upsample_tfidf, y_train_upsample)\n",
    "best_params = grid.best_params_\n",
    "print(best_params)"
   ]
  },
  {
   "cell_type": "code",
   "execution_count": 84,
   "id": "cddc5686-53de-45de-8ce1-3cc9d16bcfdf",
   "metadata": {},
   "outputs": [
    {
     "name": "stdout",
     "output_type": "stream",
     "text": [
      "F1 score: 0.41958041958041964\n",
      "\n"
     ]
    },
    {
     "data": {
      "image/png": "[encoded data removed]",
      "text/plain": [
       "<Figure size 432x288 with 2 Axes>"
      ]
     },
     "metadata": {
      "needs_background": "light"
     },
     "output_type": "display_data"
    }
   ],
   "source": [
    "xgb_model = xgb.XGBClassifier(max_depth=best_params['max_depth'],\n",
    "                              n_estimators=best_params['n_estimators'],\n",
    "                              learning_rate=best_params['learning_rate'])\n",
    "\n",
    "xgb_model.fit(X_train_upsample_tfidf, y_train_upsample)\n",
    "predictions = xgb_model.predict(X_test_upsample_tfidf)\n",
    "\n",
    "print('F1 score:', f1_score(y_test, predictions, average='weighted'))\n",
    "print()\n",
    "plot_confusion_matrix(xgb_model, X_test_upsample_tfidf, y_test);"
   ]
  },
  {
   "cell_type": "code",
   "execution_count": 85,
   "id": "012afd8c-f621-47e3-9ee1-6e1eb20717df",
   "metadata": {},
   "outputs": [],
   "source": [
    "# save the bst performing model so far\n",
    "with open('xgb_model.pkl','wb') as f:\n",
    "    pickle.dump(xgb_model,f)\n",
    "\n",
    "# load\n",
    "#with open('xgb_model.pkl', 'rb') as f:\n",
    "#    xgb_model = pickle.load(f)"
   ]
  },
  {
   "cell_type": "markdown",
   "id": "3a8f80eb-1c90-4dff-a847-6bcf6eb4a12b",
   "metadata": {},
   "source": [
    "Ниже я пробовал также подобрать параметры к градиентному бустингу на count_vectors, но из-за высокой размерности получилось долго и плохо :)"
   ]
  },
  {
   "cell_type": "raw",
   "id": "bea42266-6df1-4774-97a7-c281f31c5a4c",
   "metadata": {},
   "source": [
    "%%time\n",
    "\n",
    "xgb_model = xgb.XGBClassifier()\n",
    "\n",
    "params = {'n_estimators': range(100, 401, 100),\n",
    "          'max_depth': range(1,4, 1),\n",
    "          'learning_rate': [0.05, 0.01, 0.001]}\n",
    "\n",
    "grid = GridSearchCV(estimator=xgb_model,\n",
    "                    cv=4,\n",
    "                    param_grid=params,\n",
    "                    verbose=1,\n",
    "                    scoring=f1)\n",
    "\n",
    "grid.fit(X_train_ctv, y_train)\n",
    "best_params = grid.best_params_\n",
    "print(best_params)"
   ]
  },
  {
   "cell_type": "raw",
   "id": "024eb94d-2d1c-42e6-b084-33b0135ceeb9",
   "metadata": {},
   "source": [
    "xgb_model = xgb.XGBClassifier(max_depth=best_params['max_depth'],\n",
    "                              n_estimators=best_params['n_estimators'],\n",
    "                              learning_rate=best_params['learning_rate'])\n",
    "\n",
    "xgb_model.fit(X_train_ctv, y_train)\n",
    "predictions = xgb_model.predict(X_test_ctv)\n",
    "\n",
    "print('F1 score:', f1_score(y_test, predictions, average='weighted'))\n",
    "print()\n",
    "plot_confusion_matrix(xgb_model, X_test_ctv, y_test);"
   ]
  },
  {
   "cell_type": "markdown",
   "id": "43d33a9e-33f6-4ed3-b622-cefbc1c6ec9a",
   "metadata": {},
   "source": [
    "# Мысли о дальнейшей работе"
   ]
  },
  {
   "cell_type": "markdown",
   "id": "0af83f8e-0387-4ee7-ab1b-97ec2520f7f3",
   "metadata": {},
   "source": [
    "- Попробовать еще раз пройтись по данным, подумать как можно лучше их предобработать\n",
    "\n",
    "- Пересмотреть таргет. Скорее всего объекты с таргетом \"B1, B2\" просто плохо подходят для предсказания, потому что они очень похожи на B1 или B2.\n",
    "\n",
    "- Попробовать word vectors подход, например с fasttext\n",
    "\n",
    "- Выбор наиболее релевантных фичей с Chi2"
   ]
  },
  {
   "cell_type": "code",
   "execution_count": null,
   "id": "c4d4a566-3181-4bf0-a0a7-ba17ce3bc4bb",
   "metadata": {},
   "outputs": [],
   "source": []
  }
 ],
 "metadata": {
  "kernelspec": {
   "display_name": "Python 3 (ipykernel)",
   "language": "python",
   "name": "python3"
  },
  "language_info": {
   "codemirror_mode": {
    "name": "ipython",
    "version": 3
   },
   "file_extension": ".py",
   "mimetype": "text/x-python",
   "name": "python",
   "nbconvert_exporter": "python",
   "pygments_lexer": "ipython3",
   "version": "3.9.12"
  }
 },
 "nbformat": 4,
 "nbformat_minor": 5
}
