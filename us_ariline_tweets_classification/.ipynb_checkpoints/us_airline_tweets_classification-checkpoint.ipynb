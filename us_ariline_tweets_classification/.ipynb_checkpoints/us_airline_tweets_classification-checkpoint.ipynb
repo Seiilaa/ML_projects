{
 "cells": [
  {
   "cell_type": "markdown",
   "id": "552b54f4-6fea-4829-bc3a-14132ff42296",
   "metadata": {},
   "source": [
    "# Sentiment analysis on US Airline tweets data"
   ]
  },
  {
   "cell_type": "markdown",
   "id": "4f77fc76-11ce-482c-90c2-0da54e008d4f",
   "metadata": {},
   "source": [
    "## Project goal\n",
    "Explore the US Airline tweets dataset and build an ML model that will do Sentiment analysis of the tweets.\n",
    "\n",
    "## Plan\n",
    "- Get familiar with the data. Check whether the data is already devided into classes and what these classes are.\n",
    "- Explore all columns, build charts, check distributions.\n",
    "- Do preprocessing: lower the text, remove special symbols and numbers. Encode the target\n",
    "- Build basic models for the baseline. Try tf-idf, count words (with count vectorizers). Train models, check performance\n",
    "- Try word vectors approach. BERT, XLNet\n",
    "- Compare all models. Select a winner."
   ]
  },
  {
   "cell_type": "markdown",
   "id": "917d8f00-c6cc-46f3-bbb7-df121e488957",
   "metadata": {},
   "source": [
    "## About Dataset"
   ]
  },
  {
   "cell_type": "markdown",
   "id": "d0bbc5bf-2cc3-4cb6-999d-6296f9a4f934",
   "metadata": {},
   "source": [
    "Date source: https://www.kaggle.com/datasets/crowdflower/twitter-airline-sentiment\n",
    "\n",
    "'A sentiment analysis job about the problems of each major U.S. airline. Twitter data was scraped from February of 2015 and contributors were asked to first classify positive, negative, and neutral tweets, followed by categorizing negative reasons (such as \"late flight\" or \"rude service\").'"
   ]
  },
  {
   "cell_type": "markdown",
   "id": "031e59a5-599a-4d66-b29a-a29eebb60d71",
   "metadata": {},
   "source": [
    "# Get the packages and the data"
   ]
  },
  {
   "cell_type": "code",
   "execution_count": 1,
   "id": "2cdd9209-da31-4359-b8b6-866b16ecee6f",
   "metadata": {},
   "outputs": [
    {
     "name": "stderr",
     "output_type": "stream",
     "text": [
      "[nltk_data] Downloading package stopwords to\n",
      "[nltk_data]     C:\\Users\\Admin\\AppData\\Roaming\\nltk_data...\n",
      "[nltk_data]   Package stopwords is already up-to-date!\n",
      "[nltk_data] Downloading package wordnet to\n",
      "[nltk_data]     C:\\Users\\Admin\\AppData\\Roaming\\nltk_data...\n",
      "[nltk_data]   Package wordnet is already up-to-date!\n",
      "[nltk_data] Downloading package omw-1.4 to\n",
      "[nltk_data]     C:\\Users\\Admin\\AppData\\Roaming\\nltk_data...\n",
      "[nltk_data]   Package omw-1.4 is already up-to-date!\n"
     ]
    }
   ],
   "source": [
    "import pandas as pd\n",
    "import numpy as np\n",
    "import matplotlib.pyplot as plt\n",
    "import seaborn as sns\n",
    "sns.set_theme(style=\"darkgrid\")\n",
    "\n",
    "import re\n",
    "\n",
    "from sklearn.feature_extraction.text import TfidfVectorizer, CountVectorizer\n",
    "from sklearn.model_selection import train_test_split, GridSearchCV, cross_validate, KFold\n",
    "from sklearn.linear_model import LogisticRegression\n",
    "from sklearn.preprocessing import LabelEncoder\n",
    "from sklearn.metrics import plot_confusion_matrix, f1_score, make_scorer, classification_report\n",
    "from sklearn.ensemble import RandomForestClassifier\n",
    "from sklearn.utils import shuffle\n",
    "from sklearn.feature_selection import SelectKBest, chi2\n",
    "from sklearn.svm import LinearSVC\n",
    "\n",
    "import xgboost as xgb\n",
    "from nltk.corpus import stopwords \n",
    "\n",
    "import nltk\n",
    "from nltk.stem import WordNetLemmatizer\n",
    "nltk.download('stopwords')\n",
    "nltk.download('wordnet')\n",
    "nltk.download('omw-1.4')\n",
    "\n",
    "import warnings\n",
    "warnings.filterwarnings('ignore')"
   ]
  },
  {
   "cell_type": "code",
   "execution_count": 2,
   "id": "98a5fe70-1125-4e96-b612-fb2fc5eb9b42",
   "metadata": {},
   "outputs": [],
   "source": [
    "random_state = 4224"
   ]
  },
  {
   "cell_type": "code",
   "execution_count": 3,
   "id": "33e3b59e-8d62-43e0-9f1b-de15cc7c50b2",
   "metadata": {},
   "outputs": [],
   "source": [
    "path = 'C:/Users/Admin/Documents/GitHub/ML_projects/us_ariline_tweets/Tweets.csv'\n",
    "df = pd.read_csv(path)"
   ]
  },
  {
   "cell_type": "markdown",
   "id": "1d308524-cd8a-4177-afb3-f47131ea372e",
   "metadata": {},
   "source": [
    "# Data exploration"
   ]
  },
  {
   "cell_type": "code",
   "execution_count": 4,
   "id": "973b5182-5d35-41de-a334-db489a084603",
   "metadata": {},
   "outputs": [
    {
     "data": {
      "text/html": [
       "<div>\n",
       "<style scoped>\n",
       "    .dataframe tbody tr th:only-of-type {\n",
       "        vertical-align: middle;\n",
       "    }\n",
       "\n",
       "    .dataframe tbody tr th {\n",
       "        vertical-align: top;\n",
       "    }\n",
       "\n",
       "    .dataframe thead th {\n",
       "        text-align: right;\n",
       "    }\n",
       "</style>\n",
       "<table border=\"1\" class=\"dataframe\">\n",
       "  <thead>\n",
       "    <tr style=\"text-align: right;\">\n",
       "      <th></th>\n",
       "      <th>tweet_id</th>\n",
       "      <th>airline_sentiment</th>\n",
       "      <th>airline_sentiment_confidence</th>\n",
       "      <th>negativereason</th>\n",
       "      <th>negativereason_confidence</th>\n",
       "      <th>airline</th>\n",
       "      <th>airline_sentiment_gold</th>\n",
       "      <th>name</th>\n",
       "      <th>negativereason_gold</th>\n",
       "      <th>retweet_count</th>\n",
       "      <th>text</th>\n",
       "      <th>tweet_coord</th>\n",
       "      <th>tweet_created</th>\n",
       "      <th>tweet_location</th>\n",
       "      <th>user_timezone</th>\n",
       "    </tr>\n",
       "  </thead>\n",
       "  <tbody>\n",
       "    <tr>\n",
       "      <th>0</th>\n",
       "      <td>570306133677760513</td>\n",
       "      <td>neutral</td>\n",
       "      <td>1.0000</td>\n",
       "      <td>NaN</td>\n",
       "      <td>NaN</td>\n",
       "      <td>Virgin America</td>\n",
       "      <td>NaN</td>\n",
       "      <td>cairdin</td>\n",
       "      <td>NaN</td>\n",
       "      <td>0</td>\n",
       "      <td>@VirginAmerica What @dhepburn said.</td>\n",
       "      <td>NaN</td>\n",
       "      <td>2015-02-24 11:35:52 -0800</td>\n",
       "      <td>NaN</td>\n",
       "      <td>Eastern Time (US &amp; Canada)</td>\n",
       "    </tr>\n",
       "    <tr>\n",
       "      <th>1</th>\n",
       "      <td>570301130888122368</td>\n",
       "      <td>positive</td>\n",
       "      <td>0.3486</td>\n",
       "      <td>NaN</td>\n",
       "      <td>0.0000</td>\n",
       "      <td>Virgin America</td>\n",
       "      <td>NaN</td>\n",
       "      <td>jnardino</td>\n",
       "      <td>NaN</td>\n",
       "      <td>0</td>\n",
       "      <td>@VirginAmerica plus you've added commercials t...</td>\n",
       "      <td>NaN</td>\n",
       "      <td>2015-02-24 11:15:59 -0800</td>\n",
       "      <td>NaN</td>\n",
       "      <td>Pacific Time (US &amp; Canada)</td>\n",
       "    </tr>\n",
       "    <tr>\n",
       "      <th>2</th>\n",
       "      <td>570301083672813571</td>\n",
       "      <td>neutral</td>\n",
       "      <td>0.6837</td>\n",
       "      <td>NaN</td>\n",
       "      <td>NaN</td>\n",
       "      <td>Virgin America</td>\n",
       "      <td>NaN</td>\n",
       "      <td>yvonnalynn</td>\n",
       "      <td>NaN</td>\n",
       "      <td>0</td>\n",
       "      <td>@VirginAmerica I didn't today... Must mean I n...</td>\n",
       "      <td>NaN</td>\n",
       "      <td>2015-02-24 11:15:48 -0800</td>\n",
       "      <td>Lets Play</td>\n",
       "      <td>Central Time (US &amp; Canada)</td>\n",
       "    </tr>\n",
       "    <tr>\n",
       "      <th>3</th>\n",
       "      <td>570301031407624196</td>\n",
       "      <td>negative</td>\n",
       "      <td>1.0000</td>\n",
       "      <td>Bad Flight</td>\n",
       "      <td>0.7033</td>\n",
       "      <td>Virgin America</td>\n",
       "      <td>NaN</td>\n",
       "      <td>jnardino</td>\n",
       "      <td>NaN</td>\n",
       "      <td>0</td>\n",
       "      <td>@VirginAmerica it's really aggressive to blast...</td>\n",
       "      <td>NaN</td>\n",
       "      <td>2015-02-24 11:15:36 -0800</td>\n",
       "      <td>NaN</td>\n",
       "      <td>Pacific Time (US &amp; Canada)</td>\n",
       "    </tr>\n",
       "    <tr>\n",
       "      <th>4</th>\n",
       "      <td>570300817074462722</td>\n",
       "      <td>negative</td>\n",
       "      <td>1.0000</td>\n",
       "      <td>Can't Tell</td>\n",
       "      <td>1.0000</td>\n",
       "      <td>Virgin America</td>\n",
       "      <td>NaN</td>\n",
       "      <td>jnardino</td>\n",
       "      <td>NaN</td>\n",
       "      <td>0</td>\n",
       "      <td>@VirginAmerica and it's a really big bad thing...</td>\n",
       "      <td>NaN</td>\n",
       "      <td>2015-02-24 11:14:45 -0800</td>\n",
       "      <td>NaN</td>\n",
       "      <td>Pacific Time (US &amp; Canada)</td>\n",
       "    </tr>\n",
       "  </tbody>\n",
       "</table>\n",
       "</div>"
      ],
      "text/plain": [
       "             tweet_id airline_sentiment  airline_sentiment_confidence  \\\n",
       "0  570306133677760513           neutral                        1.0000   \n",
       "1  570301130888122368          positive                        0.3486   \n",
       "2  570301083672813571           neutral                        0.6837   \n",
       "3  570301031407624196          negative                        1.0000   \n",
       "4  570300817074462722          negative                        1.0000   \n",
       "\n",
       "  negativereason  negativereason_confidence         airline  \\\n",
       "0            NaN                        NaN  Virgin America   \n",
       "1            NaN                     0.0000  Virgin America   \n",
       "2            NaN                        NaN  Virgin America   \n",
       "3     Bad Flight                     0.7033  Virgin America   \n",
       "4     Can't Tell                     1.0000  Virgin America   \n",
       "\n",
       "  airline_sentiment_gold        name negativereason_gold  retweet_count  \\\n",
       "0                    NaN     cairdin                 NaN              0   \n",
       "1                    NaN    jnardino                 NaN              0   \n",
       "2                    NaN  yvonnalynn                 NaN              0   \n",
       "3                    NaN    jnardino                 NaN              0   \n",
       "4                    NaN    jnardino                 NaN              0   \n",
       "\n",
       "                                                text tweet_coord  \\\n",
       "0                @VirginAmerica What @dhepburn said.         NaN   \n",
       "1  @VirginAmerica plus you've added commercials t...         NaN   \n",
       "2  @VirginAmerica I didn't today... Must mean I n...         NaN   \n",
       "3  @VirginAmerica it's really aggressive to blast...         NaN   \n",
       "4  @VirginAmerica and it's a really big bad thing...         NaN   \n",
       "\n",
       "               tweet_created tweet_location               user_timezone  \n",
       "0  2015-02-24 11:35:52 -0800            NaN  Eastern Time (US & Canada)  \n",
       "1  2015-02-24 11:15:59 -0800            NaN  Pacific Time (US & Canada)  \n",
       "2  2015-02-24 11:15:48 -0800      Lets Play  Central Time (US & Canada)  \n",
       "3  2015-02-24 11:15:36 -0800            NaN  Pacific Time (US & Canada)  \n",
       "4  2015-02-24 11:14:45 -0800            NaN  Pacific Time (US & Canada)  "
      ]
     },
     "execution_count": 4,
     "metadata": {},
     "output_type": "execute_result"
    }
   ],
   "source": [
    "df.head()"
   ]
  },
  {
   "cell_type": "code",
   "execution_count": 5,
   "id": "43cffdcb-9cd8-4e25-b6f6-8dc0fa14189b",
   "metadata": {},
   "outputs": [
    {
     "name": "stdout",
     "output_type": "stream",
     "text": [
      "<class 'pandas.core.frame.DataFrame'>\n",
      "RangeIndex: 14640 entries, 0 to 14639\n",
      "Data columns (total 15 columns):\n",
      " #   Column                        Non-Null Count  Dtype  \n",
      "---  ------                        --------------  -----  \n",
      " 0   tweet_id                      14640 non-null  int64  \n",
      " 1   airline_sentiment             14640 non-null  object \n",
      " 2   airline_sentiment_confidence  14640 non-null  float64\n",
      " 3   negativereason                9178 non-null   object \n",
      " 4   negativereason_confidence     10522 non-null  float64\n",
      " 5   airline                       14640 non-null  object \n",
      " 6   airline_sentiment_gold        40 non-null     object \n",
      " 7   name                          14640 non-null  object \n",
      " 8   negativereason_gold           32 non-null     object \n",
      " 9   retweet_count                 14640 non-null  int64  \n",
      " 10  text                          14640 non-null  object \n",
      " 11  tweet_coord                   1019 non-null   object \n",
      " 12  tweet_created                 14640 non-null  object \n",
      " 13  tweet_location                9907 non-null   object \n",
      " 14  user_timezone                 9820 non-null   object \n",
      "dtypes: float64(2), int64(2), object(11)\n",
      "memory usage: 1.7+ MB\n"
     ]
    }
   ],
   "source": [
    "df.info()"
   ]
  },
  {
   "cell_type": "markdown",
   "id": "fd3d11ad-b210-4e63-8183-5d24d6037e6d",
   "metadata": {},
   "source": [
    "Observation:\\\n",
    "For the classification task I will probably only need the 'airline_sentiment' column — the target,\\\n",
    "and the text of the tweet.\n",
    "\n",
    "Other features might leak the target (such as negativereason) or kind of useless for the models."
   ]
  },
  {
   "cell_type": "markdown",
   "id": "8a2204f6-fe64-4724-b11f-aebcdda2cff5",
   "metadata": {},
   "source": [
    "### Explore the target variable — sentiments"
   ]
  },
  {
   "cell_type": "code",
   "execution_count": 6,
   "id": "19d757e2-b1c6-4540-8907-58b5daf38914",
   "metadata": {},
   "outputs": [
    {
     "data": {
      "text/plain": [
       "0         neutral\n",
       "1        positive\n",
       "2         neutral\n",
       "3        negative\n",
       "4        negative\n",
       "           ...   \n",
       "14635    positive\n",
       "14636    negative\n",
       "14637     neutral\n",
       "14638    negative\n",
       "14639     neutral\n",
       "Name: airline_sentiment, Length: 14640, dtype: object"
      ]
     },
     "execution_count": 6,
     "metadata": {},
     "output_type": "execute_result"
    }
   ],
   "source": [
    "target = df.airline_sentiment\n",
    "target"
   ]
  },
  {
   "cell_type": "code",
   "execution_count": 7,
   "id": "6087bf4f-4e3d-4c10-a6e6-07637605244d",
   "metadata": {},
   "outputs": [
    {
     "data": {
      "text/plain": [
       "negative    0.626913\n",
       "neutral     0.211680\n",
       "positive    0.161407\n",
       "Name: airline_sentiment, dtype: float64"
      ]
     },
     "execution_count": 7,
     "metadata": {},
     "output_type": "execute_result"
    }
   ],
   "source": [
    "target.value_counts(normalize=True)"
   ]
  },
  {
   "cell_type": "code",
   "execution_count": 8,
   "id": "5c6fade4-d090-4842-a3ba-0a44e7b644fb",
   "metadata": {},
   "outputs": [
    {
     "data": {
      "image/png": "[encoded data removed]",
      "text/plain": [
       "<Figure size 432x288 with 1 Axes>"
      ]
     },
     "metadata": {},
     "output_type": "display_data"
    }
   ],
   "source": [
    "plt.pie(x=target.value_counts(normalize=True), \n",
    "        labels=target.value_counts(normalize=True).index,\n",
    "        autopct='%1.1f%%', shadow=True, startangle=90);"
   ]
  },
  {
   "cell_type": "markdown",
   "id": "8ae6815f-311c-4b73-abc5-4a0184210bf0",
   "metadata": {},
   "source": [
    "The problem requires me to predict the sentiment of the given tweet, thus it's a text classification with 3 classes.\n",
    "\n",
    "Also it's quite interesting that the majority of tweets is negative.\\\n",
    "First of all it means that I'll have to deal with class disbalance."
   ]
  },
  {
   "cell_type": "markdown",
   "id": "e471be45-8357-444a-a558-977d77f9ae30",
   "metadata": {},
   "source": [
    "### Explore the Airlines"
   ]
  },
  {
   "cell_type": "markdown",
   "id": "782ca197-5da8-46ff-ac6a-997f6fad6565",
   "metadata": {},
   "source": [
    "It looks like there are several airlines in the dataset.\n",
    "\n",
    "Let's see what are these airlines and which ones are responsible for the negative tweets."
   ]
  },
  {
   "cell_type": "code",
   "execution_count": 9,
   "id": "66a6a35d-abd7-454b-a822-06159f28dc6d",
   "metadata": {},
   "outputs": [
    {
     "data": {
      "text/plain": [
       "array(['Virgin America', 'United', 'Southwest', 'Delta', 'US Airways',\n",
       "       'American'], dtype=object)"
      ]
     },
     "execution_count": 9,
     "metadata": {},
     "output_type": "execute_result"
    }
   ],
   "source": [
    "df.airline.unique()"
   ]
  },
  {
   "cell_type": "code",
   "execution_count": 10,
   "id": "6801e4d7-a29f-42b4-9756-0a37012f1db6",
   "metadata": {},
   "outputs": [
    {
     "data": {
      "image/png": "[encoded data removed]",
      "text/plain": [
       "<Figure size 432x288 with 1 Axes>"
      ]
     },
     "metadata": {},
     "output_type": "display_data"
    }
   ],
   "source": [
    "ax = sns.countplot(data = df, \n",
    "                   y = 'airline',\n",
    "                   order = df.airline.value_counts().index)\n",
    "ax.bar_label(ax.containers[0])\n",
    "ax.set_title('Number of tweets per Airline',)\n",
    "                                    \n",
    "plt.show()"
   ]
  },
  {
   "cell_type": "code",
   "execution_count": 11,
   "id": "0e3f0766-5e06-449c-abb0-d799d140f603",
   "metadata": {},
   "outputs": [
    {
     "data": {
      "text/html": [
       "<div>\n",
       "<style scoped>\n",
       "    .dataframe tbody tr th:only-of-type {\n",
       "        vertical-align: middle;\n",
       "    }\n",
       "\n",
       "    .dataframe tbody tr th {\n",
       "        vertical-align: top;\n",
       "    }\n",
       "\n",
       "    .dataframe thead th {\n",
       "        text-align: right;\n",
       "    }\n",
       "</style>\n",
       "<table border=\"1\" class=\"dataframe\">\n",
       "  <thead>\n",
       "    <tr style=\"text-align: right;\">\n",
       "      <th>airline_sentiment</th>\n",
       "      <th>negative</th>\n",
       "      <th>neutral</th>\n",
       "      <th>positive</th>\n",
       "    </tr>\n",
       "    <tr>\n",
       "      <th>airline</th>\n",
       "      <th></th>\n",
       "      <th></th>\n",
       "      <th></th>\n",
       "    </tr>\n",
       "  </thead>\n",
       "  <tbody>\n",
       "    <tr>\n",
       "      <th>American</th>\n",
       "      <td>1960</td>\n",
       "      <td>463</td>\n",
       "      <td>336</td>\n",
       "    </tr>\n",
       "    <tr>\n",
       "      <th>Delta</th>\n",
       "      <td>955</td>\n",
       "      <td>723</td>\n",
       "      <td>544</td>\n",
       "    </tr>\n",
       "    <tr>\n",
       "      <th>Southwest</th>\n",
       "      <td>1186</td>\n",
       "      <td>664</td>\n",
       "      <td>570</td>\n",
       "    </tr>\n",
       "    <tr>\n",
       "      <th>US Airways</th>\n",
       "      <td>2263</td>\n",
       "      <td>381</td>\n",
       "      <td>269</td>\n",
       "    </tr>\n",
       "    <tr>\n",
       "      <th>United</th>\n",
       "      <td>2633</td>\n",
       "      <td>697</td>\n",
       "      <td>492</td>\n",
       "    </tr>\n",
       "    <tr>\n",
       "      <th>Virgin America</th>\n",
       "      <td>181</td>\n",
       "      <td>171</td>\n",
       "      <td>152</td>\n",
       "    </tr>\n",
       "  </tbody>\n",
       "</table>\n",
       "</div>"
      ],
      "text/plain": [
       "airline_sentiment  negative  neutral  positive\n",
       "airline                                       \n",
       "American               1960      463       336\n",
       "Delta                   955      723       544\n",
       "Southwest              1186      664       570\n",
       "US Airways             2263      381       269\n",
       "United                 2633      697       492\n",
       "Virgin America          181      171       152"
      ]
     },
     "execution_count": 11,
     "metadata": {},
     "output_type": "execute_result"
    }
   ],
   "source": [
    "airlines_tweets = df.groupby(['airline', 'airline_sentiment'])['airline_sentiment'].count().unstack()\n",
    "airlines_tweets"
   ]
  },
  {
   "cell_type": "code",
   "execution_count": 12,
   "id": "79ffed87-6370-4d5d-a4be-6fa7b952bafe",
   "metadata": {},
   "outputs": [
    {
     "data": {
      "image/png": "[encoded data removed]",
      "text/plain": [
       "<Figure size 1152x720 with 6 Axes>"
      ]
     },
     "metadata": {},
     "output_type": "display_data"
    }
   ],
   "source": [
    "fig, axes = plt.subplots(2, 3, figsize = (16, 10))\n",
    "axes = axes.flatten()\n",
    "fig.suptitle('Sentiments per Airline', fontsize=30, y=1.05)\n",
    "\n",
    "for i, ax in zip(range(0, 6), axes):\n",
    "    temp = airlines_tweets.iloc[i]    \n",
    "    ax.pie(x = temp, labels = temp.index, autopct = '%1.1f%%', explode = [0.08, 0.03, 0.03])\n",
    "    ax.set_title(f\"{airlines_tweets.index[i]}:{format(airlines_tweets.values[i].sum(),',')}\",\n",
    "                 fontsize=18)\n",
    "\n",
    "plt.show()"
   ]
  },
  {
   "cell_type": "markdown",
   "id": "8f438ba4-5399-4956-9f08-cc52daf8776d",
   "metadata": {},
   "source": [
    "On the chart above we can see that overall the negative tweets create a majority of tweets across all companies.\n",
    "\n",
    "But the US Airways, American and United Airlines should probably do something about their reputation as the proportion of negative tweets is at around ~70%."
   ]
  },
  {
   "cell_type": "markdown",
   "id": "20015946-42c6-4b56-9d1a-75f2705657ce",
   "metadata": {},
   "source": [
    "### Retweet count"
   ]
  },
  {
   "cell_type": "code",
   "execution_count": 13,
   "id": "0eac0a75-956d-417f-b252-d5284be0a36b",
   "metadata": {},
   "outputs": [
    {
     "data": {
      "image/png": "[encoded data removed]",
      "text/plain": [
       "<Figure size 432x288 with 1 Axes>"
      ]
     },
     "metadata": {},
     "output_type": "display_data"
    }
   ],
   "source": [
    "df.retweet_count.hist(bins=100);"
   ]
  },
  {
   "cell_type": "code",
   "execution_count": 14,
   "id": "f6c23f06-ff01-43fb-948e-a920d0a08a31",
   "metadata": {},
   "outputs": [
    {
     "data": {
      "text/plain": [
       "0     13873\n",
       "1       640\n",
       "2        66\n",
       "3        22\n",
       "4        17\n",
       "5         5\n",
       "7         3\n",
       "6         3\n",
       "22        2\n",
       "8         1\n",
       "32        1\n",
       "28        1\n",
       "9         1\n",
       "18        1\n",
       "11        1\n",
       "31        1\n",
       "15        1\n",
       "44        1\n",
       "Name: retweet_count, dtype: int64"
      ]
     },
     "execution_count": 14,
     "metadata": {},
     "output_type": "execute_result"
    }
   ],
   "source": [
    "df.retweet_count.value_counts()"
   ]
  },
  {
   "cell_type": "markdown",
   "id": "1294727a-2eef-40a9-ae75-fa65a35b0be1",
   "metadata": {},
   "source": [
    "Let's take a look at the most viral tweets in this dataset (at least by the moment when the data was scrapped)"
   ]
  },
  {
   "cell_type": "code",
   "execution_count": 15,
   "id": "5cd65710-0958-4dec-9a0d-d5637e56a0a9",
   "metadata": {},
   "outputs": [
    {
     "data": {
      "text/html": [
       "<div>\n",
       "<style scoped>\n",
       "    .dataframe tbody tr th:only-of-type {\n",
       "        vertical-align: middle;\n",
       "    }\n",
       "\n",
       "    .dataframe tbody tr th {\n",
       "        vertical-align: top;\n",
       "    }\n",
       "\n",
       "    .dataframe thead th {\n",
       "        text-align: right;\n",
       "    }\n",
       "</style>\n",
       "<table border=\"1\" class=\"dataframe\">\n",
       "  <thead>\n",
       "    <tr style=\"text-align: right;\">\n",
       "      <th></th>\n",
       "      <th>tweet_id</th>\n",
       "      <th>airline_sentiment</th>\n",
       "      <th>airline_sentiment_confidence</th>\n",
       "      <th>negativereason</th>\n",
       "      <th>negativereason_confidence</th>\n",
       "      <th>airline</th>\n",
       "      <th>airline_sentiment_gold</th>\n",
       "      <th>name</th>\n",
       "      <th>negativereason_gold</th>\n",
       "      <th>retweet_count</th>\n",
       "      <th>text</th>\n",
       "      <th>tweet_coord</th>\n",
       "      <th>tweet_created</th>\n",
       "      <th>tweet_location</th>\n",
       "      <th>user_timezone</th>\n",
       "    </tr>\n",
       "  </thead>\n",
       "  <tbody>\n",
       "    <tr>\n",
       "      <th>11596</th>\n",
       "      <td>567897883875217408</td>\n",
       "      <td>negative</td>\n",
       "      <td>1.0000</td>\n",
       "      <td>Late Flight</td>\n",
       "      <td>1.0000</td>\n",
       "      <td>US Airways</td>\n",
       "      <td>NaN</td>\n",
       "      <td>OBJ_3</td>\n",
       "      <td>NaN</td>\n",
       "      <td>44</td>\n",
       "      <td>@USAirways 5 hr flight delay and a delay when ...</td>\n",
       "      <td>NaN</td>\n",
       "      <td>2015-02-17 20:06:21 -0800</td>\n",
       "      <td>NaN</td>\n",
       "      <td>Eastern Time (US &amp; Canada)</td>\n",
       "    </tr>\n",
       "    <tr>\n",
       "      <th>11582</th>\n",
       "      <td>567909106553483264</td>\n",
       "      <td>negative</td>\n",
       "      <td>1.0000</td>\n",
       "      <td>Can't Tell</td>\n",
       "      <td>0.6608</td>\n",
       "      <td>US Airways</td>\n",
       "      <td>NaN</td>\n",
       "      <td>OBJ_3</td>\n",
       "      <td>NaN</td>\n",
       "      <td>32</td>\n",
       "      <td>@USAirways of course never again tho . Thanks ...</td>\n",
       "      <td>NaN</td>\n",
       "      <td>2015-02-17 20:50:56 -0800</td>\n",
       "      <td>NaN</td>\n",
       "      <td>Eastern Time (US &amp; Canada)</td>\n",
       "    </tr>\n",
       "    <tr>\n",
       "      <th>7132</th>\n",
       "      <td>569927288751587328</td>\n",
       "      <td>negative</td>\n",
       "      <td>1.0000</td>\n",
       "      <td>Can't Tell</td>\n",
       "      <td>1.0000</td>\n",
       "      <td>Delta</td>\n",
       "      <td>NaN</td>\n",
       "      <td>TatianaKing</td>\n",
       "      <td>NaN</td>\n",
       "      <td>31</td>\n",
       "      <td>STOP. USING.THIS.WORD. IF. YOU'RE. A. COMPANY....</td>\n",
       "      <td>NaN</td>\n",
       "      <td>2015-02-23 10:30:29 -0800</td>\n",
       "      <td>New York, NY</td>\n",
       "      <td>NaN</td>\n",
       "    </tr>\n",
       "    <tr>\n",
       "      <th>9999</th>\n",
       "      <td>569584057270575105</td>\n",
       "      <td>neutral</td>\n",
       "      <td>0.6593</td>\n",
       "      <td>NaN</td>\n",
       "      <td>NaN</td>\n",
       "      <td>US Airways</td>\n",
       "      <td>NaN</td>\n",
       "      <td>airliners2</td>\n",
       "      <td>NaN</td>\n",
       "      <td>28</td>\n",
       "      <td>@USAirways with this livery back in the day. h...</td>\n",
       "      <td>NaN</td>\n",
       "      <td>2015-02-22 11:46:36 -0800</td>\n",
       "      <td>Airports Around The World</td>\n",
       "      <td>Eastern Time (US &amp; Canada)</td>\n",
       "    </tr>\n",
       "    <tr>\n",
       "      <th>5607</th>\n",
       "      <td>568869594531651584</td>\n",
       "      <td>positive</td>\n",
       "      <td>1.0000</td>\n",
       "      <td>NaN</td>\n",
       "      <td>NaN</td>\n",
       "      <td>Southwest</td>\n",
       "      <td>NaN</td>\n",
       "      <td>seattlefordguy</td>\n",
       "      <td>NaN</td>\n",
       "      <td>22</td>\n",
       "      <td>@SouthwestAir beautiful day in Seattle! http:/...</td>\n",
       "      <td>NaN</td>\n",
       "      <td>2015-02-20 12:27:35 -0800</td>\n",
       "      <td>Bellevue, WA</td>\n",
       "      <td>Hawaii</td>\n",
       "    </tr>\n",
       "  </tbody>\n",
       "</table>\n",
       "</div>"
      ],
      "text/plain": [
       "                 tweet_id airline_sentiment  airline_sentiment_confidence  \\\n",
       "11596  567897883875217408          negative                        1.0000   \n",
       "11582  567909106553483264          negative                        1.0000   \n",
       "7132   569927288751587328          negative                        1.0000   \n",
       "9999   569584057270575105           neutral                        0.6593   \n",
       "5607   568869594531651584          positive                        1.0000   \n",
       "\n",
       "      negativereason  negativereason_confidence     airline  \\\n",
       "11596    Late Flight                     1.0000  US Airways   \n",
       "11582     Can't Tell                     0.6608  US Airways   \n",
       "7132      Can't Tell                     1.0000       Delta   \n",
       "9999             NaN                        NaN  US Airways   \n",
       "5607             NaN                        NaN   Southwest   \n",
       "\n",
       "      airline_sentiment_gold            name negativereason_gold  \\\n",
       "11596                    NaN           OBJ_3                 NaN   \n",
       "11582                    NaN           OBJ_3                 NaN   \n",
       "7132                     NaN     TatianaKing                 NaN   \n",
       "9999                     NaN      airliners2                 NaN   \n",
       "5607                     NaN  seattlefordguy                 NaN   \n",
       "\n",
       "       retweet_count                                               text  \\\n",
       "11596             44  @USAirways 5 hr flight delay and a delay when ...   \n",
       "11582             32  @USAirways of course never again tho . Thanks ...   \n",
       "7132              31  STOP. USING.THIS.WORD. IF. YOU'RE. A. COMPANY....   \n",
       "9999              28  @USAirways with this livery back in the day. h...   \n",
       "5607              22  @SouthwestAir beautiful day in Seattle! http:/...   \n",
       "\n",
       "      tweet_coord              tweet_created             tweet_location  \\\n",
       "11596         NaN  2015-02-17 20:06:21 -0800                        NaN   \n",
       "11582         NaN  2015-02-17 20:50:56 -0800                        NaN   \n",
       "7132          NaN  2015-02-23 10:30:29 -0800               New York, NY   \n",
       "9999          NaN  2015-02-22 11:46:36 -0800  Airports Around The World   \n",
       "5607          NaN  2015-02-20 12:27:35 -0800               Bellevue, WA   \n",
       "\n",
       "                    user_timezone  \n",
       "11596  Eastern Time (US & Canada)  \n",
       "11582  Eastern Time (US & Canada)  \n",
       "7132                          NaN  \n",
       "9999   Eastern Time (US & Canada)  \n",
       "5607                       Hawaii  "
      ]
     },
     "execution_count": 15,
     "metadata": {},
     "output_type": "execute_result"
    }
   ],
   "source": [
    "df.sort_values(by='retweet_count',ascending=False).head()"
   ]
  },
  {
   "cell_type": "code",
   "execution_count": 16,
   "id": "a6d670cf-3b83-4152-bf88-650e8f6b1b51",
   "metadata": {},
   "outputs": [
    {
     "name": "stdout",
     "output_type": "stream",
     "text": [
      "@USAirways 5 hr flight delay and a delay when we land . Is that even real life ? Get me off this plane , I wanna go home 👠👠👠 (3 heel clicks)\n",
      "\n",
      "@USAirways of course never again tho . Thanks for tweetin ur concern but not Doin anythin to fix what happened. I'll choose wiser next time\n",
      "\n",
      "STOP. USING.THIS.WORD. IF. YOU'RE. A. COMPANY. RT @JetBlue: Our fleet's on fleek. http://t.co/Fd2TNYcTrB\n",
      "\n",
      "@USAirways with this livery back in the day. http://t.co/EEqWVAMmiy\n",
      "\n",
      "@SouthwestAir beautiful day in Seattle! http://t.co/iqu0PPVq2S\n",
      "\n"
     ]
    }
   ],
   "source": [
    "for t in df.sort_values(by='retweet_count',ascending=False).head()['text']:\n",
    "    print(t)\n",
    "    print()"
   ]
  },
  {
   "cell_type": "markdown",
   "id": "3d7b9918-9bdc-4940-a5ce-155aa60ab612",
   "metadata": {},
   "source": [
    "Nothing really stands out here. I was expecting to see some viral tweets at the top."
   ]
  },
  {
   "cell_type": "markdown",
   "id": "f0949b22-2735-4c8c-a392-9e5681f5d943",
   "metadata": {},
   "source": [
    "### Negative reasons"
   ]
  },
  {
   "cell_type": "code",
   "execution_count": 17,
   "id": "75d17498-291d-4bcc-9d6e-c2dd7b4e3f13",
   "metadata": {},
   "outputs": [
    {
     "data": {
      "text/plain": [
       "array([nan, 'Bad Flight', \"Can't Tell\", 'Late Flight',\n",
       "       'Customer Service Issue', 'Flight Booking Problems',\n",
       "       'Lost Luggage', 'Flight Attendant Complaints', 'Cancelled Flight',\n",
       "       'Damaged Luggage', 'longlines'], dtype=object)"
      ]
     },
     "execution_count": 17,
     "metadata": {},
     "output_type": "execute_result"
    }
   ],
   "source": [
    "df.negativereason.unique()"
   ]
  },
  {
   "cell_type": "code",
   "execution_count": 18,
   "id": "41c042e0-515d-450b-a580-bfa01849a384",
   "metadata": {},
   "outputs": [],
   "source": [
    "df['negativereason'] = df['negativereason'].fillna('NAN')"
   ]
  },
  {
   "cell_type": "markdown",
   "id": "9adbbe0e-dec5-4199-90fa-bf7545a94cd0",
   "metadata": {},
   "source": [
    "Looks like there are 10 reasons for the negative tweet. Let's see what reasons are the most frequently mentioned."
   ]
  },
  {
   "cell_type": "code",
   "execution_count": 19,
   "id": "a3b28b84-bc74-4989-bac5-32f341641fa2",
   "metadata": {},
   "outputs": [
    {
     "data": {
      "image/png": "[encoded data removed]",
      "text/plain": [
       "<Figure size 432x288 with 1 Axes>"
      ]
     },
     "metadata": {},
     "output_type": "display_data"
    }
   ],
   "source": [
    "ax = sns.countplot(data = df, \n",
    "                   y = 'negativereason',\n",
    "                   order = df.negativereason.value_counts().index)\n",
    "ax.bar_label(ax.containers[0])\n",
    "ax.set_title('Reasons for a negative tweet',)\n",
    "                                    \n",
    "plt.show()"
   ]
  },
  {
   "cell_type": "markdown",
   "id": "1eb8860e-7bb4-4d1a-9d67-d473fffe897b",
   "metadata": {},
   "source": [
    "Most of the negative tweets don't have reason specified.\n",
    "\n",
    "Overall the reasons and their distributions are quite understandable — issues with customer service or late flights are the most popular ones."
   ]
  },
  {
   "cell_type": "markdown",
   "id": "a1d49061-357e-43c2-bd73-68df126fad0a",
   "metadata": {},
   "source": [
    "### User timezones"
   ]
  },
  {
   "cell_type": "code",
   "execution_count": 20,
   "id": "058ccec2-5c68-43ac-9d34-232d91fa8ef7",
   "metadata": {},
   "outputs": [
    {
     "data": {
      "text/plain": [
       "array(['Eastern Time (US & Canada)', 'Pacific Time (US & Canada)',\n",
       "       'Central Time (US & Canada)', 'America/New_York',\n",
       "       'Atlantic Time (Canada)', 'Quito', nan,\n",
       "       'Mountain Time (US & Canada)', 'Vienna', 'Caracas', 'Kuala Lumpur',\n",
       "       'Brisbane', 'Arizona', 'London', 'Tehran', 'Alaska', 'Sydney',\n",
       "       'Irkutsk', 'Santiago', 'Amsterdam', 'Tijuana', 'Abu Dhabi',\n",
       "       'Central America', 'Edinburgh', 'Jerusalem', 'Hawaii', 'Paris',\n",
       "       'Guam', 'New Delhi', 'Stockholm', 'America/Chicago', 'Berlin',\n",
       "       'Madrid', 'Athens', 'Brussels', 'Taipei', 'Rome', 'Beijing',\n",
       "       'Mexico City', 'Bern', 'Singapore', 'Indiana (East)', 'Melbourne',\n",
       "       'Saskatchewan', 'Casablanca', 'Brasilia', 'Kyiv', 'Bucharest',\n",
       "       'Greenland', 'Prague', 'New Caledonia', 'Bogota', 'Seoul',\n",
       "       'Sarajevo', 'Wellington', 'Bangkok', 'Warsaw', 'Copenhagen',\n",
       "       'Hong Kong', 'Guadalajara', 'Mid-Atlantic', 'Mazatlan',\n",
       "       'Buenos Aires', 'America/Los_Angeles', 'Dublin', 'Lisbon',\n",
       "       'Newfoundland', 'Monterrey', 'Tokyo', 'America/Detroit',\n",
       "       'Midway Island', 'Istanbul', 'Solomon Is.', 'America/Atikokan',\n",
       "       'Adelaide', 'Nairobi', 'EST', 'Lima', 'Islamabad', 'Helsinki',\n",
       "       'Pretoria', 'West Central Africa', 'America/Boise', 'Canberra',\n",
       "       'Perth', 'La Paz'], dtype=object)"
      ]
     },
     "execution_count": 20,
     "metadata": {},
     "output_type": "execute_result"
    }
   ],
   "source": [
    "df.user_timezone.unique()"
   ]
  },
  {
   "cell_type": "code",
   "execution_count": 21,
   "id": "0f61ad8c-8e7f-42de-9e3a-debcf3795bb6",
   "metadata": {},
   "outputs": [
    {
     "data": {
      "text/plain": [
       "Eastern Time (US & Canada)     3744\n",
       "Central Time (US & Canada)     1931\n",
       "Pacific Time (US & Canada)     1208\n",
       "Quito                           738\n",
       "Atlantic Time (Canada)          497\n",
       "Mountain Time (US & Canada)     369\n",
       "Arizona                         229\n",
       "London                          195\n",
       "Alaska                          108\n",
       "Sydney                          107\n",
       "Hawaii                          104\n",
       "Amsterdam                        74\n",
       "America/Chicago                  37\n",
       "Indiana (East)                   26\n",
       "America/New_York                 26\n",
       "Paris                            25\n",
       "Abu Dhabi                        23\n",
       "Brasilia                         23\n",
       "Santiago                         17\n",
       "Greenland                        17\n",
       "Name: user_timezone, dtype: int64"
      ]
     },
     "execution_count": 21,
     "metadata": {},
     "output_type": "execute_result"
    }
   ],
   "source": [
    "df.user_timezone.value_counts().head(20)"
   ]
  },
  {
   "cell_type": "code",
   "execution_count": 22,
   "id": "ce6158ab-fed2-44c8-a051-4147a6b52ebb",
   "metadata": {},
   "outputs": [
    {
     "data": {
      "text/plain": [
       "Eastern Time (US & Canada)     3744\n",
       "Central Time (US & Canada)     1931\n",
       "Pacific Time (US & Canada)     1208\n",
       "Quito                           738\n",
       "Atlantic Time (Canada)          497\n",
       "Mountain Time (US & Canada)     369\n",
       "Arizona                         229\n",
       "London                          195\n",
       "Alaska                          108\n",
       "Sydney                          107\n",
       "Hawaii                          104\n",
       "Amsterdam                        74\n",
       "America/Chicago                  37\n",
       "Indiana (East)                   26\n",
       "America/New_York                 26\n",
       "Paris                            25\n",
       "Abu Dhabi                        23\n",
       "Brasilia                         23\n",
       "Santiago                         17\n",
       "Greenland                        17\n",
       "Name: user_timezone, dtype: int64"
      ]
     },
     "execution_count": 22,
     "metadata": {},
     "output_type": "execute_result"
    }
   ],
   "source": [
    "df.user_timezone.value_counts().head(20)"
   ]
  },
  {
   "cell_type": "markdown",
   "id": "cae7e061-5aaf-4a96-8536-a13d10346a65",
   "metadata": {},
   "source": [
    "Most of the tweets expectedly come from the US & Canada timezones.\n",
    "\n",
    "However there are some from other countries as well — most likely these are the people who flew out of the US."
   ]
  },
  {
   "cell_type": "markdown",
   "id": "8b4383f6-7f69-43e7-a89d-a30aa751f479",
   "metadata": {},
   "source": [
    "It seems that the features other than the text data won't be helpful to my task — Sentiment classification."
   ]
  },
  {
   "cell_type": "markdown",
   "id": "b30ad4e5-8176-4054-8c9b-cea306729aac",
   "metadata": {},
   "source": [
    "# Prepocessing"
   ]
  },
  {
   "cell_type": "markdown",
   "id": "012e079c-6e04-45b2-bafb-49868c90ee5f",
   "metadata": {},
   "source": [
    "**Findings from EDA**\n",
    "\n",
    "- I should take into account the class disbalance. Should try to use an error function such as F1 score to account for the disbalance. Maybe try to upsample the data and see if it helps.\n",
    "- The text data needs some preprocessing. On top of the usual special symbols, emoji removal and text lowering I should remove twitter @tags and links. Text lemmatizing also should bw helpful.\n",
    "- I will only use 'text' column to train the model and 'airline_sentiment' as my target.\n",
    "- Other than that the data seems to be ready for the modeling work."
   ]
  },
  {
   "cell_type": "markdown",
   "id": "c5b3abb0-4c61-4c2d-a323-302b5d15119f",
   "metadata": {},
   "source": [
    "**Plan**\n",
    "\n",
    "- I will remove twitter handles, special characters.\n",
    "- Lemmatize the words\n",
    "- Label encode target column\n",
    "- Remove stopwords"
   ]
  },
  {
   "cell_type": "markdown",
   "id": "f9da5735-d544-440e-8fb0-799aea293304",
   "metadata": {},
   "source": [
    "## Text preprocessing"
   ]
  },
  {
   "cell_type": "code",
   "execution_count": 23,
   "id": "9917d2f4-0c89-42fa-92b7-248bafbbeadb",
   "metadata": {},
   "outputs": [
    {
     "data": {
      "text/html": [
       "<div>\n",
       "<style scoped>\n",
       "    .dataframe tbody tr th:only-of-type {\n",
       "        vertical-align: middle;\n",
       "    }\n",
       "\n",
       "    .dataframe tbody tr th {\n",
       "        vertical-align: top;\n",
       "    }\n",
       "\n",
       "    .dataframe thead th {\n",
       "        text-align: right;\n",
       "    }\n",
       "</style>\n",
       "<table border=\"1\" class=\"dataframe\">\n",
       "  <thead>\n",
       "    <tr style=\"text-align: right;\">\n",
       "      <th></th>\n",
       "      <th>text</th>\n",
       "      <th>airline_sentiment</th>\n",
       "    </tr>\n",
       "  </thead>\n",
       "  <tbody>\n",
       "    <tr>\n",
       "      <th>0</th>\n",
       "      <td>@VirginAmerica What @dhepburn said.</td>\n",
       "      <td>neutral</td>\n",
       "    </tr>\n",
       "    <tr>\n",
       "      <th>1</th>\n",
       "      <td>@VirginAmerica plus you've added commercials t...</td>\n",
       "      <td>positive</td>\n",
       "    </tr>\n",
       "    <tr>\n",
       "      <th>2</th>\n",
       "      <td>@VirginAmerica I didn't today... Must mean I n...</td>\n",
       "      <td>neutral</td>\n",
       "    </tr>\n",
       "    <tr>\n",
       "      <th>3</th>\n",
       "      <td>@VirginAmerica it's really aggressive to blast...</td>\n",
       "      <td>negative</td>\n",
       "    </tr>\n",
       "    <tr>\n",
       "      <th>4</th>\n",
       "      <td>@VirginAmerica and it's a really big bad thing...</td>\n",
       "      <td>negative</td>\n",
       "    </tr>\n",
       "    <tr>\n",
       "      <th>...</th>\n",
       "      <td>...</td>\n",
       "      <td>...</td>\n",
       "    </tr>\n",
       "    <tr>\n",
       "      <th>14635</th>\n",
       "      <td>@AmericanAir thank you we got on a different f...</td>\n",
       "      <td>positive</td>\n",
       "    </tr>\n",
       "    <tr>\n",
       "      <th>14636</th>\n",
       "      <td>@AmericanAir leaving over 20 minutes Late Flig...</td>\n",
       "      <td>negative</td>\n",
       "    </tr>\n",
       "    <tr>\n",
       "      <th>14637</th>\n",
       "      <td>@AmericanAir Please bring American Airlines to...</td>\n",
       "      <td>neutral</td>\n",
       "    </tr>\n",
       "    <tr>\n",
       "      <th>14638</th>\n",
       "      <td>@AmericanAir you have my money, you change my ...</td>\n",
       "      <td>negative</td>\n",
       "    </tr>\n",
       "    <tr>\n",
       "      <th>14639</th>\n",
       "      <td>@AmericanAir we have 8 ppl so we need 2 know h...</td>\n",
       "      <td>neutral</td>\n",
       "    </tr>\n",
       "  </tbody>\n",
       "</table>\n",
       "<p>14640 rows × 2 columns</p>\n",
       "</div>"
      ],
      "text/plain": [
       "                                                    text airline_sentiment\n",
       "0                    @VirginAmerica What @dhepburn said.           neutral\n",
       "1      @VirginAmerica plus you've added commercials t...          positive\n",
       "2      @VirginAmerica I didn't today... Must mean I n...           neutral\n",
       "3      @VirginAmerica it's really aggressive to blast...          negative\n",
       "4      @VirginAmerica and it's a really big bad thing...          negative\n",
       "...                                                  ...               ...\n",
       "14635  @AmericanAir thank you we got on a different f...          positive\n",
       "14636  @AmericanAir leaving over 20 minutes Late Flig...          negative\n",
       "14637  @AmericanAir Please bring American Airlines to...           neutral\n",
       "14638  @AmericanAir you have my money, you change my ...          negative\n",
       "14639  @AmericanAir we have 8 ppl so we need 2 know h...           neutral\n",
       "\n",
       "[14640 rows x 2 columns]"
      ]
     },
     "execution_count": 23,
     "metadata": {},
     "output_type": "execute_result"
    }
   ],
   "source": [
    "df = df[['text', 'airline_sentiment']]\n",
    "df"
   ]
  },
  {
   "cell_type": "code",
   "execution_count": 24,
   "id": "2cb1faa1-99ae-411c-bcfc-b1e1245685cc",
   "metadata": {},
   "outputs": [],
   "source": [
    "def remove_handle(row):\n",
    "    text = row.split()\n",
    "    for i in range(len(text)):\n",
    "        if '@' in text[i]:\n",
    "            text[i] = ''\n",
    "    return ' '.join(text)"
   ]
  },
  {
   "cell_type": "code",
   "execution_count": 25,
   "id": "db731c1b-dced-462f-bda8-042961b78974",
   "metadata": {},
   "outputs": [],
   "source": [
    "def remove_special_chars(row):\n",
    "    row = re.sub(r'[^\\w ]+', \"\", row)\n",
    "    row = ' '.join(row.split())\n",
    "    return row"
   ]
  },
  {
   "cell_type": "code",
   "execution_count": 26,
   "id": "5b08205a-00e8-4b4e-9900-5ba66052d167",
   "metadata": {},
   "outputs": [],
   "source": [
    "# Append the airlines related words to the list of stopwords.\n",
    "# This will help me to ensure that the models won't develop a bias towards certain airlines\n",
    "\n",
    "names = ['delta', 'deltaair', 'united', 'unitedair', 'southwest', 'southwestair', 'usairways',\n",
    "         'virginamerica', 'american', 'americanair', 'jetblue', 'jetblues', 'usairway',\n",
    "         'flight', 'airline', 'airlines']\n",
    "\n",
    "stop_words = stopwords.words('english')\n",
    "\n",
    "for n in names:\n",
    "    stop_words.append(n)"
   ]
  },
  {
   "cell_type": "code",
   "execution_count": 27,
   "id": "3e6c83f0-fc9c-471f-8b89-c35517bbb927",
   "metadata": {},
   "outputs": [],
   "source": [
    "def remove_stopwords(row):\n",
    "    return [word for word in row if word not in stop_words]"
   ]
  },
  {
   "cell_type": "code",
   "execution_count": 28,
   "id": "ed2b31e5-cdfb-4552-a019-e422537769a9",
   "metadata": {},
   "outputs": [],
   "source": [
    "stemmer = WordNetLemmatizer()\n",
    "\n",
    "def lemmatizer(row):\n",
    "    row = row.split()\n",
    "    row = [stemmer.lemmatize(word) for word in row]\n",
    "    return row"
   ]
  },
  {
   "cell_type": "code",
   "execution_count": 29,
   "id": "e6c4dc26-bad7-4c40-9396-6eb941da975d",
   "metadata": {},
   "outputs": [],
   "source": [
    "df['text'] = df['text'].apply(lambda x: remove_handle(x))\n",
    "df['text'] = df['text'].apply(lambda x: remove_special_chars(x))\n",
    "df['text'] = df['text'].apply(lambda x: x.lower())\n",
    "df['text'] = df['text'].apply(lambda x: lemmatizer(x))\n",
    "df['text'] = df['text'].apply(lambda x: remove_stopwords(x))"
   ]
  },
  {
   "cell_type": "code",
   "execution_count": 30,
   "id": "9cba9ca3-1271-4d36-bc54-4956e57c4c03",
   "metadata": {},
   "outputs": [
    {
     "name": "stdout",
     "output_type": "stream",
     "text": [
      "Tweet: ['said']\n",
      "Tweet: ['plus', 'youve', 'added', 'commercial', 'experience', 'tacky']\n",
      "Tweet: ['didnt', 'today', 'must', 'mean', 'need', 'take', 'another', 'trip']\n",
      "Tweet: ['really', 'aggressive', 'blast', 'obnoxious', 'entertainment', 'guest', 'face', 'amp', 'little', 'recourse']\n",
      "Tweet: ['really', 'big', 'bad', 'thing']\n"
     ]
    }
   ],
   "source": [
    "for i in range(5):\n",
    "    print('Tweet:', df['text'].iloc[i])"
   ]
  },
  {
   "cell_type": "code",
   "execution_count": 31,
   "id": "fc75552c-f6e4-4814-aba3-deef69148039",
   "metadata": {},
   "outputs": [],
   "source": [
    "df['text'] = df['text'].apply(lambda x: ' '.join(x))"
   ]
  },
  {
   "cell_type": "markdown",
   "id": "40db11ae-ec90-4ed0-89c3-f7e53326d27c",
   "metadata": {},
   "source": [
    "OK, the texts where preprocessed, almost ready to train our first model.\n",
    "\n",
    "The stopwords will be removed by the TfidfVectorizer"
   ]
  },
  {
   "cell_type": "markdown",
   "id": "d349b82a-cd18-4266-9052-13f49f90c579",
   "metadata": {},
   "source": [
    "## Label encode the target"
   ]
  },
  {
   "cell_type": "code",
   "execution_count": 32,
   "id": "36edb145-2257-4f34-9cd9-0f46959520a2",
   "metadata": {},
   "outputs": [
    {
     "name": "stdout",
     "output_type": "stream",
     "text": [
      "[1 2 1 0 0]\n",
      "{0, 1, 2}\n"
     ]
    }
   ],
   "source": [
    "lbl_enc = LabelEncoder()\n",
    "target = lbl_enc.fit_transform(df.airline_sentiment)\n",
    "\n",
    "print(target[0:5])\n",
    "print(set(target))"
   ]
  },
  {
   "cell_type": "code",
   "execution_count": 33,
   "id": "16c4fc8f-ede2-41b2-899d-51d37f3d94ee",
   "metadata": {},
   "outputs": [
    {
     "data": {
      "text/plain": [
       "['negative', 'neutral', 'positive']"
      ]
     },
     "execution_count": 33,
     "metadata": {},
     "output_type": "execute_result"
    }
   ],
   "source": [
    "labels = lbl_enc.classes_.tolist()\n",
    "labels"
   ]
  },
  {
   "cell_type": "markdown",
   "id": "9e5c319c-faf0-46b1-a8f8-5a52c8ce834f",
   "metadata": {},
   "source": [
    "**Labeles decoding**\\\n",
    "0 — negative\\\n",
    "1 — neutral\\\n",
    "2 — positive"
   ]
  },
  {
   "cell_type": "markdown",
   "id": "d01205d0-3012-40a3-8d77-7453d865e2ec",
   "metadata": {},
   "source": [
    "Targets are ready. Let's try the TF-IDF approach."
   ]
  },
  {
   "cell_type": "markdown",
   "id": "ac0e6b6c-5cc5-4e23-889a-26141b24175d",
   "metadata": {},
   "source": [
    "# Train Test split"
   ]
  },
  {
   "cell_type": "code",
   "execution_count": 34,
   "id": "de6c93c5-c7f9-4ac7-a38a-45d6351eb399",
   "metadata": {},
   "outputs": [],
   "source": [
    "X_train, X_test, y_train, y_test = train_test_split(df['text'],\n",
    "                                                    target,\n",
    "                                                    test_size=0.2, \n",
    "                                                    random_state=random_state,\n",
    "                                                    stratify=target,\n",
    "                                                    shuffle=True)"
   ]
  },
  {
   "cell_type": "code",
   "execution_count": 35,
   "id": "26c8ebb4-517b-481a-862e-7326120dc027",
   "metadata": {},
   "outputs": [
    {
     "name": "stdout",
     "output_type": "stream",
     "text": [
      "11712\n",
      "2928\n"
     ]
    }
   ],
   "source": [
    "print(len(X_train))\n",
    "print(len(y_test))"
   ]
  },
  {
   "cell_type": "markdown",
   "id": "ea0939a8-7934-47c1-8822-22555e1355e5",
   "metadata": {},
   "source": [
    "# TF IDF approach"
   ]
  },
  {
   "cell_type": "code",
   "execution_count": 36,
   "id": "e58306da-a2cf-4a07-bb4b-5df314801367",
   "metadata": {},
   "outputs": [],
   "source": [
    "tfv = TfidfVectorizer(min_df=5,  norm='l2', \n",
    "                      analyzer='word', ngram_range=(1, 3), \n",
    "                      use_idf=1, smooth_idf=1, sublinear_tf=True,\n",
    "                      stop_words='english')"
   ]
  },
  {
   "cell_type": "code",
   "execution_count": 37,
   "id": "badfb8e7-5ce9-4902-a27c-ca176788bc82",
   "metadata": {},
   "outputs": [
    {
     "data": {
      "text/plain": [
       "TfidfVectorizer(min_df=5, ngram_range=(1, 3), smooth_idf=1,\n",
       "                stop_words='english', sublinear_tf=True, use_idf=1)"
      ]
     },
     "execution_count": 37,
     "metadata": {},
     "output_type": "execute_result"
    }
   ],
   "source": [
    "tfv.fit(X_train)"
   ]
  },
  {
   "cell_type": "code",
   "execution_count": 38,
   "id": "a28df1bd-8dbb-4e8a-bf71-1fc547e9eeb0",
   "metadata": {},
   "outputs": [
    {
     "name": "stdout",
     "output_type": "stream",
     "text": [
      "Train set size (11712, 3305)\n",
      "Размер тест сета (2928, 3305)\n"
     ]
    }
   ],
   "source": [
    "X_train_tfidf = tfv.transform(X_train)\n",
    "X_test_tfidf = tfv.transform(X_test)\n",
    "\n",
    "print('Train set size', X_train_tfidf.shape)\n",
    "print('Размер тест сета', X_test_tfidf.shape)"
   ]
  },
  {
   "cell_type": "markdown",
   "id": "1e63815f-b599-4b7c-bc30-57544a48ef7e",
   "metadata": {},
   "source": [
    "## Model training"
   ]
  },
  {
   "cell_type": "markdown",
   "id": "fbee6131-2f6f-42ce-9c3c-4d2c7b5d7eae",
   "metadata": {},
   "source": [
    "**Plan**\n",
    "\n",
    "- Use F1 score to measure the models performance to account for the class disbalance.\n",
    "- Use cross validation to check models performance\n",
    "- Try Logistic regression, random forest, XGboost"
   ]
  },
  {
   "cell_type": "markdown",
   "id": "77143777-dbf5-4ee0-8f9d-70098396296c",
   "metadata": {},
   "source": [
    "I also want to extract a validation set to plot a confusion_matrix with it —\\\n",
    "I helps me to understand the models performance and compare one with another."
   ]
  },
  {
   "cell_type": "code",
   "execution_count": 39,
   "id": "60db08b2-eaa6-4c9a-a160-cd1ce2a1dde3",
   "metadata": {},
   "outputs": [],
   "source": [
    "X_tfidf, X_valid_tfidf, y_tfidf, y_valid_tfidf = train_test_split(X_train_tfidf,\n",
    "                                                                  y_train,\n",
    "                                                                  test_size=0.2, \n",
    "                                                                  random_state=random_state,\n",
    "                                                                  stratify=y_train,\n",
    "                                                                  shuffle=True)"
   ]
  },
  {
   "cell_type": "code",
   "execution_count": 40,
   "id": "db789625-157b-4982-8887-83843a91c661",
   "metadata": {},
   "outputs": [],
   "source": [
    "f1 = make_scorer(f1_score , average='weighted')"
   ]
  },
  {
   "cell_type": "code",
   "execution_count": 41,
   "id": "0ea6d83b-27ed-4e85-98a4-d465a94d4ef2",
   "metadata": {},
   "outputs": [],
   "source": [
    "def get_confustion_matrix(model, X=X_valid_tfidf, y=y_valid_tfidf):\n",
    "    \n",
    "    predictions = model.predict(X)\n",
    "\n",
    "    plot_confusion_matrix(model, X, y);\n",
    "\n",
    "    print(classification_report(y, predictions, target_names=labels))"
   ]
  },
  {
   "cell_type": "markdown",
   "id": "efc81452-b448-4f61-9096-c3527c972ae4",
   "metadata": {},
   "source": [
    "### One vs All logistic regression"
   ]
  },
  {
   "cell_type": "code",
   "execution_count": 42,
   "id": "565be021-59c5-4483-bb9a-ebda96fca613",
   "metadata": {},
   "outputs": [],
   "source": [
    "lr = LogisticRegression(multi_class=\"ovr\", random_state=random_state)"
   ]
  },
  {
   "cell_type": "code",
   "execution_count": 43,
   "id": "6ca50b2f-7598-449c-88cd-a9b80a41524c",
   "metadata": {},
   "outputs": [
    {
     "name": "stdout",
     "output_type": "stream",
     "text": [
      "[0.73644466 0.74098568 0.73351316]\n",
      "\n",
      "Mean F1 score on cross validation sets is: 0.737\n"
     ]
    }
   ],
   "source": [
    "cv_results = cross_validate(lr, X_train_tfidf, y_train, cv=3, scoring=f1)\n",
    "print(cv_results['test_score'])\n",
    "print()\n",
    "print('Mean F1 score on cross validation sets is: {:.3f}'.format(cv_results['test_score'].mean()))"
   ]
  },
  {
   "cell_type": "code",
   "execution_count": 44,
   "id": "16643f9e-05a6-41ba-bb06-b09077a3ddfb",
   "metadata": {},
   "outputs": [
    {
     "name": "stdout",
     "output_type": "stream",
     "text": [
      "              precision    recall  f1-score   support\n",
      "\n",
      "    negative       0.78      0.94      0.85      1469\n",
      "     neutral       0.69      0.41      0.51       496\n",
      "    positive       0.78      0.57      0.66       378\n",
      "\n",
      "    accuracy                           0.77      2343\n",
      "   macro avg       0.75      0.64      0.67      2343\n",
      "weighted avg       0.76      0.77      0.75      2343\n",
      "\n"
     ]
    },
    {
     "data": {
      "image/png": "[encoded data removed]",
      "text/plain": [
       "<Figure size 432x288 with 2 Axes>"
      ]
     },
     "metadata": {},
     "output_type": "display_data"
    }
   ],
   "source": [
    "lr = LogisticRegression(multi_class=\"ovr\", random_state=random_state)\n",
    "lr.fit(X_tfidf, y_tfidf)\n",
    "\n",
    "get_confustion_matrix(lr)"
   ]
  },
  {
   "cell_type": "markdown",
   "id": "e4b1a2f4-3447-4b8a-9534-4af14f1617c9",
   "metadata": {},
   "source": [
    "First model shows an all right performance getting right most of the negative tweets.\\\n",
    "If the main objective for the task is to find negative tweets, this classifier can be used.\n",
    "\n",
    "However its performance with neutral and positive labels isn't as good and I should probably aim to fix it."
   ]
  },
  {
   "cell_type": "markdown",
   "id": "6f24c0f6-1b99-4c9e-94bf-5f8342f0a057",
   "metadata": {},
   "source": [
    "### Multinomial logistic regression approach"
   ]
  },
  {
   "cell_type": "code",
   "execution_count": 45,
   "id": "b356747e-9a16-4849-a902-31c7b28105f9",
   "metadata": {},
   "outputs": [],
   "source": [
    "mlr = LogisticRegression(multi_class=\"multinomial\", random_state=random_state)"
   ]
  },
  {
   "cell_type": "code",
   "execution_count": 46,
   "id": "c04b28c0-c966-4613-a105-bf70ccc7eb91",
   "metadata": {},
   "outputs": [
    {
     "name": "stdout",
     "output_type": "stream",
     "text": [
      "[0.75716184 0.75587182 0.74519992]\n",
      "\n",
      "Mean F1 score on cross validation sets is: 0.753\n"
     ]
    }
   ],
   "source": [
    "cv_results = cross_validate(mlr, X_train_tfidf, y_train, cv=3, scoring=f1)\n",
    "print(cv_results['test_score'])\n",
    "print()\n",
    "print('Mean F1 score on cross validation sets is: {:.3f}'.format(cv_results['test_score'].mean()))"
   ]
  },
  {
   "cell_type": "code",
   "execution_count": 47,
   "id": "da385c5d-529b-453a-99b3-bcbdd7f032b2",
   "metadata": {},
   "outputs": [
    {
     "name": "stdout",
     "output_type": "stream",
     "text": [
      "              precision    recall  f1-score   support\n",
      "\n",
      "    negative       0.80      0.91      0.85      1469\n",
      "     neutral       0.64      0.47      0.54       496\n",
      "    positive       0.76      0.62      0.68       378\n",
      "\n",
      "    accuracy                           0.77      2343\n",
      "   macro avg       0.74      0.67      0.69      2343\n",
      "weighted avg       0.76      0.77      0.76      2343\n",
      "\n"
     ]
    },
    {
     "data": {
      "image/png": "[encoded data removed]",
      "text/plain": [
       "<Figure size 432x288 with 2 Axes>"
      ]
     },
     "metadata": {},
     "output_type": "display_data"
    }
   ],
   "source": [
    "mlr = LogisticRegression(multi_class=\"multinomial\", random_state=random_state)\n",
    "mlr.fit(X_tfidf, y_tfidf)\n",
    "\n",
    "get_confustion_matrix(mlr)"
   ]
  },
  {
   "cell_type": "markdown",
   "id": "7fcd32d7-b3a0-484e-b653-8ed8e7eb8816",
   "metadata": {},
   "source": [
    "A bit better performance, looks like the multinomial LR better predicts the neutral and positive classes"
   ]
  },
  {
   "cell_type": "markdown",
   "id": "50f3d1f8-cdf5-4a72-8a93-a162f0081586",
   "metadata": {},
   "source": [
    "### Random forest"
   ]
  },
  {
   "cell_type": "code",
   "execution_count": 48,
   "id": "e11d0caa-7c19-4f12-9c03-e19be9663097",
   "metadata": {},
   "outputs": [
    {
     "name": "stdout",
     "output_type": "stream",
     "text": [
      "[0.74932815 0.73529096 0.74464705]\n",
      "\n",
      "Mean F1 score on cross validation sets is: 0.743\n"
     ]
    }
   ],
   "source": [
    "rf = RandomForestClassifier(random_state=random_state)\n",
    "\n",
    "cv_results = cross_validate(rf, X_train_tfidf, y_train, cv=3, scoring=f1)\n",
    "print(cv_results['test_score'])\n",
    "print()\n",
    "print('Mean F1 score on cross validation sets is: {:.3f}'.format(cv_results['test_score'].mean()))"
   ]
  },
  {
   "cell_type": "code",
   "execution_count": 49,
   "id": "7976e8d2-86a8-4fdf-a033-9351ab6d5e1f",
   "metadata": {},
   "outputs": [
    {
     "name": "stdout",
     "output_type": "stream",
     "text": [
      "              precision    recall  f1-score   support\n",
      "\n",
      "    negative       0.80      0.88      0.84      1469\n",
      "     neutral       0.59      0.48      0.53       496\n",
      "    positive       0.69      0.60      0.64       378\n",
      "\n",
      "    accuracy                           0.75      2343\n",
      "   macro avg       0.69      0.65      0.67      2343\n",
      "weighted avg       0.74      0.75      0.74      2343\n",
      "\n"
     ]
    },
    {
     "data": {
      "image/png": "[encoded data removed]",
      "text/plain": [
       "<Figure size 432x288 with 2 Axes>"
      ]
     },
     "metadata": {},
     "output_type": "display_data"
    }
   ],
   "source": [
    "rf.fit(X_tfidf, y_tfidf)\n",
    "\n",
    "get_confustion_matrix(rf)"
   ]
  },
  {
   "cell_type": "markdown",
   "id": "5882772b-df23-4f74-8a60-e97d9588d646",
   "metadata": {},
   "source": [
    "About the same results as the logistic regressions.\n",
    "\n",
    "I'll try to perform some parameter tuning."
   ]
  },
  {
   "cell_type": "code",
   "execution_count": 50,
   "id": "0930f71a-91d6-49c9-8c93-09c81465bf7e",
   "metadata": {},
   "outputs": [],
   "source": [
    "rf = RandomForestClassifier(random_state=random_state)\n",
    "\n",
    "params = {'min_samples_leaf': range(3,10),\n",
    "          'n_estimators' : range(100,501,200)}"
   ]
  },
  {
   "cell_type": "code",
   "execution_count": 51,
   "id": "908eaa2c-6db7-430d-acf6-0dc52e07529b",
   "metadata": {},
   "outputs": [
    {
     "name": "stdout",
     "output_type": "stream",
     "text": [
      "Fitting 3 folds for each of 21 candidates, totalling 63 fits\n",
      "{'min_samples_leaf': 3, 'n_estimators': 500}\n"
     ]
    }
   ],
   "source": [
    "grid = GridSearchCV(estimator=rf,\n",
    "                    cv=3,\n",
    "                    param_grid=params,\n",
    "                    verbose=1,\n",
    "                    scoring=f1)\n",
    "\n",
    "grid.fit(X_train_tfidf, y_train)\n",
    "best_params = grid.best_params_\n",
    "print(best_params)"
   ]
  },
  {
   "cell_type": "code",
   "execution_count": 52,
   "id": "448d1814-e548-4df7-b9c0-c24fdbd6d48b",
   "metadata": {},
   "outputs": [
    {
     "name": "stdout",
     "output_type": "stream",
     "text": [
      "[0.72856768 0.73439105 0.73260124]\n",
      "\n",
      "Mean F1 score on cross validation sets is: 0.732\n"
     ]
    }
   ],
   "source": [
    "rf = RandomForestClassifier(min_samples_leaf=best_params['min_samples_leaf'],\n",
    "                            n_estimators=best_params['n_estimators'],\n",
    "                            random_state=random_state)\n",
    "\n",
    "cv_results = cross_validate(rf, X_train_tfidf, y_train, cv=3, scoring=f1)\n",
    "print(cv_results['test_score'])\n",
    "print()\n",
    "print('Mean F1 score on cross validation sets is: {:.3f}'.format(cv_results['test_score'].mean()))"
   ]
  },
  {
   "cell_type": "code",
   "execution_count": 53,
   "id": "11188aa4-f349-4d58-807f-6319a2d3c860",
   "metadata": {},
   "outputs": [
    {
     "name": "stdout",
     "output_type": "stream",
     "text": [
      "              precision    recall  f1-score   support\n",
      "\n",
      "    negative       0.79      0.90      0.84      1469\n",
      "     neutral       0.60      0.44      0.51       496\n",
      "    positive       0.73      0.56      0.63       378\n",
      "\n",
      "    accuracy                           0.75      2343\n",
      "   macro avg       0.71      0.64      0.66      2343\n",
      "weighted avg       0.74      0.75      0.74      2343\n",
      "\n"
     ]
    },
    {
     "data": {
      "image/png": "[encoded data removed]",
      "text/plain": [
       "<Figure size 432x288 with 2 Axes>"
      ]
     },
     "metadata": {},
     "output_type": "display_data"
    }
   ],
   "source": [
    "rf = RandomForestClassifier(min_samples_leaf=best_params['min_samples_leaf'],\n",
    "                            n_estimators=best_params['n_estimators'],\n",
    "                            random_state=random_state)\n",
    "\n",
    "rf.fit(X_tfidf, y_tfidf)\n",
    "\n",
    "get_confustion_matrix(rf)"
   ]
  },
  {
   "cell_type": "markdown",
   "id": "dc19952f-bd45-46c7-80fd-e01192bb0633",
   "metadata": {},
   "source": [
    "All right, not much luck here. Let's move on."
   ]
  },
  {
   "cell_type": "markdown",
   "id": "5dd48e6d-d679-43a5-bf24-5a00cda9b5c2",
   "metadata": {},
   "source": [
    "### Support Vector Classification"
   ]
  },
  {
   "cell_type": "code",
   "execution_count": 54,
   "id": "a3bd2a25-6043-4d4a-93e6-27e19b4d6fb3",
   "metadata": {},
   "outputs": [],
   "source": [
    "svc = LinearSVC(C=1.0, max_iter=1000, dual=False, multi_class='ovr',random_state=random_state)"
   ]
  },
  {
   "cell_type": "code",
   "execution_count": 55,
   "id": "b2671a7a-d91d-4557-9930-22e85389876e",
   "metadata": {},
   "outputs": [
    {
     "name": "stdout",
     "output_type": "stream",
     "text": [
      "[0.75835142 0.75521576 0.75339892]\n",
      "\n",
      "Mean F1 score on cross validation sets is: 0.756\n"
     ]
    }
   ],
   "source": [
    "cv_results = cross_validate(svc, X_train_tfidf, y_train, cv=3, scoring=f1)\n",
    "print(cv_results['test_score'])\n",
    "print()\n",
    "print('Mean F1 score on cross validation sets is: {:.3f}'.format(cv_results['test_score'].mean()))"
   ]
  },
  {
   "cell_type": "code",
   "execution_count": 56,
   "id": "86149cb3-04b2-48a5-b120-b4718596d8d9",
   "metadata": {},
   "outputs": [
    {
     "name": "stdout",
     "output_type": "stream",
     "text": [
      "              precision    recall  f1-score   support\n",
      "\n",
      "    negative       0.84      0.86      0.85      1469\n",
      "     neutral       0.58      0.55      0.56       496\n",
      "    positive       0.72      0.68      0.70       378\n",
      "\n",
      "    accuracy                           0.77      2343\n",
      "   macro avg       0.71      0.70      0.70      2343\n",
      "weighted avg       0.76      0.77      0.76      2343\n",
      "\n"
     ]
    },
    {
     "data": {
      "image/png": "[encoded data removed]",
      "text/plain": [
       "<Figure size 432x288 with 2 Axes>"
      ]
     },
     "metadata": {},
     "output_type": "display_data"
    }
   ],
   "source": [
    "svc.fit(X_tfidf, y_tfidf)\n",
    "\n",
    "get_confustion_matrix(svc)"
   ]
  },
  {
   "cell_type": "markdown",
   "id": "fce10e08-4cec-44f6-9a8b-d05078bd242b",
   "metadata": {},
   "source": [
    "Support vector approach gave the best F1 score so far!\n",
    "\n",
    "It was a good thing to remember to try it."
   ]
  },
  {
   "cell_type": "markdown",
   "id": "8cd8b4de-7534-4dd4-8f74-f4aa8192c292",
   "metadata": {},
   "source": [
    "# Vader for social media text sentiment analysis"
   ]
  },
  {
   "cell_type": "markdown",
   "id": "4a20edee-e4bf-4006-b960-78472011f859",
   "metadata": {},
   "source": [
    "Vader is a pretrained Lexicon and Rule-based Model that is specifically made for sentiment classification.\n",
    "\n",
    "This article was useful for understanding how it works:\\\n",
    "https://medium.com/ro-codes/nlp-how-does-nltk-vader-calculate-sentiment-6c32d0f5046b"
   ]
  },
  {
   "cell_type": "code",
   "execution_count": 57,
   "id": "57475a8d-0884-441f-a060-d0b8caa859d8",
   "metadata": {},
   "outputs": [
    {
     "name": "stderr",
     "output_type": "stream",
     "text": [
      "[nltk_data] Downloading package vader_lexicon to\n",
      "[nltk_data]     C:\\Users\\Admin\\AppData\\Roaming\\nltk_data...\n",
      "[nltk_data]   Package vader_lexicon is already up-to-date!\n"
     ]
    }
   ],
   "source": [
    "nltk.download('vader_lexicon')\n",
    "from nltk.sentiment.vader import SentimentIntensityAnalyzer"
   ]
  },
  {
   "cell_type": "code",
   "execution_count": 58,
   "id": "a2fbcf79-65bf-4b44-8813-c9dc0a592373",
   "metadata": {},
   "outputs": [],
   "source": [
    "vader = SentimentIntensityAnalyzer()"
   ]
  },
  {
   "cell_type": "markdown",
   "id": "8dfcbe4f-27aa-4d03-b173-b728c73bde9f",
   "metadata": {},
   "source": [
    "Let's test it on 10 randomly selected tweets"
   ]
  },
  {
   "cell_type": "code",
   "execution_count": 59,
   "id": "bbb107c9-32b6-4d13-b627-661dd3768caf",
   "metadata": {},
   "outputs": [
    {
     "name": "stdout",
     "output_type": "stream",
     "text": [
      "thanks instant reply still first bag free important\n",
      "{'neg': 0.0, 'neu': 0.385, 'pos': 0.615, 'compound': 0.7906}\n",
      "\n",
      "wa fault wa delayed begin shouldnt check bag bunch space\n",
      "{'neg': 0.365, 'neu': 0.635, 'pos': 0.0, 'compound': -0.5574}\n",
      "\n",
      "going nightmare guy yesterday zero response tweet last sent\n",
      "{'neg': 0.0, 'neu': 1.0, 'pos': 0.0, 'compound': 0.0}\n",
      "\n",
      "joke lot angry people iah\n",
      "{'neg': 0.388, 'neu': 0.353, 'pos': 0.259, 'compound': -0.2732}\n",
      "\n",
      "thanks delaying hour boarding u onto reek vomit wasnt cleaned properly\n",
      "{'neg': 0.238, 'neu': 0.559, 'pos': 0.203, 'compound': -0.128}\n",
      "\n",
      "wa supposed carry pittsburgh coming boston wa carry\n",
      "{'neg': 0.0, 'neu': 1.0, 'pos': 0.0, 'compound': 0.0}\n",
      "\n",
      "report missing baggage baggage claim leaf midnight\n",
      "{'neg': 0.268, 'neu': 0.732, 'pos': 0.0, 'compound': -0.296}\n",
      "\n",
      "wanted get bag benefit instead get 25 pricing three ticket adding card mp visa option\n",
      "{'neg': 0.0, 'neu': 0.824, 'pos': 0.176, 'compound': 0.4588}\n",
      "\n",
      "customer service today wa deplorable plenty way u could gotten u badcustomerservice\n",
      "{'neg': 0.0, 'neu': 1.0, 'pos': 0.0, 'compound': 0.0}\n",
      "\n",
      "thanks yes got biggest frustration im longer able check online 4 cancelled\n",
      "{'neg': 0.288, 'neu': 0.395, 'pos': 0.316, 'compound': 0.128}\n",
      "\n"
     ]
    }
   ],
   "source": [
    "for i in range(10):\n",
    "    x = np.random.randint(X_train.shape[0])\n",
    "    tweet = X_train.iloc[x]\n",
    "    print(tweet)\n",
    "    print(vader.polarity_scores(tweet))\n",
    "    print()"
   ]
  },
  {
   "cell_type": "code",
   "execution_count": 60,
   "id": "b0b33fab-79ee-4ad2-8608-371ee0ecc71b",
   "metadata": {},
   "outputs": [],
   "source": [
    "def vader_analysis(row):\n",
    "    sentiment = vader.polarity_scores(row)\n",
    "    negative_score = sentiment['neg']\n",
    "    neu_score = sentiment['neu']\n",
    "    positive_score = sentiment['pos']\n",
    "\n",
    "    if negative_score > neu_score and negative_score > positive_score:\n",
    "        return 0\n",
    "    if neu_score > negative_score and neu_score > positive_score:\n",
    "        return 1\n",
    "    if positive_score > neu_score and positive_score > negative_score:\n",
    "        return 2\n",
    "    else:\n",
    "        return np.random.randint(3) # a temporary solution to avoid missing values"
   ]
  },
  {
   "cell_type": "code",
   "execution_count": 61,
   "id": "5f96e444-afe2-4dbc-bf97-d8795bf812db",
   "metadata": {},
   "outputs": [],
   "source": [
    "predictions = X_train.apply(lambda x: vader_analysis(x))"
   ]
  },
  {
   "cell_type": "code",
   "execution_count": 62,
   "id": "5ec3d3c4-b40b-4902-b618-ba7018e1cb75",
   "metadata": {},
   "outputs": [
    {
     "data": {
      "text/plain": [
       "1    9562\n",
       "2    1566\n",
       "0     584\n",
       "Name: text, dtype: int64"
      ]
     },
     "execution_count": 62,
     "metadata": {},
     "output_type": "execute_result"
    }
   ],
   "source": [
    "predictions.value_counts()"
   ]
  },
  {
   "cell_type": "code",
   "execution_count": 63,
   "id": "34ac226f-59e7-4cb2-97d8-7268e5263a63",
   "metadata": {},
   "outputs": [
    {
     "data": {
      "text/plain": [
       "0    7343\n",
       "1    2479\n",
       "2    1890\n",
       "dtype: int64"
      ]
     },
     "execution_count": 63,
     "metadata": {},
     "output_type": "execute_result"
    }
   ],
   "source": [
    "pd.Series(y_train).value_counts()"
   ]
  },
  {
   "cell_type": "code",
   "execution_count": 64,
   "id": "3734c61e-ed7b-4d74-8488-8fa4397576e2",
   "metadata": {},
   "outputs": [
    {
     "name": "stdout",
     "output_type": "stream",
     "text": [
      "              precision    recall  f1-score   support\n",
      "\n",
      "    negative       0.89      0.07      0.13      7343\n",
      "     neutral       0.22      0.87      0.36      2479\n",
      "    positive       0.59      0.49      0.53      1890\n",
      "\n",
      "    accuracy                           0.31     11712\n",
      "   macro avg       0.57      0.47      0.34     11712\n",
      "weighted avg       0.70      0.31      0.24     11712\n",
      "\n"
     ]
    }
   ],
   "source": [
    "print(classification_report(y_train, predictions, target_names=labels))"
   ]
  },
  {
   "cell_type": "markdown",
   "id": "862a6fa1-5dcf-4c00-a460-e138d45ab07d",
   "metadata": {},
   "source": [
    "This approach seems to produce poor results but I have to say that it is rather good at identifying negative tweets!\n",
    "\n",
    "I suggest that with some tweeks (like lowering the \"neutral\" score as the model seems to classify objects as neutral too often) it might result in an interesting model!"
   ]
  },
  {
   "cell_type": "markdown",
   "id": "f7b98e56-a648-43e3-8e5d-acf497ebc5e6",
   "metadata": {},
   "source": [
    "# Count vectors"
   ]
  },
  {
   "cell_type": "markdown",
   "id": "2991b084-d1f7-43b6-b34c-af74ca7b0014",
   "metadata": {},
   "source": [
    "Now I want to try another classical NLP approach by counting the number of each word in the corpus.\n",
    "\n",
    "For this approach I will use CountVectorizer from sklearn.\n",
    "Once I get the vectors, I will attempt to train the same ML models as I did with TF-IDFs"
   ]
  },
  {
   "cell_type": "code",
   "execution_count": 65,
   "id": "b57b28de-74cc-4d10-831d-cb5ef62438b5",
   "metadata": {},
   "outputs": [],
   "source": [
    "ctv = CountVectorizer(analyzer='word',\n",
    "                      ngram_range=(1, 3))\n",
    "\n",
    "ctv.fit(X_train)\n",
    "\n",
    "X_train_ctv =  ctv.transform(X_train) \n",
    "X_test_ctv = ctv.transform(X_test)"
   ]
  },
  {
   "cell_type": "code",
   "execution_count": 66,
   "id": "ab5840cb-7cb1-4695-8577-34f88cc40b71",
   "metadata": {},
   "outputs": [
    {
     "name": "stdout",
     "output_type": "stream",
     "text": [
      "(11712, 158452)\n",
      "(2928, 158452)\n"
     ]
    }
   ],
   "source": [
    "print(X_train_ctv.shape)\n",
    "print(X_test_ctv.shape)"
   ]
  },
  {
   "cell_type": "code",
   "execution_count": 67,
   "id": "2acef80e-7c2a-417a-8545-89a1d26a7d1a",
   "metadata": {},
   "outputs": [],
   "source": [
    "select_k_best = SelectKBest(chi2, k=10000).fit(X_train_ctv, y_train)\n",
    "X_train_ctv = select_k_best.transform(X_train_ctv)\n",
    "X_test_ctv = select_k_best.transform(X_test_ctv)"
   ]
  },
  {
   "cell_type": "code",
   "execution_count": 68,
   "id": "38a33e9a-145d-454f-a3cb-29e34069aedc",
   "metadata": {},
   "outputs": [
    {
     "name": "stdout",
     "output_type": "stream",
     "text": [
      "(11712, 10000)\n",
      "(2928, 10000)\n"
     ]
    }
   ],
   "source": [
    "print(X_train_ctv.shape)\n",
    "print(X_test_ctv.shape)"
   ]
  },
  {
   "cell_type": "markdown",
   "id": "6ae9b8fc-8db3-4f01-984d-88b6b9bb4600",
   "metadata": {},
   "source": [
    "Let's also extract a validation set for the confustion_matrix"
   ]
  },
  {
   "cell_type": "code",
   "execution_count": 69,
   "id": "88d58680-26f8-4a90-8e8e-cd570c7d4e64",
   "metadata": {},
   "outputs": [],
   "source": [
    "X_ctv, X_valid_ctv, y_ctv, y_valid_ctv = train_test_split(X_train_ctv,\n",
    "                                                          y_train,\n",
    "                                                          test_size=0.2, \n",
    "                                                          random_state=random_state,\n",
    "                                                          stratify=y_train,\n",
    "                                                          shuffle=True)"
   ]
  },
  {
   "cell_type": "markdown",
   "id": "404c7413-671f-4fc0-9f1e-c3932515095b",
   "metadata": {},
   "source": [
    "## Logistic regression"
   ]
  },
  {
   "cell_type": "code",
   "execution_count": 70,
   "id": "738afc60-8667-4b8d-8f8e-b0a556d367b5",
   "metadata": {},
   "outputs": [
    {
     "name": "stdout",
     "output_type": "stream",
     "text": [
      "[0.79141279 0.78471143 0.79045872]\n",
      "\n",
      "Mean F1 score on cross validation sets is: 0.789\n"
     ]
    }
   ],
   "source": [
    "lr = LogisticRegression(multi_class=\"ovr\", random_state=random_state)\n",
    "\n",
    "cv_results = cross_validate(mlr, X_train_ctv, y_train, cv=3, scoring=f1)\n",
    "print(cv_results['test_score'])\n",
    "print()\n",
    "print('Mean F1 score on cross validation sets is: {:.3f}'.format(cv_results['test_score'].mean()))"
   ]
  },
  {
   "cell_type": "code",
   "execution_count": 71,
   "id": "44b53a7e-ebf5-4ad3-a628-e94a2ef9e341",
   "metadata": {},
   "outputs": [
    {
     "name": "stdout",
     "output_type": "stream",
     "text": [
      "              precision    recall  f1-score   support\n",
      "\n",
      "    negative       0.84      0.91      0.87      1469\n",
      "     neutral       0.66      0.60      0.63       496\n",
      "    positive       0.77      0.63      0.69       378\n",
      "\n",
      "    accuracy                           0.80      2343\n",
      "   macro avg       0.76      0.71      0.73      2343\n",
      "weighted avg       0.79      0.80      0.79      2343\n",
      "\n"
     ]
    },
    {
     "data": {
      "image/png": "[encoded data removed]",
      "text/plain": [
       "<Figure size 432x288 with 2 Axes>"
      ]
     },
     "metadata": {},
     "output_type": "display_data"
    }
   ],
   "source": [
    "lr.fit(X_ctv, y_ctv)\n",
    "\n",
    "get_confustion_matrix(lr, X_valid_ctv, y_valid_ctv);"
   ]
  },
  {
   "cell_type": "markdown",
   "id": "052024cf-7217-4146-b5b3-93e82eb607d6",
   "metadata": {},
   "source": [
    "The OVR Logistic regression trained on count vectors shows some very good results!\n",
    "\n",
    "So far it's the best result that I got."
   ]
  },
  {
   "cell_type": "code",
   "execution_count": 72,
   "id": "f3f20d42-ebb3-45ba-aaff-d4df42f8f572",
   "metadata": {},
   "outputs": [
    {
     "name": "stdout",
     "output_type": "stream",
     "text": [
      "[0.79141279 0.78471143 0.79045872]\n",
      "\n",
      "Mean F1 score on cross validation sets is: 0.789\n"
     ]
    }
   ],
   "source": [
    "mlr = LogisticRegression(multi_class=\"multinomial\", random_state=random_state)\n",
    "\n",
    "cv_results = cross_validate(mlr, X_train_ctv, y_train, cv=3, scoring=f1)\n",
    "print(cv_results['test_score'])\n",
    "print()\n",
    "print('Mean F1 score on cross validation sets is: {:.3f}'.format(cv_results['test_score'].mean()))"
   ]
  },
  {
   "cell_type": "code",
   "execution_count": 73,
   "id": "5e1d0e0a-7f41-41b7-a421-5ca514c86686",
   "metadata": {},
   "outputs": [
    {
     "name": "stdout",
     "output_type": "stream",
     "text": [
      "              precision    recall  f1-score   support\n",
      "\n",
      "    negative       0.84      0.90      0.87      1469\n",
      "     neutral       0.65      0.62      0.64       496\n",
      "    positive       0.78      0.62      0.69       378\n",
      "\n",
      "    accuracy                           0.80      2343\n",
      "   macro avg       0.76      0.71      0.73      2343\n",
      "weighted avg       0.79      0.80      0.79      2343\n",
      "\n"
     ]
    },
    {
     "data": {
      "image/png": "[encoded data removed]",
      "text/plain": [
       "<Figure size 432x288 with 2 Axes>"
      ]
     },
     "metadata": {},
     "output_type": "display_data"
    }
   ],
   "source": [
    "mlr = LogisticRegression(multi_class=\"multinomial\", random_state=random_state)\n",
    "mlr.fit(X_ctv, y_ctv)\n",
    "\n",
    "get_confustion_matrix(mlr, X_valid_ctv, y_valid_ctv)"
   ]
  },
  {
   "cell_type": "markdown",
   "id": "5c358ff8-4441-46f4-9073-13cc88df2a49",
   "metadata": {},
   "source": [
    "### Random Forest"
   ]
  },
  {
   "cell_type": "code",
   "execution_count": 74,
   "id": "30d215df-e491-4662-aaf3-d5c211a068cc",
   "metadata": {},
   "outputs": [
    {
     "name": "stdout",
     "output_type": "stream",
     "text": [
      "[0.74481577 0.74147398 0.72942372]\n",
      "\n",
      "Mean F1 score on cross validation sets is: 0.739\n"
     ]
    }
   ],
   "source": [
    "rf = RandomForestClassifier(random_state=random_state)\n",
    "\n",
    "cv_results = cross_validate(rf, X_train_ctv, y_train, cv=3, scoring=f1)\n",
    "print(cv_results['test_score'])\n",
    "print()\n",
    "print('Mean F1 score on cross validation sets is: {:.3f}'.format(cv_results['test_score'].mean()))"
   ]
  },
  {
   "cell_type": "code",
   "execution_count": 75,
   "id": "9006058c-eba7-452b-a6cc-52bd95bebd10",
   "metadata": {},
   "outputs": [
    {
     "name": "stdout",
     "output_type": "stream",
     "text": [
      "              precision    recall  f1-score   support\n",
      "\n",
      "    negative       0.79      0.88      0.84      1469\n",
      "     neutral       0.56      0.53      0.54       496\n",
      "    positive       0.74      0.47      0.58       378\n",
      "\n",
      "    accuracy                           0.74      2343\n",
      "   macro avg       0.70      0.63      0.65      2343\n",
      "weighted avg       0.74      0.74      0.73      2343\n",
      "\n"
     ]
    },
    {
     "data": {
      "image/png": "[encoded data removed]",
      "text/plain": [
       "<Figure size 432x288 with 2 Axes>"
      ]
     },
     "metadata": {},
     "output_type": "display_data"
    }
   ],
   "source": [
    "rf = RandomForestClassifier(random_state=random_state)\n",
    "rf.fit(X_ctv, y_ctv)\n",
    "\n",
    "get_confustion_matrix(rf, X_valid_ctv, y_valid_ctv)"
   ]
  },
  {
   "cell_type": "markdown",
   "id": "f1f78c2f-58c0-4f01-921d-9f27c3de738a",
   "metadata": {},
   "source": [
    "### Try XGBoost?"
   ]
  },
  {
   "cell_type": "code",
   "execution_count": 76,
   "id": "05a6e504-3160-41d7-b29b-9126894753a3",
   "metadata": {},
   "outputs": [
    {
     "name": "stdout",
     "output_type": "stream",
     "text": [
      "[0.72582564 0.74777495 0.76088212]\n",
      "\n",
      "Mean F1 score on cross validation sets is: 0.745\n"
     ]
    }
   ],
   "source": [
    "# Fitting a simple xgboost on count_vectors\n",
    "clf = xgb.XGBClassifier(max_depth=7, n_estimators=200, colsample_bytree=0.8, \n",
    "                        subsample=0.8, nthread=10, learning_rate=0.1)\n",
    "\n",
    "cv_results = cross_validate(clf, X_train_ctv, y_train, cv=3, scoring=f1)\n",
    "print(cv_results['test_score'])\n",
    "print()\n",
    "print('Mean F1 score on cross validation sets is: {:.3f}'.format(cv_results['test_score'].mean()))"
   ]
  },
  {
   "cell_type": "code",
   "execution_count": 77,
   "id": "5963376e-21c1-4181-9905-cec66bdf19f5",
   "metadata": {},
   "outputs": [
    {
     "name": "stdout",
     "output_type": "stream",
     "text": [
      "              precision    recall  f1-score   support\n",
      "\n",
      "    negative       0.79      0.88      0.84      1469\n",
      "     neutral       0.56      0.53      0.54       496\n",
      "    positive       0.74      0.47      0.58       378\n",
      "\n",
      "    accuracy                           0.74      2343\n",
      "   macro avg       0.70      0.63      0.65      2343\n",
      "weighted avg       0.74      0.74      0.73      2343\n",
      "\n"
     ]
    },
    {
     "data": {
      "image/png": "[encoded data removed]",
      "text/plain": [
       "<Figure size 432x288 with 2 Axes>"
      ]
     },
     "metadata": {},
     "output_type": "display_data"
    }
   ],
   "source": [
    "clf = RandomForestClassifier(random_state=random_state)\n",
    "clf.fit(X_ctv, y_ctv)\n",
    "\n",
    "get_confustion_matrix(clf, X_valid_ctv, y_valid_ctv)"
   ]
  },
  {
   "cell_type": "code",
   "execution_count": 78,
   "id": "e911c099-dca3-43e9-a102-da6bd9439ad3",
   "metadata": {},
   "outputs": [
    {
     "name": "stdout",
     "output_type": "stream",
     "text": [
      "[0.71308826 0.71391208 0.71651157]\n",
      "\n",
      "Mean F1 score on cross validation sets is: 0.715\n"
     ]
    }
   ],
   "source": [
    "# Fitting a simple xgboost on count_vectors\n",
    "clf = xgb.XGBClassifier(max_depth=7, n_estimators=200, colsample_bytree=0.8, \n",
    "                        subsample=0.8, nthread=10, learning_rate=0.1)\n",
    "\n",
    "cv_results = cross_validate(clf, X_train_tfidf, y_train, cv=3, scoring=f1)\n",
    "print(cv_results['test_score'])\n",
    "print()\n",
    "print('Mean F1 score on cross validation sets is: {:.3f}'.format(cv_results['test_score'].mean()))"
   ]
  },
  {
   "cell_type": "code",
   "execution_count": 79,
   "id": "9ba1afac-c2a7-4cf4-b6d7-4001f1b882b5",
   "metadata": {},
   "outputs": [
    {
     "name": "stdout",
     "output_type": "stream",
     "text": [
      "              precision    recall  f1-score   support\n",
      "\n",
      "    negative       0.76      0.93      0.84      1469\n",
      "     neutral       0.68      0.33      0.45       496\n",
      "    positive       0.73      0.62      0.67       378\n",
      "\n",
      "    accuracy                           0.75      2343\n",
      "   macro avg       0.72      0.63      0.65      2343\n",
      "weighted avg       0.74      0.75      0.73      2343\n",
      "\n"
     ]
    },
    {
     "data": {
      "image/png": "[encoded data removed]",
      "text/plain": [
       "<Figure size 432x288 with 2 Axes>"
      ]
     },
     "metadata": {},
     "output_type": "display_data"
    }
   ],
   "source": [
    "clf.fit(X_tfidf, y_tfidf)\n",
    "\n",
    "get_confustion_matrix(clf)"
   ]
  },
  {
   "cell_type": "code",
   "execution_count": 81,
   "id": "15284c17-7061-4a44-b153-5add9bfc937c",
   "metadata": {},
   "outputs": [
    {
     "name": "stdout",
     "output_type": "stream",
     "text": [
      "Fitting 3 folds for each of 60 candidates, totalling 180 fits\n",
      "{'learning_rate': 0.05, 'max_depth': 7, 'n_estimators': 400}\n",
      "CPU times: total: 50min 21s\n",
      "Wall time: 6min 50s\n"
     ]
    }
   ],
   "source": [
    "%%time\n",
    "### Hyper paramenter search with gridsearch on \n",
    "\n",
    "xgb_model = xgb.XGBClassifier()\n",
    "\n",
    "params = {'n_estimators': range(100, 401, 100),\n",
    "          'max_depth': range(3,8, 1),\n",
    "          'learning_rate': [0.05, 0.01, 0.001]}\n",
    "\n",
    "grid = GridSearchCV(estimator=xgb_model,\n",
    "                    cv=3,\n",
    "                    param_grid=params,\n",
    "                    verbose=1,\n",
    "                    scoring=f1)\n",
    "\n",
    "grid.fit(X_train_ctv, y_train)\n",
    "best_params = grid.best_params_\n",
    "print(best_params)"
   ]
  },
  {
   "cell_type": "code",
   "execution_count": 82,
   "id": "5aa7b05c-8920-4305-88e5-06ccee605a19",
   "metadata": {},
   "outputs": [
    {
     "name": "stdout",
     "output_type": "stream",
     "text": [
      "[0.70808968 0.71174435 0.71285038]\n",
      "\n",
      "Mean F1 score on cross validation sets is: 0.711\n"
     ]
    }
   ],
   "source": [
    "xgb_model = xgb.XGBClassifier(max_depth=best_params['max_depth'],\n",
    "                            n_estimators=best_params['n_estimators'],\n",
    "                            learning_rate=best_params['learning_rate'],)\n",
    "\n",
    "cv_results = cross_validate(xgb_model, X_train_ctv, y_train, cv=3, scoring=f1)\n",
    "print(cv_results['test_score'])\n",
    "print()\n",
    "print('Mean F1 score on cross validation sets is: {:.3f}'.format(cv_results['test_score'].mean()))"
   ]
  },
  {
   "cell_type": "code",
   "execution_count": 83,
   "id": "344a3d8c-b325-43b9-a389-07e55402eacb",
   "metadata": {},
   "outputs": [
    {
     "name": "stdout",
     "output_type": "stream",
     "text": [
      "              precision    recall  f1-score   support\n",
      "\n",
      "    negative       0.76      0.94      0.84      1469\n",
      "     neutral       0.72      0.29      0.41       496\n",
      "    positive       0.71      0.62      0.66       378\n",
      "\n",
      "    accuracy                           0.75      2343\n",
      "   macro avg       0.73      0.61      0.64      2343\n",
      "weighted avg       0.74      0.75      0.72      2343\n",
      "\n"
     ]
    },
    {
     "data": {
      "image/png": "[encoded data removed]",
      "text/plain": [
       "<Figure size 432x288 with 2 Axes>"
      ]
     },
     "metadata": {},
     "output_type": "display_data"
    }
   ],
   "source": [
    "xgb_model.fit(X_ctv, y_ctv)\n",
    "\n",
    "get_confustion_matrix(xgb_model, X_valid_ctv, y_valid_ctv);"
   ]
  },
  {
   "cell_type": "markdown",
   "id": "1cf8d6f3-8255-43e1-892a-f29c188a5dc9",
   "metadata": {},
   "source": [
    "Perhaps with some more search I could improve the model performance but so far it seems like other approaches such as Logistic Regression and SVM show better results."
   ]
  },
  {
   "cell_type": "markdown",
   "id": "b80837d2-2113-4446-b6bb-5306db4633d3",
   "metadata": {},
   "source": [
    "# Word vectors"
   ]
  },
  {
   "cell_type": "markdown",
   "id": "f6688cb1-64fb-4cc7-afb6-1262829994f4",
   "metadata": {},
   "source": [
    "For this task I want to try pretrained Bert and Xlnet to see whether they can achieve better performance.\n",
    "\n",
    "I will use the simpletransformers library as it provides a nice interface and is useful if I want to test a hypothesis of whether a certain model is useful or not."
   ]
  },
  {
   "cell_type": "markdown",
   "id": "e381c213-5cc5-42c5-861e-7c405599255a",
   "metadata": {},
   "source": [
    "The modeling work was done in Google Colab to use their GPU.\n",
    "Here is the link to the original notebokk:\n",
    "https://colab.research.google.com/drive/1rHSsrfv9NVPE39Lvbw-KBqh7BGpd5pUd?usp=sharing\n",
    "\n",
    "Below I will paste the code and the performance results that I got.\n",
    "\n",
    "Please note that I devided the initial dataset into train, validation and test set as conducting cross validation would take additional time."
   ]
  },
  {
   "cell_type": "markdown",
   "id": "bd9901dd-bb21-410c-b7e1-2586148e3aed",
   "metadata": {},
   "source": [
    "## Bert"
   ]
  },
  {
   "cell_type": "markdown",
   "id": "e9912c08-915f-41b5-9ac2-d79667419a26",
   "metadata": {},
   "source": [
    "I also found a useful ready to use tweet preprocessor tool!\\\n",
    "https://pypi.org/project/tweet-preprocessor/\n",
    "\n",
    "I'll use it below to do the text preprocessing"
   ]
  },
  {
   "cell_type": "raw",
   "id": "320960a2-caab-4b2f-8c3d-34783b3da299",
   "metadata": {},
   "source": [
    "import preprocessor as p\n",
    "from tqdm.notebook import tqdm\n",
    "tqdm.pandas()\n",
    "\n",
    "# function to clean @, #, and links from tweets\n",
    "def clean_text(text):\n",
    " text = text.replace(\"#\",\"\")\n",
    " return p.clean(text)\n",
    "\n",
    "# Appling function to train and test data\n",
    "from tqdm.notebook import tqdm\n",
    "tqdm.pandas()\n",
    "\n",
    "df_train['text'] = df_train['text'].astype(str).progress_map(clean_text)\n",
    "df_test['text'] = df_test['text'].astype(str).progress_map(clean_text)"
   ]
  },
  {
   "cell_type": "raw",
   "id": "2fcd2ebf-c7d2-43d1-9312-8aac524e2ac3",
   "metadata": {},
   "source": [
    "df_train = df_train.rename(columns={'airline_sentiment':'labels'})\n",
    "df_test = df_test.rename(columns={'airline_sentiment':'labels'})\n",
    "\n",
    "# Label encode the target\n",
    "lbl_enc = LabelEncoder()\n",
    "df_train['labels'] = lbl_enc.fit_transform(df_train['labels'])\n",
    "df_test['labels'] = lbl_enc.fit_transform(df_test['labels'])\n",
    "\n",
    "print(df_train['labels'][0:5])\n",
    "print(set(df_train['labels']))"
   ]
  },
  {
   "cell_type": "raw",
   "id": "9dd51b6d-3a1d-4f17-8cf7-babc151edbac",
   "metadata": {},
   "source": [
    "X_train, X_valid, y_train, y_valid = train_test_split(df_train['text'], \n",
    "                                                      df_train['labels'], \n",
    "                                                      test_size=0.2, \n",
    "                                                      random_state=random_state, \n",
    "                                                      stratify=df_train['labels'])"
   ]
  },
  {
   "cell_type": "raw",
   "id": "24aaef53-a4ed-4d36-8fe9-33fad7a4a6d5",
   "metadata": {},
   "source": [
    "# Preparing train data\n",
    "train_data = pd.merge(X_train, y_train, right_index = True,left_index = True)\n",
    "\n",
    "# Preparing eval data\n",
    "valid_data = pd.merge(X_valid, y_valid, right_index = True,left_index = True)"
   ]
  },
  {
   "cell_type": "raw",
   "id": "fad6127f-ccf8-40ea-9adb-b9679886a121",
   "metadata": {},
   "source": [
    "import torch\n",
    "cuda_available = torch.cuda.is_available()"
   ]
  },
  {
   "cell_type": "markdown",
   "id": "bc6b2c2e-7797-4da7-a1f8-b14e796975ac",
   "metadata": {},
   "source": [
    "I will use 'bert-base-cased' pretrained model trained on 10 epochs.\n",
    "\n",
    "I also attempted to do 20 epochs but it seems like additional training doesn't improve the model's performance.\n",
    "\n",
    "The number of labels parameter 'num_labels' is set to 3 as we have 3 classes to predict"
   ]
  },
  {
   "cell_type": "raw",
   "id": "b9486ac9-0468-430d-8457-f1cda3f4a60f",
   "metadata": {},
   "source": [
    "from simpletransformers.classification import ClassificationModel, ClassificationArgs\n",
    "import logging\n",
    "\n",
    "\n",
    "logging.basicConfig(level=logging.INFO)\n",
    "transformers_logger = logging.getLogger(\"transformers\")\n",
    "transformers_logger.setLevel(logging.WARNING)\n",
    "\n",
    "# Optional model configuration\n",
    "model_args = ClassificationArgs(num_train_epochs=10, overwrite_output_dir=True)\n",
    "\n",
    "# Create a ClassificationModel\n",
    "model = ClassificationModel(\n",
    "    'bert',\n",
    "    'bert-base-cased',\n",
    "    num_labels=3,\n",
    "    use_cuda=cuda_available,\n",
    "    args=model_args\n",
    ") \n",
    "\n",
    "# Train the model\n",
    "model.train_model(train_data)"
   ]
  },
  {
   "cell_type": "raw",
   "id": "0f0f6624-2957-4bff-86f4-1cdd46040d8c",
   "metadata": {},
   "source": [
    "# validation set performance\n",
    "\n",
    "predicts, raw = model.predict(valid_data['text'].to_list())\n",
    "f1_score(predicts, valid_data['labels'], average='weighted')\n",
    "\n",
    ">>> 0.8404260815773291"
   ]
  },
  {
   "cell_type": "markdown",
   "id": "3f33c4fd-a623-466b-baf5-45bb76ccd893",
   "metadata": {},
   "source": [
    "The F1 score of the pretrained ClassificationModel without any hyperparameters tweaks is **0.8404**\n",
    "\n",
    "It is already better compared to all approaches I tried earlier."
   ]
  },
  {
   "cell_type": "raw",
   "id": "cc112c9a-bec4-4252-8295-c8baeee15e6d",
   "metadata": {},
   "source": [
    "# test set performance\n",
    "\n",
    "predicts, raw = model.predict(df_test['text'].to_list())\n",
    "f1_score(predicts, df_test['labels'], average='weighted')\n",
    "\n",
    ">>> 0.8260167826024554"
   ]
  },
  {
   "cell_type": "markdown",
   "id": "e873eb67-a88d-41f9-8ce3-18f15ce25f3f",
   "metadata": {},
   "source": [
    "Test set shows worse performance but it is still way above my previous attempts."
   ]
  },
  {
   "cell_type": "code",
   "execution_count": null,
   "id": "698de229-5a38-418d-b3dd-10dd925b8e2e",
   "metadata": {},
   "outputs": [],
   "source": [
    "# save the model\n",
    "\n",
    "#torch.save(model, 'bert_classifier')"
   ]
  },
  {
   "cell_type": "markdown",
   "id": "b8a9bbcb-6c71-439d-aa04-2b3929ff8067",
   "metadata": {},
   "source": [
    "## XLNet"
   ]
  },
  {
   "cell_type": "markdown",
   "id": "4561a402-931b-4711-a6f6-2afa0943c022",
   "metadata": {},
   "source": [
    "I'm going to train the XLNet with 10 training epochs as adding more epochs can be time consuming."
   ]
  },
  {
   "cell_type": "raw",
   "id": "6a172093-8a35-456c-9b97-d47b71becb45",
   "metadata": {},
   "source": [
    "logging.basicConfig(level=logging.INFO)\n",
    "transformers_logger = logging.getLogger(\"transformers\")\n",
    "transformers_logger.setLevel(logging.WARNING)\n",
    "\n",
    "# Optional model configuration\n",
    "model_args = ClassificationArgs(num_train_epochs=10, overwrite_output_dir=True)\n",
    "\n",
    "# Create a ClassificationModel\n",
    "model = ClassificationModel(\n",
    "    'xlnet',\n",
    "    'xlnet-base-cased',\n",
    "    num_labels=3,\n",
    "    use_cuda=cuda_available,\n",
    "    args=model_args\n",
    ") \n",
    "\n",
    "# Train the model\n",
    "model.train_model(train_data)"
   ]
  },
  {
   "cell_type": "raw",
   "id": "fe13b2e9-d589-4963-aaad-f37db339bc6d",
   "metadata": {},
   "source": [
    " predicts, raw = model.predict(valid_data['text'].to_list())\n",
    " f1_score(predicts, valid_data['labels'], average='weighted')\n",
    " \n",
    " \n",
    " >>> 0.841684279818529"
   ]
  },
  {
   "cell_type": "raw",
   "id": "f342fadf-df8e-4c5f-8d60-2d92252f2e0b",
   "metadata": {},
   "source": [
    "predicts, raw = model.predict(df_test['text'].to_list())\n",
    "f1_score(predicts, df_test['labels'], average='weighted')\n",
    "\n",
    "\n",
    ">>> 0.8372413488805465"
   ]
  },
  {
   "cell_type": "code",
   "execution_count": null,
   "id": "cba3a809-a088-42c7-bfed-2201d52d5f57",
   "metadata": {},
   "outputs": [],
   "source": [
    "# save the model\n",
    "\n",
    "#torch.save(model, 'xlnet_classifier')"
   ]
  },
  {
   "cell_type": "markdown",
   "id": "e3e1263d-9048-445d-99e2-a0b82b2dbd9a",
   "metadata": {},
   "source": [
    "The pretrained XLNet gives even better performance right from the start:\n",
    "\n",
    "It gives slightly better performance on the validation set: 0.841\n",
    "And 0.837 F1 score on the test set. I guess we have a winner."
   ]
  },
  {
   "cell_type": "markdown",
   "id": "1aa5d9cb-9cb0-435c-b946-9f1efe03bb0c",
   "metadata": {},
   "source": [
    "# Final results"
   ]
  },
  {
   "cell_type": "markdown",
   "id": "0d725b16-f743-448f-9aaf-5dbb7ce5843d",
   "metadata": {},
   "source": [
    "In this work I explored different approaches to the Sentiment classification task.\n",
    "\n",
    "After initial data exploration I discovered that there is class disbalance in the dataset as 62% of all tweets appeared to be negative. \n",
    "\n",
    "For this reason I decided to use F1 weighted score to measure models performance.\n",
    "\n",
    "Overall I tried 4 different NLP approaches to this task.\\\n",
    "For the first two approaches I experimented with various models such as Logistic regressors, random forests, SVC and XGBoost.\\\n",
    "Below I will summarize the findings:\n",
    "- TF-IDF — Best results were achieved with Support Vector Classifier — 0.756 F1 score \n",
    "- Count vectors — Best results achieved with Logistic regression — 0.789 F1 score\n",
    "- Vader sentiment analyzer — 0.24 F1 score but it might be worth to experiment with different weights.\n",
    "- Word vectors:\n",
    "    - Bert — 0.8404 F1 score on the validation set and 0.8260 on the test set\n",
    "    - XLNet — 0.8417 validation set and 0.8372 on the test set.\n",
    "    \n",
    "The Word vector pretrained models showed far better performance compared to the classical approches even without additional tuning. In the end the newer XLNet managed to beat Bert on both validation and test sets."
   ]
  },
  {
   "cell_type": "markdown",
   "id": "4bece37b-53e2-478d-b715-84d033a7b200",
   "metadata": {},
   "source": [
    "# Additional resources"
   ]
  },
  {
   "cell_type": "markdown",
   "id": "c5979633-c78a-488b-b39a-da9b900c3ac5",
   "metadata": {},
   "source": [
    "https://www.kaggle.com/code/abhishek/approaching-almost-any-nlp-problem-on-kaggle\n",
    "https://www.kaggle.com/code/emirkocak/in-depth-series-sentiment-analysis-w-transformers/notebook\n",
    "https://simpletransformers.ai/about/\n",
    "https://towardsdatascience.com/multi-label-text-classification-with-xlnet-b5f5755302df\n",
    "https://medium.com/ro-codes/nlp-how-does-nltk-vader-calculate-sentiment-6c32d0f5046b"
   ]
  }
 ],
 "metadata": {
  "kernelspec": {
   "display_name": "Python 3 (ipykernel)",
   "language": "python",
   "name": "python3"
  },
  "language_info": {
   "codemirror_mode": {
    "name": "ipython",
    "version": 3
   },
   "file_extension": ".py",
   "mimetype": "text/x-python",
   "name": "python",
   "nbconvert_exporter": "python",
   "pygments_lexer": "ipython3",
   "version": "3.9.12"
  }
 },
 "nbformat": 4,
 "nbformat_minor": 5
}
